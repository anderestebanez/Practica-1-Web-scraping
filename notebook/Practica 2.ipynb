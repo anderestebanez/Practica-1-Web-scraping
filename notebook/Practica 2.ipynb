{
 "cells": [
  {
   "cell_type": "markdown",
   "metadata": {},
   "source": [
    "## Práctica 2: Limpieza y validación de los datos"
   ]
  },
  {
   "cell_type": "code",
   "execution_count": 105,
   "metadata": {},
   "outputs": [],
   "source": [
    "import pandas as pd\n",
    "import numpy as np\n",
    "import datetime\n",
    "from sklearn import preprocessing\n",
    "from scipy.stats import anderson\n",
    "from scipy.stats import fligner\n",
    "from scipy import stats\n",
    "from sklearn import linear_model\n",
    "import matplotlib.pyplot as plt\n",
    "from IPython.display import Image\n",
    "import pickle\n",
    "import requests\n",
    "import geoplotlib\n",
    "import time\n",
    "import seaborn as sns\n",
    "\n",
    "p = r'C:\\Users\\Administrador.WIN-K4PA08MDFCA\\Documents\\UOC\\Ciclo de vida de los datos\\Practica-1-Web-scraping\\\\'"
   ]
  },
  {
   "cell_type": "markdown",
   "metadata": {},
   "source": [
    "### _1. Descripción del dataset. ¿Por qué es importante y qué pregunta/problema pretende responder?_\n",
    "\n",
    "En esta práctica se intentará dar seguimiento a la primera práctica, por lo que se utilizará el Dataset creado en esta. \n",
    "El _dataset_ contiene un listado de todas las subastas judiciales y administrativas que ha habido en Catalunya desde 2016. Cada subasta contiene información sobre las normas que aplican a dicha subasta, los sujetos que participan y los bienes subastados. \n",
    "\n",
    "El objetivo del _dataset_ será: \n",
    "* Conocer donde está localizados los bienes subastados.\n",
    "* Conocer precio de venta y los factores que más impactan en el mismo."
   ]
  },
  {
   "cell_type": "markdown",
   "metadata": {},
   "source": [
    "### _2. Integración y selección de los datos de interés a analizar._"
   ]
  },
  {
   "cell_type": "markdown",
   "metadata": {},
   "source": [
    "La información de las subastas está contenida en 5 ficheros csv.\n",
    "De los 5 ficheros para el primer análisis únicamente será necesario importar 3 de los ficheros, el que tiene información general de las subastas (infoSubastas), el que tiene información de los lotes subastados (lotesSubastas) y el de las pujas (pujasSubastas).\n",
    "\n",
    "Los _datasets_ se pueden cruzar entre sí a través del campo codSubasta.\n",
    "\n",
    "Importamos los datos y mostramos las columnas que tiene cada fichero y los primeros 3 registros:"
   ]
  },
  {
   "cell_type": "markdown",
   "metadata": {},
   "source": [
    "#### 2.1 Importación de ficheros"
   ]
  },
  {
   "cell_type": "markdown",
   "metadata": {},
   "source": [
    "* **InfoSubastas**: Contiene la información principal de las subastas y campos agregados del resto de ficheros."
   ]
  },
  {
   "cell_type": "code",
   "execution_count": 2,
   "metadata": {},
   "outputs": [
    {
     "data": {
      "text/html": [
       "<div>\n",
       "<style scoped>\n",
       "    .dataframe tbody tr th:only-of-type {\n",
       "        vertical-align: middle;\n",
       "    }\n",
       "\n",
       "    .dataframe tbody tr th {\n",
       "        vertical-align: top;\n",
       "    }\n",
       "\n",
       "    .dataframe thead th {\n",
       "        text-align: right;\n",
       "    }\n",
       "</style>\n",
       "<table border=\"1\" class=\"dataframe\">\n",
       "  <thead>\n",
       "    <tr style=\"text-align: right;\">\n",
       "      <th></th>\n",
       "      <th>Campo</th>\n",
       "      <th>Descripcion</th>\n",
       "      <th>Type</th>\n",
       "      <th>Formato</th>\n",
       "      <th>Ejemplo</th>\n",
       "    </tr>\n",
       "  </thead>\n",
       "  <tbody>\n",
       "    <tr>\n",
       "      <th>0</th>\n",
       "      <td>codSubasta</td>\n",
       "      <td>código de la subasta.</td>\n",
       "      <td>str</td>\n",
       "      <td>NaN</td>\n",
       "      <td>SUB-JA-2016-3971</td>\n",
       "    </tr>\n",
       "    <tr>\n",
       "      <th>1</th>\n",
       "      <td>aut_Fax</td>\n",
       "      <td>Fax de la autoridad gestora de la subasta.</td>\n",
       "      <td>str</td>\n",
       "      <td>NaN</td>\n",
       "      <td>972219577</td>\n",
       "    </tr>\n",
       "    <tr>\n",
       "      <th>2</th>\n",
       "      <td>aut_Correo electrónico</td>\n",
       "      <td>Email de la autoridad gestora de la subasta.</td>\n",
       "      <td>str</td>\n",
       "      <td>NaN</td>\n",
       "      <td>-</td>\n",
       "    </tr>\n",
       "    <tr>\n",
       "      <th>3</th>\n",
       "      <td>Tipo de subasta</td>\n",
       "      <td>Tipo de subasta.</td>\n",
       "      <td>str</td>\n",
       "      <td>NaN</td>\n",
       "      <td>JUDICIAL EN VIA DE APREMIO</td>\n",
       "    </tr>\n",
       "    <tr>\n",
       "      <th>4</th>\n",
       "      <td>aut_Dirección</td>\n",
       "      <td>Dirección de la autoridad gestora de la subasta.</td>\n",
       "      <td>str</td>\n",
       "      <td>NaN</td>\n",
       "      <td>AV RAMON FOLCH 4-6 4-6   , 17001 GIRONA</td>\n",
       "    </tr>\n",
       "    <tr>\n",
       "      <th>5</th>\n",
       "      <td>aut_Código</td>\n",
       "      <td>Código de la autoridad gestora de la subasta.</td>\n",
       "      <td>int</td>\n",
       "      <td>NaN</td>\n",
       "      <td>1707942003</td>\n",
       "    </tr>\n",
       "    <tr>\n",
       "      <th>6</th>\n",
       "      <td>descripcion</td>\n",
       "      <td>Descripción de la subasta.</td>\n",
       "      <td>str</td>\n",
       "      <td>NaN</td>\n",
       "      <td>C. Doctor Fleming 9 2º 3ª DE Banyole</td>\n",
       "    </tr>\n",
       "    <tr>\n",
       "      <th>7</th>\n",
       "      <td>adm_NIF</td>\n",
       "      <td>NIF de la autoridad gestora de la subasta.</td>\n",
       "      <td>str</td>\n",
       "      <td>NaN</td>\n",
       "      <td>B55125827</td>\n",
       "    </tr>\n",
       "    <tr>\n",
       "      <th>8</th>\n",
       "      <td>Identificador</td>\n",
       "      <td>Identificador de la subasta. Es como el codSu...</td>\n",
       "      <td>str</td>\n",
       "      <td>NaN</td>\n",
       "      <td>SUB-JA-2016-39710</td>\n",
       "    </tr>\n",
       "    <tr>\n",
       "      <th>9</th>\n",
       "      <td>Expediente</td>\n",
       "      <td>NaN</td>\n",
       "      <td>str</td>\n",
       "      <td>NaN</td>\n",
       "      <td>1578/13</td>\n",
       "    </tr>\n",
       "    <tr>\n",
       "      <th>10</th>\n",
       "      <td>aut_Teléfono</td>\n",
       "      <td>Teléfono de la autoridad gestora.</td>\n",
       "      <td>str</td>\n",
       "      <td>NaN</td>\n",
       "      <td>972181718</td>\n",
       "    </tr>\n",
       "    <tr>\n",
       "      <th>11</th>\n",
       "      <td>Forma adjudicación</td>\n",
       "      <td>Indica si es una subasta por lotes.</td>\n",
       "      <td>str</td>\n",
       "      <td>NaN</td>\n",
       "      <td>Separada para cada lote</td>\n",
       "    </tr>\n",
       "    <tr>\n",
       "      <th>12</th>\n",
       "      <td>Valor subasta</td>\n",
       "      <td>Valor total de la subasta sumando todos los l...</td>\n",
       "      <td>currency</td>\n",
       "      <td>NaN</td>\n",
       "      <td>308183</td>\n",
       "    </tr>\n",
       "    <tr>\n",
       "      <th>13</th>\n",
       "      <td>Lotes</td>\n",
       "      <td>Número de lotes que tiene la subasta.</td>\n",
       "      <td>int</td>\n",
       "      <td>NaN</td>\n",
       "      <td>Sin lotes</td>\n",
       "    </tr>\n",
       "    <tr>\n",
       "      <th>14</th>\n",
       "      <td>Tramos entre pujas</td>\n",
       "      <td>Diferencia que tiene que haber entre una puja...</td>\n",
       "      <td>currency</td>\n",
       "      <td>NaN</td>\n",
       "      <td>Sin tramos</td>\n",
       "    </tr>\n",
       "    <tr>\n",
       "      <th>15</th>\n",
       "      <td>Fecha de conclusión</td>\n",
       "      <td>Fecha en la que concluye la subasta.</td>\n",
       "      <td>Datetime</td>\n",
       "      <td>%D-%M-%Y %H:%M:%S</td>\n",
       "      <td>29-04-2019 18:00:00 CET  (ISO: 2019-04-29T18:0...</td>\n",
       "    </tr>\n",
       "    <tr>\n",
       "      <th>16</th>\n",
       "      <td>adm_Nombre</td>\n",
       "      <td>Nombre del administrador.</td>\n",
       "      <td>str</td>\n",
       "      <td>NaN</td>\n",
       "      <td>FRADE GOBEO S.L.P</td>\n",
       "    </tr>\n",
       "    <tr>\n",
       "      <th>17</th>\n",
       "      <td>Tasación</td>\n",
       "      <td>Valor de tasación de todos los bienes de los ...</td>\n",
       "      <td>currency</td>\n",
       "      <td>NaN</td>\n",
       "      <td>No consta</td>\n",
       "    </tr>\n",
       "    <tr>\n",
       "      <th>18</th>\n",
       "      <td>adm_Localidad</td>\n",
       "      <td>Localidad del administrador judicial.</td>\n",
       "      <td>str</td>\n",
       "      <td>NaN</td>\n",
       "      <td>17001 Girona</td>\n",
       "    </tr>\n",
       "    <tr>\n",
       "      <th>19</th>\n",
       "      <td>Estado</td>\n",
       "      <td>Estado de la subasta.</td>\n",
       "      <td>str</td>\n",
       "      <td>NaN</td>\n",
       "      <td>Celebrándose</td>\n",
       "    </tr>\n",
       "    <tr>\n",
       "      <th>20</th>\n",
       "      <td>Autoridad</td>\n",
       "      <td>El juzgado encargado de gestionar la subasta.</td>\n",
       "      <td>str</td>\n",
       "      <td>NaN</td>\n",
       "      <td>JUZGADO 1ª INSTANCIA 3 - GIRONA</td>\n",
       "    </tr>\n",
       "    <tr>\n",
       "      <th>21</th>\n",
       "      <td>Importe del depósito</td>\n",
       "      <td>Importe del depósito necesario para la subast...</td>\n",
       "      <td>currency</td>\n",
       "      <td>NaN</td>\n",
       "      <td>15409.2</td>\n",
       "    </tr>\n",
       "    <tr>\n",
       "      <th>22</th>\n",
       "      <td>adm_Provincia</td>\n",
       "      <td>Provincia del administrador.</td>\n",
       "      <td>str</td>\n",
       "      <td>NaN</td>\n",
       "      <td>Gerona</td>\n",
       "    </tr>\n",
       "    <tr>\n",
       "      <th>23</th>\n",
       "      <td>Puja mínima</td>\n",
       "      <td>Puja mínima de la subasta. En caso de más de ...</td>\n",
       "      <td>currency</td>\n",
       "      <td>NaN</td>\n",
       "      <td>Sin puja mínima</td>\n",
       "    </tr>\n",
       "    <tr>\n",
       "      <th>24</th>\n",
       "      <td>Scrap</td>\n",
       "      <td>Si la subasta se ha podido scrapear en su tot...</td>\n",
       "      <td>bool</td>\n",
       "      <td>NaN</td>\n",
       "      <td>True</td>\n",
       "    </tr>\n",
       "    <tr>\n",
       "      <th>25</th>\n",
       "      <td>Anuncio BOE</td>\n",
       "      <td>BOE en el que se ha publicado el anuncio.</td>\n",
       "      <td>str</td>\n",
       "      <td>NaN</td>\n",
       "      <td>BOE-B-2019-14859</td>\n",
       "    </tr>\n",
       "    <tr>\n",
       "      <th>26</th>\n",
       "      <td>Fecha de inicio</td>\n",
       "      <td>Fecha de inicio de la subasta.</td>\n",
       "      <td>Datetime</td>\n",
       "      <td>%D-%M-%Y %H:%M:%S</td>\n",
       "      <td>09-04-2019 18:00:00 CET  (ISO: 2019-04-09T18:0...</td>\n",
       "    </tr>\n",
       "    <tr>\n",
       "      <th>27</th>\n",
       "      <td>aut_Descripción</td>\n",
       "      <td>Descripción de la autoridad gestora de la sub...</td>\n",
       "      <td>str</td>\n",
       "      <td>NaN</td>\n",
       "      <td>JUZGADO 1ª INSTANCIA 3</td>\n",
       "    </tr>\n",
       "    <tr>\n",
       "      <th>28</th>\n",
       "      <td>adm_Dirección</td>\n",
       "      <td>Dirección del administrador.</td>\n",
       "      <td>str</td>\n",
       "      <td>NaN</td>\n",
       "      <td>Plaza Josep Pla 4 1 6</td>\n",
       "    </tr>\n",
       "    <tr>\n",
       "      <th>29</th>\n",
       "      <td>Cantidad reclamada</td>\n",
       "      <td>Cantidad total reclamada al demandado.</td>\n",
       "      <td>currency</td>\n",
       "      <td>NaN</td>\n",
       "      <td>185889</td>\n",
       "    </tr>\n",
       "    <tr>\n",
       "      <th>30</th>\n",
       "      <td>Link</td>\n",
       "      <td>Link con toda la información de la subasta.</td>\n",
       "      <td>str</td>\n",
       "      <td>NaN</td>\n",
       "      <td>https://subastas.boe.es/detalleSubasta.php?idS...</td>\n",
       "    </tr>\n",
       "    <tr>\n",
       "      <th>31</th>\n",
       "      <td>numInteresados</td>\n",
       "      <td>Número de personas que están listadas en la pe...</td>\n",
       "      <td>int</td>\n",
       "      <td>NaN</td>\n",
       "      <td>5</td>\n",
       "    </tr>\n",
       "    <tr>\n",
       "      <th>32</th>\n",
       "      <td>numAcreedores</td>\n",
       "      <td>Número de acreedores de la pestaña acreedores.</td>\n",
       "      <td>int</td>\n",
       "      <td>NaN</td>\n",
       "      <td>1</td>\n",
       "    </tr>\n",
       "    <tr>\n",
       "      <th>33</th>\n",
       "      <td>totPuja</td>\n",
       "      <td>Total del importe de las pujas hechas.</td>\n",
       "      <td>float</td>\n",
       "      <td>NaN</td>\n",
       "      <td>156969.67</td>\n",
       "    </tr>\n",
       "    <tr>\n",
       "      <th>34</th>\n",
       "      <td>acreedorPrivilegiado</td>\n",
       "      <td>Indica si la puja tiene un acreedor privilegiado.</td>\n",
       "      <td>bool</td>\n",
       "      <td>NaN</td>\n",
       "      <td>False</td>\n",
       "    </tr>\n",
       "  </tbody>\n",
       "</table>\n",
       "</div>"
      ],
      "text/plain": [
       "                     Campo                                        Descripcion  \\\n",
       "0               codSubasta                              código de la subasta.   \n",
       "1                  aut_Fax         Fax de la autoridad gestora de la subasta.   \n",
       "2   aut_Correo electrónico       Email de la autoridad gestora de la subasta.   \n",
       "3          Tipo de subasta                                   Tipo de subasta.   \n",
       "4            aut_Dirección   Dirección de la autoridad gestora de la subasta.   \n",
       "5               aut_Código      Código de la autoridad gestora de la subasta.   \n",
       "6              descripcion                         Descripción de la subasta.   \n",
       "7                  adm_NIF         NIF de la autoridad gestora de la subasta.   \n",
       "8            Identificador   Identificador de la subasta. Es como el codSu...   \n",
       "9               Expediente                                                NaN   \n",
       "10            aut_Teléfono                  Teléfono de la autoridad gestora.   \n",
       "11      Forma adjudicación                Indica si es una subasta por lotes.   \n",
       "12           Valor subasta   Valor total de la subasta sumando todos los l...   \n",
       "13                   Lotes              Número de lotes que tiene la subasta.   \n",
       "14      Tramos entre pujas   Diferencia que tiene que haber entre una puja...   \n",
       "15     Fecha de conclusión               Fecha en la que concluye la subasta.   \n",
       "16              adm_Nombre                          Nombre del administrador.   \n",
       "17                Tasación   Valor de tasación de todos los bienes de los ...   \n",
       "18           adm_Localidad              Localidad del administrador judicial.   \n",
       "19                  Estado                              Estado de la subasta.   \n",
       "20               Autoridad      El juzgado encargado de gestionar la subasta.   \n",
       "21    Importe del depósito   Importe del depósito necesario para la subast...   \n",
       "22           adm_Provincia                       Provincia del administrador.   \n",
       "23             Puja mínima   Puja mínima de la subasta. En caso de más de ...   \n",
       "24                   Scrap   Si la subasta se ha podido scrapear en su tot...   \n",
       "25             Anuncio BOE          BOE en el que se ha publicado el anuncio.   \n",
       "26         Fecha de inicio                     Fecha de inicio de la subasta.   \n",
       "27         aut_Descripción   Descripción de la autoridad gestora de la sub...   \n",
       "28           adm_Dirección                       Dirección del administrador.   \n",
       "29      Cantidad reclamada             Cantidad total reclamada al demandado.   \n",
       "30                    Link        Link con toda la información de la subasta.   \n",
       "31          numInteresados  Número de personas que están listadas en la pe...   \n",
       "32           numAcreedores     Número de acreedores de la pestaña acreedores.   \n",
       "33                 totPuja             Total del importe de las pujas hechas.   \n",
       "34    acreedorPrivilegiado  Indica si la puja tiene un acreedor privilegiado.   \n",
       "\n",
       "        Type            Formato  \\\n",
       "0        str                NaN   \n",
       "1        str                NaN   \n",
       "2        str                NaN   \n",
       "3        str                NaN   \n",
       "4        str                NaN   \n",
       "5        int                NaN   \n",
       "6        str                NaN   \n",
       "7        str                NaN   \n",
       "8        str                NaN   \n",
       "9        str                NaN   \n",
       "10       str                NaN   \n",
       "11       str                NaN   \n",
       "12  currency                NaN   \n",
       "13       int                NaN   \n",
       "14  currency                NaN   \n",
       "15  Datetime  %D-%M-%Y %H:%M:%S   \n",
       "16       str                NaN   \n",
       "17  currency                NaN   \n",
       "18       str                NaN   \n",
       "19       str                NaN   \n",
       "20       str                NaN   \n",
       "21  currency                NaN   \n",
       "22       str                NaN   \n",
       "23  currency                NaN   \n",
       "24      bool                NaN   \n",
       "25       str                NaN   \n",
       "26  Datetime  %D-%M-%Y %H:%M:%S   \n",
       "27       str                NaN   \n",
       "28       str                NaN   \n",
       "29  currency                NaN   \n",
       "30       str                NaN   \n",
       "31       int                NaN   \n",
       "32       int                NaN   \n",
       "33     float                NaN   \n",
       "34      bool                NaN   \n",
       "\n",
       "                                              Ejemplo  \n",
       "0                                    SUB-JA-2016-3971  \n",
       "1                                           972219577  \n",
       "2                                                   -  \n",
       "3                          JUDICIAL EN VIA DE APREMIO  \n",
       "4             AV RAMON FOLCH 4-6 4-6   , 17001 GIRONA  \n",
       "5                                          1707942003  \n",
       "6                C. Doctor Fleming 9 2º 3ª DE Banyole  \n",
       "7                                           B55125827  \n",
       "8                                   SUB-JA-2016-39710  \n",
       "9                                             1578/13  \n",
       "10                                          972181718  \n",
       "11                            Separada para cada lote  \n",
       "12                                             308183  \n",
       "13                                          Sin lotes  \n",
       "14                                         Sin tramos  \n",
       "15  29-04-2019 18:00:00 CET  (ISO: 2019-04-29T18:0...  \n",
       "16                                  FRADE GOBEO S.L.P  \n",
       "17                                          No consta  \n",
       "18                                       17001 Girona  \n",
       "19                                       Celebrándose  \n",
       "20                    JUZGADO 1ª INSTANCIA 3 - GIRONA  \n",
       "21                                            15409.2  \n",
       "22                                             Gerona  \n",
       "23                                    Sin puja mínima  \n",
       "24                                               True  \n",
       "25                                   BOE-B-2019-14859  \n",
       "26  09-04-2019 18:00:00 CET  (ISO: 2019-04-09T18:0...  \n",
       "27                             JUZGADO 1ª INSTANCIA 3  \n",
       "28                              Plaza Josep Pla 4 1 6  \n",
       "29                                             185889  \n",
       "30  https://subastas.boe.es/detalleSubasta.php?idS...  \n",
       "31                                                  5  \n",
       "32                                                  1  \n",
       "33                                          156969.67  \n",
       "34                                              False  "
      ]
     },
     "execution_count": 2,
     "metadata": {},
     "output_type": "execute_result"
    }
   ],
   "source": [
    "pd.read_excel(p + \"pdf/dataDictionary.xlsx\", sheet_name=\"infoSubastas\")"
   ]
  },
  {
   "cell_type": "code",
   "execution_count": 3,
   "metadata": {},
   "outputs": [
    {
     "name": "stderr",
     "output_type": "stream",
     "text": [
      "C:\\ProgramData\\Anaconda3\\lib\\site-packages\\IPython\\core\\interactiveshell.py:3020: DtypeWarning: Columns (1,7,10,11,15,32) have mixed types. Specify dtype option on import or set low_memory=False.\n",
      "  interactivity=interactivity, compiler=compiler, result=result)\n"
     ]
    },
    {
     "data": {
      "text/html": [
       "<div>\n",
       "<style scoped>\n",
       "    .dataframe tbody tr th:only-of-type {\n",
       "        vertical-align: middle;\n",
       "    }\n",
       "\n",
       "    .dataframe tbody tr th {\n",
       "        vertical-align: top;\n",
       "    }\n",
       "\n",
       "    .dataframe thead th {\n",
       "        text-align: right;\n",
       "    }\n",
       "</style>\n",
       "<table border=\"1\" class=\"dataframe\">\n",
       "  <thead>\n",
       "    <tr style=\"text-align: right;\">\n",
       "      <th></th>\n",
       "      <th>codSubasta</th>\n",
       "      <th>adm_Dirección</th>\n",
       "      <th>Anuncio BOE</th>\n",
       "      <th>Lotes</th>\n",
       "      <th>Puja mínima</th>\n",
       "      <th>aut_Teléfono</th>\n",
       "      <th>aut_Dirección</th>\n",
       "      <th>adm_Localidad</th>\n",
       "      <th>Scrap</th>\n",
       "      <th>aut_Correo electrónico</th>\n",
       "      <th>...</th>\n",
       "      <th>Tasación</th>\n",
       "      <th>estado</th>\n",
       "      <th>Tramos entre pujas</th>\n",
       "      <th>totPuja</th>\n",
       "      <th>acreedorPrivilegiado</th>\n",
       "      <th>Valor subasta</th>\n",
       "      <th>adm_Provincia</th>\n",
       "      <th>Forma adjudicación</th>\n",
       "      <th>Cantidad reclamada</th>\n",
       "      <th>Unnamed: 35</th>\n",
       "    </tr>\n",
       "  </thead>\n",
       "  <tbody>\n",
       "    <tr>\n",
       "      <th>0</th>\n",
       "      <td>SUB-JA-2019-123877</td>\n",
       "      <td>NaN</td>\n",
       "      <td>BOE-B-2019-15328</td>\n",
       "      <td>2.0</td>\n",
       "      <td>0.0</td>\n",
       "      <td>934648605</td>\n",
       "      <td>CL SANTA BARBARA 64 32   , 08911 BADALONA</td>\n",
       "      <td>NaN</td>\n",
       "      <td>True</td>\n",
       "      <td>mvcliment@xij.gencat.cat</td>\n",
       "      <td>...</td>\n",
       "      <td>0</td>\n",
       "      <td>Celebrándose</td>\n",
       "      <td>1669.7</td>\n",
       "      <td>0.0</td>\n",
       "      <td>NaN</td>\n",
       "      <td>166970.86</td>\n",
       "      <td>NaN</td>\n",
       "      <td>Separada para cada lote</td>\n",
       "      <td>547.485,64 </td>\n",
       "      <td>NaN</td>\n",
       "    </tr>\n",
       "    <tr>\n",
       "      <th>1</th>\n",
       "      <td>SUB-JA-2019-123010</td>\n",
       "      <td>NaN</td>\n",
       "      <td>BOE-B-2019-15356</td>\n",
       "      <td>0.0</td>\n",
       "      <td>Sin puja mínima</td>\n",
       "      <td>936938050</td>\n",
       "      <td>PS VERDAGUER 113 113   , 08700 IGUALADA</td>\n",
       "      <td>NaN</td>\n",
       "      <td>True</td>\n",
       "      <td>mixt5.igualada@xij.gencat.cat</td>\n",
       "      <td>...</td>\n",
       "      <td>No consta</td>\n",
       "      <td>Celebrándose</td>\n",
       "      <td>3.313,71 </td>\n",
       "      <td>0.0</td>\n",
       "      <td>NaN</td>\n",
       "      <td>165.685,92 </td>\n",
       "      <td>NaN</td>\n",
       "      <td>NaN</td>\n",
       "      <td>177.572,46 </td>\n",
       "      <td>NaN</td>\n",
       "    </tr>\n",
       "    <tr>\n",
       "      <th>2</th>\n",
       "      <td>SUB-JA-2019-124079</td>\n",
       "      <td>NaN</td>\n",
       "      <td>BOE-B-2019-15624</td>\n",
       "      <td>0.0</td>\n",
       "      <td>Sin puja mínima</td>\n",
       "      <td>936932970</td>\n",
       "      <td>RB PARE ALEGRE 112 342   , 08221 TERRASSA</td>\n",
       "      <td>NaN</td>\n",
       "      <td>True</td>\n",
       "      <td>bperezma@xij.gencat.cat</td>\n",
       "      <td>...</td>\n",
       "      <td>No consta</td>\n",
       "      <td>Celebrándose</td>\n",
       "      <td>1.596,30 </td>\n",
       "      <td>0.0</td>\n",
       "      <td>NaN</td>\n",
       "      <td>79.815,00 </td>\n",
       "      <td>NaN</td>\n",
       "      <td>NaN</td>\n",
       "      <td>1,00 </td>\n",
       "      <td>NaN</td>\n",
       "    </tr>\n",
       "  </tbody>\n",
       "</table>\n",
       "<p>3 rows × 36 columns</p>\n",
       "</div>"
      ],
      "text/plain": [
       "           codSubasta adm_Dirección       Anuncio BOE  Lotes      Puja mínima  \\\n",
       "0  SUB-JA-2019-123877           NaN  BOE-B-2019-15328    2.0              0.0   \n",
       "1  SUB-JA-2019-123010           NaN  BOE-B-2019-15356    0.0  Sin puja mínima   \n",
       "2  SUB-JA-2019-124079           NaN  BOE-B-2019-15624    0.0  Sin puja mínima   \n",
       "\n",
       "  aut_Teléfono                              aut_Dirección adm_Localidad  \\\n",
       "0    934648605  CL SANTA BARBARA 64 32   , 08911 BADALONA           NaN   \n",
       "1    936938050    PS VERDAGUER 113 113   , 08700 IGUALADA           NaN   \n",
       "2    936932970  RB PARE ALEGRE 112 342   , 08221 TERRASSA           NaN   \n",
       "\n",
       "   Scrap         aut_Correo electrónico     ...       Tasación        estado  \\\n",
       "0   True       mvcliment@xij.gencat.cat     ...              0  Celebrándose   \n",
       "1   True  mixt5.igualada@xij.gencat.cat     ...      No consta  Celebrándose   \n",
       "2   True        bperezma@xij.gencat.cat     ...      No consta  Celebrándose   \n",
       "\n",
       "  Tramos entre pujas totPuja acreedorPrivilegiado Valor subasta adm_Provincia  \\\n",
       "0             1669.7     0.0                  NaN     166970.86           NaN   \n",
       "1         3.313,71      0.0                  NaN  165.685,92            NaN   \n",
       "2         1.596,30      0.0                  NaN   79.815,00            NaN   \n",
       "\n",
       "        Forma adjudicación Cantidad reclamada Unnamed: 35  \n",
       "0  Separada para cada lote       547.485,64          NaN  \n",
       "1                      NaN       177.572,46          NaN  \n",
       "2                      NaN             1,00          NaN  \n",
       "\n",
       "[3 rows x 36 columns]"
      ]
     },
     "execution_count": 3,
     "metadata": {},
     "output_type": "execute_result"
    }
   ],
   "source": [
    "infoSubastas = pd.read_csv(p + \"csv/infoSubastas.csv\", sep=\";\",encoding='latin1')\n",
    "infoSubastas.head(3)"
   ]
  },
  {
   "cell_type": "markdown",
   "metadata": {},
   "source": [
    "* **pujasSubastas**: Pujas realizadas para cada uno de los lotes y bienes de la subasta."
   ]
  },
  {
   "cell_type": "code",
   "execution_count": 4,
   "metadata": {},
   "outputs": [
    {
     "data": {
      "text/html": [
       "<div>\n",
       "<style scoped>\n",
       "    .dataframe tbody tr th:only-of-type {\n",
       "        vertical-align: middle;\n",
       "    }\n",
       "\n",
       "    .dataframe tbody tr th {\n",
       "        vertical-align: top;\n",
       "    }\n",
       "\n",
       "    .dataframe thead th {\n",
       "        text-align: right;\n",
       "    }\n",
       "</style>\n",
       "<table border=\"1\" class=\"dataframe\">\n",
       "  <thead>\n",
       "    <tr style=\"text-align: right;\">\n",
       "      <th></th>\n",
       "      <th>Campo</th>\n",
       "      <th>Descripcion</th>\n",
       "      <th>Type</th>\n",
       "      <th>Formato</th>\n",
       "      <th>Ejemplo</th>\n",
       "    </tr>\n",
       "  </thead>\n",
       "  <tbody>\n",
       "    <tr>\n",
       "      <th>0</th>\n",
       "      <td>codSubasta</td>\n",
       "      <td>Código de la subasta</td>\n",
       "      <td>str</td>\n",
       "      <td>NaN</td>\n",
       "      <td>SUB-JA-2019-123877</td>\n",
       "    </tr>\n",
       "    <tr>\n",
       "      <th>1</th>\n",
       "      <td>lote</td>\n",
       "      <td>Código del lote</td>\n",
       "      <td>int</td>\n",
       "      <td>NaN</td>\n",
       "      <td>1</td>\n",
       "    </tr>\n",
       "    <tr>\n",
       "      <th>2</th>\n",
       "      <td>Puja</td>\n",
       "      <td>Importe de la puja o indicado que no tiene puja</td>\n",
       "      <td>str</td>\n",
       "      <td>NaN</td>\n",
       "      <td>Sin puja</td>\n",
       "    </tr>\n",
       "  </tbody>\n",
       "</table>\n",
       "</div>"
      ],
      "text/plain": [
       "        Campo                                      Descripcion Type  Formato  \\\n",
       "0  codSubasta                             Código de la subasta  str      NaN   \n",
       "1        lote                                  Código del lote  int      NaN   \n",
       "2        Puja  Importe de la puja o indicado que no tiene puja  str      NaN   \n",
       "\n",
       "              Ejemplo  \n",
       "0  SUB-JA-2019-123877  \n",
       "1                   1  \n",
       "2            Sin puja  "
      ]
     },
     "execution_count": 4,
     "metadata": {},
     "output_type": "execute_result"
    }
   ],
   "source": [
    "pd.read_excel(p + \"pdf/dataDictionary.xlsx\", sheet_name=\"pujasSubastas\")"
   ]
  },
  {
   "cell_type": "code",
   "execution_count": 5,
   "metadata": {
    "scrolled": true
   },
   "outputs": [
    {
     "data": {
      "text/html": [
       "<div>\n",
       "<style scoped>\n",
       "    .dataframe tbody tr th:only-of-type {\n",
       "        vertical-align: middle;\n",
       "    }\n",
       "\n",
       "    .dataframe tbody tr th {\n",
       "        vertical-align: top;\n",
       "    }\n",
       "\n",
       "    .dataframe thead th {\n",
       "        text-align: right;\n",
       "    }\n",
       "</style>\n",
       "<table border=\"1\" class=\"dataframe\">\n",
       "  <thead>\n",
       "    <tr style=\"text-align: right;\">\n",
       "      <th></th>\n",
       "      <th>codSubasta</th>\n",
       "      <th>lote</th>\n",
       "      <th>Puja</th>\n",
       "      <th>Unnamed: 3</th>\n",
       "    </tr>\n",
       "  </thead>\n",
       "  <tbody>\n",
       "    <tr>\n",
       "      <th>0</th>\n",
       "      <td>SUB-JA-2019-123877</td>\n",
       "      <td>1</td>\n",
       "      <td>Sin puja</td>\n",
       "      <td>NaN</td>\n",
       "    </tr>\n",
       "    <tr>\n",
       "      <th>1</th>\n",
       "      <td>SUB-JA-2019-123877</td>\n",
       "      <td>2</td>\n",
       "      <td>Sin puja</td>\n",
       "      <td>NaN</td>\n",
       "    </tr>\n",
       "    <tr>\n",
       "      <th>2</th>\n",
       "      <td>SUB-JA-2019-123010</td>\n",
       "      <td>0</td>\n",
       "      <td>0</td>\n",
       "      <td>NaN</td>\n",
       "    </tr>\n",
       "  </tbody>\n",
       "</table>\n",
       "</div>"
      ],
      "text/plain": [
       "           codSubasta  lote      Puja  Unnamed: 3\n",
       "0  SUB-JA-2019-123877     1  Sin puja         NaN\n",
       "1  SUB-JA-2019-123877     2  Sin puja         NaN\n",
       "2  SUB-JA-2019-123010     0         0         NaN"
      ]
     },
     "execution_count": 5,
     "metadata": {},
     "output_type": "execute_result"
    }
   ],
   "source": [
    "pujasSubastas = pd.read_csv(p + \"csv/pujasSubastas.csv\", sep=\";\",encoding='latin1',error_bad_lines=False)\n",
    "pujasSubastas.head(3)"
   ]
  },
  {
   "cell_type": "markdown",
   "metadata": {},
   "source": [
    "* **lotesSubastas**: Información de los lotes contenidos en cada una de las subastas."
   ]
  },
  {
   "cell_type": "code",
   "execution_count": 6,
   "metadata": {},
   "outputs": [
    {
     "data": {
      "text/html": [
       "<div>\n",
       "<style scoped>\n",
       "    .dataframe tbody tr th:only-of-type {\n",
       "        vertical-align: middle;\n",
       "    }\n",
       "\n",
       "    .dataframe tbody tr th {\n",
       "        vertical-align: top;\n",
       "    }\n",
       "\n",
       "    .dataframe thead th {\n",
       "        text-align: right;\n",
       "    }\n",
       "</style>\n",
       "<table border=\"1\" class=\"dataframe\">\n",
       "  <thead>\n",
       "    <tr style=\"text-align: right;\">\n",
       "      <th></th>\n",
       "      <th>Campo</th>\n",
       "      <th>Descripcion</th>\n",
       "      <th>Type</th>\n",
       "      <th>Formato</th>\n",
       "      <th>Ejemplo</th>\n",
       "    </tr>\n",
       "  </thead>\n",
       "  <tbody>\n",
       "    <tr>\n",
       "      <th>0</th>\n",
       "      <td>codSubasta</td>\n",
       "      <td>Código de la subasta</td>\n",
       "      <td>str</td>\n",
       "      <td>NaN</td>\n",
       "      <td>SUB-JA-2019-123877</td>\n",
       "    </tr>\n",
       "    <tr>\n",
       "      <th>1</th>\n",
       "      <td>lote</td>\n",
       "      <td>Código del lote</td>\n",
       "      <td>str</td>\n",
       "      <td>NaN</td>\n",
       "      <td>Lote 1</td>\n",
       "    </tr>\n",
       "    <tr>\n",
       "      <th>2</th>\n",
       "      <td>Número de bastidor</td>\n",
       "      <td>Número de bastidor del vehículo</td>\n",
       "      <td>str</td>\n",
       "      <td>NaN</td>\n",
       "      <td>U5YHN511AFL193544</td>\n",
       "    </tr>\n",
       "    <tr>\n",
       "      <th>3</th>\n",
       "      <td>Localidad</td>\n",
       "      <td>Localidad del bien</td>\n",
       "      <td>str</td>\n",
       "      <td>NaN</td>\n",
       "      <td>L'HOSPITALET DE LLOBREGAT</td>\n",
       "    </tr>\n",
       "    <tr>\n",
       "      <th>4</th>\n",
       "      <td>Valor Subasta</td>\n",
       "      <td>Valor de subasta del lote</td>\n",
       "      <td>float</td>\n",
       "      <td>NaN</td>\n",
       "      <td>83485.4</td>\n",
       "    </tr>\n",
       "    <tr>\n",
       "      <th>5</th>\n",
       "      <td>Puja mínima</td>\n",
       "      <td>Púja mínima del lote</td>\n",
       "      <td>float</td>\n",
       "      <td>NaN</td>\n",
       "      <td>Sin puja mínima</td>\n",
       "    </tr>\n",
       "    <tr>\n",
       "      <th>6</th>\n",
       "      <td>Referencia Registral</td>\n",
       "      <td>Referencia catastral del bien inmueble</td>\n",
       "      <td>str</td>\n",
       "      <td>NaN</td>\n",
       "      <td>20160001228</td>\n",
       "    </tr>\n",
       "    <tr>\n",
       "      <th>7</th>\n",
       "      <td>Cuota</td>\n",
       "      <td>NaN</td>\n",
       "      <td>int</td>\n",
       "      <td>NaN</td>\n",
       "      <td>66</td>\n",
       "    </tr>\n",
       "    <tr>\n",
       "      <th>8</th>\n",
       "      <td>Información adicional</td>\n",
       "      <td>NaN</td>\n",
       "      <td>str</td>\n",
       "      <td>NaN</td>\n",
       "      <td>INSCRITA en el Registro de la Propiedad de Gav...</td>\n",
       "    </tr>\n",
       "    <tr>\n",
       "      <th>9</th>\n",
       "      <td>IDUFIR</td>\n",
       "      <td>Código IDUFIR del edificio</td>\n",
       "      <td>str</td>\n",
       "      <td>NaN</td>\n",
       "      <td>8086000327226</td>\n",
       "    </tr>\n",
       "    <tr>\n",
       "      <th>10</th>\n",
       "      <td>Título jurídico</td>\n",
       "      <td>Tipo jurídico de propiedad</td>\n",
       "      <td>str</td>\n",
       "      <td>NaN</td>\n",
       "      <td>PLENO DOMINIO                                 ...</td>\n",
       "    </tr>\n",
       "    <tr>\n",
       "      <th>11</th>\n",
       "      <td>Descripción</td>\n",
       "      <td>NaN</td>\n",
       "      <td>str</td>\n",
       "      <td>NaN</td>\n",
       "      <td>marca RENAULT MEGANE. matrícula B-1620-UL.</td>\n",
       "    </tr>\n",
       "    <tr>\n",
       "      <th>12</th>\n",
       "      <td>Modelo</td>\n",
       "      <td>Modelo de vehículo</td>\n",
       "      <td>str</td>\n",
       "      <td>NaN</td>\n",
       "      <td>MEGANE</td>\n",
       "    </tr>\n",
       "    <tr>\n",
       "      <th>13</th>\n",
       "      <td>Fecha de adquisición</td>\n",
       "      <td>Fecha de adquisición del vehículo</td>\n",
       "      <td>date</td>\n",
       "      <td>NaN</td>\n",
       "      <td>2015-09-02 00:00:00</td>\n",
       "    </tr>\n",
       "    <tr>\n",
       "      <th>14</th>\n",
       "      <td>Fecha de matriculación</td>\n",
       "      <td>Fecha de matriculación del vehículo</td>\n",
       "      <td>date</td>\n",
       "      <td>NaN</td>\n",
       "      <td>1998-07-22 00:00:00</td>\n",
       "    </tr>\n",
       "    <tr>\n",
       "      <th>15</th>\n",
       "      <td>Inscripción registral</td>\n",
       "      <td>NaN</td>\n",
       "      <td>str</td>\n",
       "      <td>NaN</td>\n",
       "      <td>FINCA 12.843, INSCRITA EN EL REGISTRO DE LA PR...</td>\n",
       "    </tr>\n",
       "    <tr>\n",
       "      <th>16</th>\n",
       "      <td>Vivienda habitual</td>\n",
       "      <td>Si es la vivienda habitual del actual inquilino</td>\n",
       "      <td>bool</td>\n",
       "      <td>NaN</td>\n",
       "      <td>No</td>\n",
       "    </tr>\n",
       "    <tr>\n",
       "      <th>17</th>\n",
       "      <td>Situación posesoria</td>\n",
       "      <td>Forma en la que posee el uso</td>\n",
       "      <td>str</td>\n",
       "      <td>NaN</td>\n",
       "      <td>Ocupantes con derecho de permanencia</td>\n",
       "    </tr>\n",
       "    <tr>\n",
       "      <th>18</th>\n",
       "      <td>Matrícula</td>\n",
       "      <td>Matrícula del vehículo</td>\n",
       "      <td>str</td>\n",
       "      <td>NaN</td>\n",
       "      <td>B-1620-UL</td>\n",
       "    </tr>\n",
       "    <tr>\n",
       "      <th>19</th>\n",
       "      <td>Marca</td>\n",
       "      <td>Marca del vehículo</td>\n",
       "      <td>str</td>\n",
       "      <td>NaN</td>\n",
       "      <td>RENAULT</td>\n",
       "    </tr>\n",
       "    <tr>\n",
       "      <th>20</th>\n",
       "      <td>Importe del depósito</td>\n",
       "      <td>Importe del depósito del lote</td>\n",
       "      <td>float</td>\n",
       "      <td>NaN</td>\n",
       "      <td>4174.27</td>\n",
       "    </tr>\n",
       "    <tr>\n",
       "      <th>21</th>\n",
       "      <td>Referencia catastral</td>\n",
       "      <td>Referencia catastral del inmueble</td>\n",
       "      <td>str</td>\n",
       "      <td>NaN</td>\n",
       "      <td>8083000660228</td>\n",
       "    </tr>\n",
       "    <tr>\n",
       "      <th>22</th>\n",
       "      <td>Cargas</td>\n",
       "      <td>Si el bien tiene alguna otra carga.</td>\n",
       "      <td>NaN</td>\n",
       "      <td>NaN</td>\n",
       "      <td>A DISPOSICIÓN EN LA SECRETARIA DE ESTE JUZGADO</td>\n",
       "    </tr>\n",
       "    <tr>\n",
       "      <th>23</th>\n",
       "      <td>Visitable</td>\n",
       "      <td>Si se puede visitar el bien</td>\n",
       "      <td>NaN</td>\n",
       "      <td>NaN</td>\n",
       "      <td>No consta</td>\n",
       "    </tr>\n",
       "    <tr>\n",
       "      <th>24</th>\n",
       "      <td>Dirección</td>\n",
       "      <td>Dirección del bien</td>\n",
       "      <td>NaN</td>\n",
       "      <td>NaN</td>\n",
       "      <td>MOSSEN JAUME BUSQUETS 37. PLANTA PRINCIPAL PUE...</td>\n",
       "    </tr>\n",
       "    <tr>\n",
       "      <th>25</th>\n",
       "      <td>Valor de tasación</td>\n",
       "      <td>Valor de tasación</td>\n",
       "      <td>NaN</td>\n",
       "      <td>NaN</td>\n",
       "      <td>NaN</td>\n",
       "    </tr>\n",
       "    <tr>\n",
       "      <th>26</th>\n",
       "      <td>numBienes</td>\n",
       "      <td>Número total de bienes que tiene el lote</td>\n",
       "      <td>NaN</td>\n",
       "      <td>NaN</td>\n",
       "      <td>1</td>\n",
       "    </tr>\n",
       "    <tr>\n",
       "      <th>27</th>\n",
       "      <td>Tramos entre pujas</td>\n",
       "      <td>Tramos mínimos entre las pujas del lote</td>\n",
       "      <td>NaN</td>\n",
       "      <td>NaN</td>\n",
       "      <td>1669.7</td>\n",
       "    </tr>\n",
       "    <tr>\n",
       "      <th>28</th>\n",
       "      <td>Provincia</td>\n",
       "      <td>Provincia del bien</td>\n",
       "      <td>NaN</td>\n",
       "      <td>NaN</td>\n",
       "      <td>Barcelona</td>\n",
       "    </tr>\n",
       "    <tr>\n",
       "      <th>29</th>\n",
       "      <td>Código Postal</td>\n",
       "      <td>Código postal del bien</td>\n",
       "      <td>NaN</td>\n",
       "      <td>NaN</td>\n",
       "      <td>8903</td>\n",
       "    </tr>\n",
       "    <tr>\n",
       "      <th>30</th>\n",
       "      <td>Depósito</td>\n",
       "      <td>Depósito para poder pujar</td>\n",
       "      <td>NaN</td>\n",
       "      <td>NaN</td>\n",
       "      <td>NaN</td>\n",
       "    </tr>\n",
       "    <tr>\n",
       "      <th>31</th>\n",
       "      <td>Cantidad reclamada</td>\n",
       "      <td>Cantidad total reclamada.</td>\n",
       "      <td>NaN</td>\n",
       "      <td>NaN</td>\n",
       "      <td>NaN</td>\n",
       "    </tr>\n",
       "  </tbody>\n",
       "</table>\n",
       "</div>"
      ],
      "text/plain": [
       "                     Campo                                      Descripcion  \\\n",
       "0               codSubasta                             Código de la subasta   \n",
       "1                     lote                                  Código del lote   \n",
       "2       Número de bastidor                  Número de bastidor del vehículo   \n",
       "3                Localidad                               Localidad del bien   \n",
       "4            Valor Subasta                        Valor de subasta del lote   \n",
       "5              Puja mínima                             Púja mínima del lote   \n",
       "6     Referencia Registral           Referencia catastral del bien inmueble   \n",
       "7                    Cuota                                              NaN   \n",
       "8    Información adicional                                              NaN   \n",
       "9                   IDUFIR                       Código IDUFIR del edificio   \n",
       "10         Título jurídico                       Tipo jurídico de propiedad   \n",
       "11             Descripción                                              NaN   \n",
       "12                  Modelo                               Modelo de vehículo   \n",
       "13    Fecha de adquisición                Fecha de adquisición del vehículo   \n",
       "14  Fecha de matriculación              Fecha de matriculación del vehículo   \n",
       "15   Inscripción registral                                              NaN   \n",
       "16       Vivienda habitual  Si es la vivienda habitual del actual inquilino   \n",
       "17     Situación posesoria                     Forma en la que posee el uso   \n",
       "18               Matrícula                           Matrícula del vehículo   \n",
       "19                   Marca                               Marca del vehículo   \n",
       "20    Importe del depósito                    Importe del depósito del lote   \n",
       "21    Referencia catastral                Referencia catastral del inmueble   \n",
       "22                  Cargas              Si el bien tiene alguna otra carga.   \n",
       "23               Visitable                      Si se puede visitar el bien   \n",
       "24               Dirección                               Dirección del bien   \n",
       "25       Valor de tasación                                Valor de tasación   \n",
       "26               numBienes         Número total de bienes que tiene el lote   \n",
       "27      Tramos entre pujas          Tramos mínimos entre las pujas del lote   \n",
       "28               Provincia                               Provincia del bien   \n",
       "29           Código Postal                           Código postal del bien   \n",
       "30                Depósito                        Depósito para poder pujar   \n",
       "31      Cantidad reclamada                        Cantidad total reclamada.   \n",
       "\n",
       "     Type  Formato                                            Ejemplo  \n",
       "0     str      NaN                                 SUB-JA-2019-123877  \n",
       "1     str      NaN                                             Lote 1  \n",
       "2     str      NaN                                  U5YHN511AFL193544  \n",
       "3     str      NaN                          L'HOSPITALET DE LLOBREGAT  \n",
       "4   float      NaN                                            83485.4  \n",
       "5   float      NaN                                    Sin puja mínima  \n",
       "6     str      NaN                                        20160001228  \n",
       "7     int      NaN                                                 66  \n",
       "8     str      NaN  INSCRITA en el Registro de la Propiedad de Gav...  \n",
       "9     str      NaN                                      8086000327226  \n",
       "10    str      NaN  PLENO DOMINIO                                 ...  \n",
       "11    str      NaN         marca RENAULT MEGANE. matrícula B-1620-UL.  \n",
       "12    str      NaN                                             MEGANE  \n",
       "13   date      NaN                                2015-09-02 00:00:00  \n",
       "14   date      NaN                                1998-07-22 00:00:00  \n",
       "15    str      NaN  FINCA 12.843, INSCRITA EN EL REGISTRO DE LA PR...  \n",
       "16   bool      NaN                                                 No  \n",
       "17    str      NaN               Ocupantes con derecho de permanencia  \n",
       "18    str      NaN                                          B-1620-UL  \n",
       "19    str      NaN                                            RENAULT  \n",
       "20  float      NaN                                            4174.27  \n",
       "21    str      NaN                                      8083000660228  \n",
       "22    NaN      NaN     A DISPOSICIÓN EN LA SECRETARIA DE ESTE JUZGADO  \n",
       "23    NaN      NaN                                          No consta  \n",
       "24    NaN      NaN  MOSSEN JAUME BUSQUETS 37. PLANTA PRINCIPAL PUE...  \n",
       "25    NaN      NaN                                                NaN  \n",
       "26    NaN      NaN                                                  1  \n",
       "27    NaN      NaN                                             1669.7  \n",
       "28    NaN      NaN                                          Barcelona  \n",
       "29    NaN      NaN                                               8903  \n",
       "30    NaN      NaN                                                NaN  \n",
       "31    NaN      NaN                                                NaN  "
      ]
     },
     "execution_count": 6,
     "metadata": {},
     "output_type": "execute_result"
    }
   ],
   "source": [
    "pd.read_excel(p + \"pdf/dataDictionary.xlsx\", sheet_name=\"lotesSubastas\")"
   ]
  },
  {
   "cell_type": "code",
   "execution_count": 7,
   "metadata": {
    "scrolled": false
   },
   "outputs": [
    {
     "name": "stderr",
     "output_type": "stream",
     "text": [
      "b'Skipping line 15973: expected 33 fields, saw 36\\n'\n",
      "C:\\ProgramData\\Anaconda3\\lib\\site-packages\\IPython\\core\\interactiveshell.py:3020: DtypeWarning: Columns (9) have mixed types. Specify dtype option on import or set low_memory=False.\n",
      "  interactivity=interactivity, compiler=compiler, result=result)\n"
     ]
    },
    {
     "data": {
      "text/html": [
       "<div>\n",
       "<style scoped>\n",
       "    .dataframe tbody tr th:only-of-type {\n",
       "        vertical-align: middle;\n",
       "    }\n",
       "\n",
       "    .dataframe tbody tr th {\n",
       "        vertical-align: top;\n",
       "    }\n",
       "\n",
       "    .dataframe thead th {\n",
       "        text-align: right;\n",
       "    }\n",
       "</style>\n",
       "<table border=\"1\" class=\"dataframe\">\n",
       "  <thead>\n",
       "    <tr style=\"text-align: right;\">\n",
       "      <th></th>\n",
       "      <th>codSubasta</th>\n",
       "      <th>lote</th>\n",
       "      <th>Número de bastidor</th>\n",
       "      <th>Localidad</th>\n",
       "      <th>Valor Subasta</th>\n",
       "      <th>Puja mínima</th>\n",
       "      <th>Referencia Registral</th>\n",
       "      <th>Cuota</th>\n",
       "      <th>Información adicional</th>\n",
       "      <th>IDUFIR</th>\n",
       "      <th>...</th>\n",
       "      <th>Visitable</th>\n",
       "      <th>Dirección</th>\n",
       "      <th>Valor de tasación</th>\n",
       "      <th>numBienes</th>\n",
       "      <th>Tramos entre pujas</th>\n",
       "      <th>Provincia</th>\n",
       "      <th>Código Postal</th>\n",
       "      <th>Depósito</th>\n",
       "      <th>Cantidad reclamada</th>\n",
       "      <th>Unnamed: 32</th>\n",
       "    </tr>\n",
       "  </thead>\n",
       "  <tbody>\n",
       "    <tr>\n",
       "      <th>0</th>\n",
       "      <td>SUB-JA-2019-123877</td>\n",
       "      <td>Lote 1</td>\n",
       "      <td>NaN</td>\n",
       "      <td>L'HOSPITALET DE LLOBREGAT</td>\n",
       "      <td>83.485,43 </td>\n",
       "      <td>Sin puja mínima</td>\n",
       "      <td>NaN</td>\n",
       "      <td>NaN</td>\n",
       "      <td>NaN</td>\n",
       "      <td>NaN</td>\n",
       "      <td>...</td>\n",
       "      <td>No consta</td>\n",
       "      <td>MOSSEN JAUME BUSQUETS 37. PLANTA PRINCIPAL PUE...</td>\n",
       "      <td>NaN</td>\n",
       "      <td>1.0</td>\n",
       "      <td>1.669,70 </td>\n",
       "      <td>Barcelona</td>\n",
       "      <td>8903.0</td>\n",
       "      <td>NaN</td>\n",
       "      <td>NaN</td>\n",
       "      <td>NaN</td>\n",
       "    </tr>\n",
       "    <tr>\n",
       "      <th>1</th>\n",
       "      <td>SUB-JA-2019-123877</td>\n",
       "      <td>Lote 2</td>\n",
       "      <td>NaN</td>\n",
       "      <td>L'HOSPITALET DE LLOBREGAT</td>\n",
       "      <td>83.485,43 </td>\n",
       "      <td>Sin puja mínima</td>\n",
       "      <td>NaN</td>\n",
       "      <td>NaN</td>\n",
       "      <td>NaN</td>\n",
       "      <td>NaN</td>\n",
       "      <td>...</td>\n",
       "      <td>No consta</td>\n",
       "      <td>MOSSEN JAUME BUSQUESTS, 37, PLANTA 2ª PUERTA 2ª</td>\n",
       "      <td>NaN</td>\n",
       "      <td>1.0</td>\n",
       "      <td>1.669,70 </td>\n",
       "      <td>Barcelona</td>\n",
       "      <td>8903.0</td>\n",
       "      <td>NaN</td>\n",
       "      <td>NaN</td>\n",
       "      <td>NaN</td>\n",
       "    </tr>\n",
       "    <tr>\n",
       "      <th>2</th>\n",
       "      <td>SUB-JA-2019-123010</td>\n",
       "      <td>Lote 1</td>\n",
       "      <td>NaN</td>\n",
       "      <td>Vilanova del Camí</td>\n",
       "      <td>NaN</td>\n",
       "      <td>Sin puja mínima</td>\n",
       "      <td>NaN</td>\n",
       "      <td>NaN</td>\n",
       "      <td>NaN</td>\n",
       "      <td>NaN</td>\n",
       "      <td>...</td>\n",
       "      <td>No consta</td>\n",
       "      <td>calle Mayor, 14</td>\n",
       "      <td>No consta</td>\n",
       "      <td>NaN</td>\n",
       "      <td>3.313,71 </td>\n",
       "      <td>Barcelona</td>\n",
       "      <td>8788.0</td>\n",
       "      <td>NaN</td>\n",
       "      <td>NaN</td>\n",
       "      <td>NaN</td>\n",
       "    </tr>\n",
       "  </tbody>\n",
       "</table>\n",
       "<p>3 rows × 33 columns</p>\n",
       "</div>"
      ],
      "text/plain": [
       "           codSubasta    lote Número de bastidor                  Localidad  \\\n",
       "0  SUB-JA-2019-123877  Lote 1                NaN  L'HOSPITALET DE LLOBREGAT   \n",
       "1  SUB-JA-2019-123877  Lote 2                NaN  L'HOSPITALET DE LLOBREGAT   \n",
       "2  SUB-JA-2019-123010  Lote 1                NaN          Vilanova del Camí   \n",
       "\n",
       "  Valor Subasta      Puja mínima Referencia Registral  Cuota  \\\n",
       "0   83.485,43   Sin puja mínima                  NaN    NaN   \n",
       "1   83.485,43   Sin puja mínima                  NaN    NaN   \n",
       "2           NaN  Sin puja mínima                  NaN    NaN   \n",
       "\n",
       "  Información adicional IDUFIR     ...      Visitable  \\\n",
       "0                   NaN    NaN     ...      No consta   \n",
       "1                   NaN    NaN     ...      No consta   \n",
       "2                   NaN    NaN     ...      No consta   \n",
       "\n",
       "                                           Dirección Valor de tasación  \\\n",
       "0  MOSSEN JAUME BUSQUETS 37. PLANTA PRINCIPAL PUE...               NaN   \n",
       "1    MOSSEN JAUME BUSQUESTS, 37, PLANTA 2ª PUERTA 2ª               NaN   \n",
       "2                                    calle Mayor, 14         No consta   \n",
       "\n",
       "  numBienes Tramos entre pujas  Provincia Código Postal Depósito  \\\n",
       "0       1.0         1.669,70   Barcelona        8903.0      NaN   \n",
       "1       1.0         1.669,70   Barcelona        8903.0      NaN   \n",
       "2       NaN         3.313,71   Barcelona        8788.0      NaN   \n",
       "\n",
       "  Cantidad reclamada Unnamed: 32  \n",
       "0                NaN         NaN  \n",
       "1                NaN         NaN  \n",
       "2                NaN         NaN  \n",
       "\n",
       "[3 rows x 33 columns]"
      ]
     },
     "execution_count": 7,
     "metadata": {},
     "output_type": "execute_result"
    }
   ],
   "source": [
    "lotesSubastas = pd.read_csv(p + \"csv/lotesSubastas.csv\", sep=\";\",encoding='latin1',error_bad_lines=False)\n",
    "lotesSubastas.head(3)"
   ]
  },
  {
   "cell_type": "markdown",
   "metadata": {},
   "source": [
    "#### 2.2 Selección de datos de interés"
   ]
  },
  {
   "cell_type": "markdown",
   "metadata": {},
   "source": [
    "Únicamente seleccionaremos las subastas de bienes inmuebles. Para ello:"
   ]
  },
  {
   "cell_type": "markdown",
   "metadata": {},
   "source": [
    "* Descartamos los registros con número de bastidor, son vehículos:"
   ]
  },
  {
   "cell_type": "code",
   "execution_count": 8,
   "metadata": {},
   "outputs": [
    {
     "name": "stdout",
     "output_type": "stream",
     "text": [
      "¿Número bastidos informado?\n"
     ]
    },
    {
     "data": {
      "text/html": [
       "<div>\n",
       "<style scoped>\n",
       "    .dataframe tbody tr th:only-of-type {\n",
       "        vertical-align: middle;\n",
       "    }\n",
       "\n",
       "    .dataframe tbody tr th {\n",
       "        vertical-align: top;\n",
       "    }\n",
       "\n",
       "    .dataframe thead th {\n",
       "        text-align: right;\n",
       "    }\n",
       "</style>\n",
       "<table border=\"1\" class=\"dataframe\">\n",
       "  <thead>\n",
       "    <tr style=\"text-align: right;\">\n",
       "      <th></th>\n",
       "      <th>codSubasta</th>\n",
       "    </tr>\n",
       "    <tr>\n",
       "      <th>Número de bastidor</th>\n",
       "      <th></th>\n",
       "    </tr>\n",
       "  </thead>\n",
       "  <tbody>\n",
       "    <tr>\n",
       "      <th>False</th>\n",
       "      <td>29233</td>\n",
       "    </tr>\n",
       "    <tr>\n",
       "      <th>True</th>\n",
       "      <td>122</td>\n",
       "    </tr>\n",
       "  </tbody>\n",
       "</table>\n",
       "</div>"
      ],
      "text/plain": [
       "                    codSubasta\n",
       "Número de bastidor            \n",
       "False                    29233\n",
       "True                       122"
      ]
     },
     "execution_count": 8,
     "metadata": {},
     "output_type": "execute_result"
    }
   ],
   "source": [
    "print(\"¿Número bastidos informado?\")\n",
    "lotesSubastas.pivot_table(values=\"codSubasta\",index=[lotesSubastas[\"Número de bastidor\"].isnull()==False],aggfunc=\"count\")"
   ]
  },
  {
   "cell_type": "markdown",
   "metadata": {},
   "source": [
    "* Descartamos los registros sin dirección. Según la información adicional se trata de participaciones en empresas"
   ]
  },
  {
   "cell_type": "code",
   "execution_count": 9,
   "metadata": {},
   "outputs": [
    {
     "name": "stdout",
     "output_type": "stream",
     "text": [
      "¿Dirección informada?\n"
     ]
    },
    {
     "data": {
      "text/html": [
       "<div>\n",
       "<style scoped>\n",
       "    .dataframe tbody tr th:only-of-type {\n",
       "        vertical-align: middle;\n",
       "    }\n",
       "\n",
       "    .dataframe tbody tr th {\n",
       "        vertical-align: top;\n",
       "    }\n",
       "\n",
       "    .dataframe thead th {\n",
       "        text-align: right;\n",
       "    }\n",
       "</style>\n",
       "<table border=\"1\" class=\"dataframe\">\n",
       "  <thead>\n",
       "    <tr style=\"text-align: right;\">\n",
       "      <th></th>\n",
       "      <th>codSubasta</th>\n",
       "    </tr>\n",
       "    <tr>\n",
       "      <th>Dirección</th>\n",
       "      <th></th>\n",
       "    </tr>\n",
       "  </thead>\n",
       "  <tbody>\n",
       "    <tr>\n",
       "      <th>False</th>\n",
       "      <td>626</td>\n",
       "    </tr>\n",
       "    <tr>\n",
       "      <th>True</th>\n",
       "      <td>28729</td>\n",
       "    </tr>\n",
       "  </tbody>\n",
       "</table>\n",
       "</div>"
      ],
      "text/plain": [
       "           codSubasta\n",
       "Dirección            \n",
       "False             626\n",
       "True            28729"
      ]
     },
     "execution_count": 9,
     "metadata": {},
     "output_type": "execute_result"
    }
   ],
   "source": [
    "print(\"¿Dirección informada?\")\n",
    "lotesSubastas.pivot_table(values=\"codSubasta\",index=[lotesSubastas[\"Dirección\"].isnull()==False],aggfunc=\"count\")"
   ]
  },
  {
   "cell_type": "code",
   "execution_count": 10,
   "metadata": {},
   "outputs": [
    {
     "name": "stdout",
     "output_type": "stream",
     "text": [
      "Número de subastas final: 28729\n"
     ]
    }
   ],
   "source": [
    "lotesSubastas = lotesSubastas[lotesSubastas[\"Dirección\"].isnull()==False & lotesSubastas[\"Número de bastidor\"].isnull()]\n",
    "infoSubastas = infoSubastas[infoSubastas[\"codSubasta\"].isin(lotesSubastas['codSubasta'])]\n",
    "pujasSubastas = pujasSubastas[pujasSubastas[\"codSubasta\"].isin(pujasSubastas['codSubasta'])]\n",
    "print(\"Número de subastas final: %d\"%(len(lotesSubastas)))"
   ]
  },
  {
   "cell_type": "markdown",
   "metadata": {},
   "source": [
    "#### 2.3 Integración de los datos\n",
    "\n",
    "La unión de los _dataset_ se deja para el final de la limpieza, ya que durante el proceso algunos factores pueden ser descartados o sustituidos por otros.\n",
    "\n",
    "Por ejemplo, el valor de la subasta se deberá analizar si es mejor utilizando agregado a nivel subasta o desagregado por lote."
   ]
  },
  {
   "cell_type": "markdown",
   "metadata": {},
   "source": [
    "### _3. Limpieza de los datos._\n",
    "\n",
    "#### _3.1. ¿Los datos contienen ceros o elementos vacíos? ¿Cómo gestionarías cada uno de estos casos?_\n"
   ]
  },
  {
   "cell_type": "markdown",
   "metadata": {},
   "source": [
    "El _dataset_ contiene multiples campos con ceros o vacíos. Por lo que hacemos un primer análisis de la tabla identificando ceros y valores nulos. \n",
    "Luego analizamos campo a campo cada uno de los 3 _datasets_ aplicando la corrección correspondiente."
   ]
  },
  {
   "cell_type": "code",
   "execution_count": 11,
   "metadata": {},
   "outputs": [
    {
     "name": "stdout",
     "output_type": "stream",
     "text": [
      "El campo codSubasta, de tipo str, tiene 0 nulos\n",
      "El campo adm_Dirección, de tipo numeric, tiene 15949 nulos y 0 ceros\n",
      "El campo Anuncio BOE, de tipo str, tiene 0 nulos\n",
      "El campo Lotes, de tipo numeric, tiene 0 nulos y 13531 ceros\n",
      "El campo Puja mínima, de tipo str, tiene 0 nulos\n",
      "El campo aut_Teléfono, de tipo str, tiene 0 nulos\n",
      "El campo aut_Dirección, de tipo str, tiene 0 nulos\n",
      "El campo adm_Localidad, de tipo numeric, tiene 15949 nulos y 0 ceros\n",
      "El campo Scrap, de tipo numeric, tiene 0 nulos y 0 ceros\n",
      "El campo aut_Correo electrónico, de tipo str, tiene 0 nulos\n",
      "El campo adm_Nombre, de tipo numeric, tiene 15949 nulos y 0 ceros\n",
      "El campo aut_Código, de tipo str, tiene 0 nulos\n",
      "El campo aut_Fax, de tipo str, tiene 0 nulos\n",
      "El campo link, de tipo str, tiene 0 nulos\n",
      "El campo descripcion, de tipo str, tiene 5 nulos\n",
      "El campo adm_NIF, de tipo numeric, tiene 15949 nulos y 0 ceros\n",
      "El campo Identificador, de tipo str, tiene 0 nulos\n",
      "El campo Fecha de conclusión, de tipo str, tiene 1682 nulos\n",
      "El campo Importe del depósito, de tipo str, tiene 0 nulos\n",
      "El campo Fecha de inicio, de tipo str, tiene 1682 nulos\n",
      "El campo expediente, de tipo str, tiene 741 nulos\n",
      "El campo aut_Descripción, de tipo str, tiene 0 nulos\n",
      "El campo Tipo de subasta, de tipo str, tiene 0 nulos\n",
      "El campo numInteresados, de tipo numeric, tiene 16047 nulos y 0 ceros\n",
      "El campo numAcreedores, de tipo numeric, tiene 2627 nulos y 0 ceros\n",
      "El campo autoridad, de tipo str, tiene 0 nulos\n",
      "El campo Tasación, de tipo str, tiene 0 nulos\n",
      "El campo estado, de tipo str, tiene 0 nulos\n",
      "El campo Tramos entre pujas, de tipo str, tiene 0 nulos\n",
      "El campo totPuja, de tipo numeric, tiene 2 nulos y 12938 ceros\n",
      "El campo acreedorPrivilegiado, de tipo numeric, tiene 2627 nulos y 13406 ceros\n",
      "El campo Valor subasta, de tipo str, tiene 0 nulos\n",
      "El campo adm_Provincia, de tipo numeric, tiene 15949 nulos y 0 ceros\n",
      "El campo Forma adjudicación, de tipo numeric, tiene 13530 nulos y 0 ceros\n",
      "El campo Cantidad reclamada, de tipo str, tiene 73 nulos\n",
      "El campo Unnamed: 35, de tipo numeric, tiene 16069 nulos y 0 ceros\n"
     ]
    }
   ],
   "source": [
    "for col in infoSubastas.columns:\n",
    "    if type(infoSubastas[col][1])==str:\n",
    "        print(\"El campo %s, de tipo str, tiene %d nulos\"%(col,len(infoSubastas[infoSubastas[col].isnull()])))\n",
    "    else:\n",
    "        print(\"El campo %s, de tipo numeric, tiene %d nulos y %d ceros\"%(col,len(infoSubastas[infoSubastas[col].isnull()]),len(infoSubastas[infoSubastas[col]==0])))"
   ]
  },
  {
   "cell_type": "markdown",
   "metadata": {},
   "source": [
    "* **Acreedor privilegiado**: En caso de acreedor prilegiado diferente a True consideramos que el False."
   ]
  },
  {
   "cell_type": "code",
   "execution_count": 12,
   "metadata": {},
   "outputs": [],
   "source": [
    "infoSubastas['acreedorPrivilegiado'].loc[infoSubastas['acreedorPrivilegiado']!=True] = False"
   ]
  },
  {
   "cell_type": "markdown",
   "metadata": {},
   "source": [
    "* **Lotes**: Es el número de lotes de cada subastas, y tiene muchos valores igual a 0. El valor igual a 0 significa que no es por lotes, ya que solo tiene uno. Modificamos los valores por 1"
   ]
  },
  {
   "cell_type": "code",
   "execution_count": 13,
   "metadata": {
    "scrolled": true
   },
   "outputs": [
    {
     "data": {
      "text/plain": [
       "Lotes\n",
       "1.0     13531\n",
       "2.0      1276\n",
       "3.0       387\n",
       "4.0       207\n",
       "5.0       112\n",
       "6.0        74\n",
       "7.0        58\n",
       "8.0        52\n",
       "9.0        44\n",
       "10.0       28\n",
       "Name: Lotes, dtype: int64"
      ]
     },
     "execution_count": 13,
     "metadata": {},
     "output_type": "execute_result"
    }
   ],
   "source": [
    "infoSubastas[\"Lotes\"].loc[infoSubastas.Lotes==0] = 1\n",
    "infoSubastas.groupby(\"Lotes\")['Lotes'].count()[:10]"
   ]
  },
  {
   "cell_type": "markdown",
   "metadata": {},
   "source": [
    "* **Puja mínima**: En muchas subastas no existe puja mínima. En estos casos el valor que está tomando es \"Sin puja mínima\". Se debe convertir el campo a numérico pasando los valores sin puja a nulos. Ya que el importe no existe, no es ni desconocido ni cero."
   ]
  },
  {
   "cell_type": "code",
   "execution_count": 14,
   "metadata": {},
   "outputs": [],
   "source": [
    "# infoSubastas['Puja mínima'] = infoSubastas['Puja mínima'].map(lambda:if float)\n",
    "def cleanPujaMin(pujaMin):\n",
    "    if type(pujaMin) == float:\n",
    "        return pujaMin\n",
    "    if type(pujaMin) == int:\n",
    "        return float(pujaMin)\n",
    "    elif (pujaMin in ['Sin puja mínima','No consta']):\n",
    "        return np.nan\n",
    "    else:\n",
    "        return float(pujaMin.replace(\" \\x80\",\"\").replace(\".\",\"\").replace(\",\",\".\"))\n",
    "    \n",
    "infoSubastas['Puja mínima'] = infoSubastas['Puja mínima'].map(cleanPujaMin)"
   ]
  },
  {
   "cell_type": "code",
   "execution_count": 15,
   "metadata": {},
   "outputs": [
    {
     "name": "stdout",
     "output_type": "stream",
     "text": [
      "Eliminamos los que supere el quartile 95, con el objetivo de ver mejor los valores no extremos\n"
     ]
    },
    {
     "data": {
      "text/plain": [
       "<matplotlib.axes._subplots.AxesSubplot at 0x29a4d968908>"
      ]
     },
     "execution_count": 15,
     "metadata": {},
     "output_type": "execute_result"
    },
    {
     "data": {
      "image/png": "[encoded data removed]",
      "text/plain": [
       "<Figure size 432x288 with 1 Axes>"
      ]
     },
     "metadata": {
      "needs_background": "light"
     },
     "output_type": "display_data"
    }
   ],
   "source": [
    "print(\"Eliminamos los que supere el quartile 95, con el objetivo de ver mejor los valores no extremos\")\n",
    "infoSubastas[(infoSubastas['Puja mínima'] > 0.0) & (infoSubastas['Puja mínima']<infoSubastas['Puja mínima'].quantile(0.95))]['Puja mínima'].hist(bins=20)"
   ]
  },
  {
   "cell_type": "markdown",
   "metadata": {},
   "source": [
    "* **Importe del depósito**: Tiene formato alfanumérico. Se le modifica el formato a numérico y en caso de nulos, se le mantiene, ya que podría no haber importe de depósito."
   ]
  },
  {
   "cell_type": "code",
   "execution_count": 16,
   "metadata": {},
   "outputs": [],
   "source": [
    "def cleanImporDep(imporDep):\n",
    "    if type(imporDep)==float:\n",
    "        return imporDep\n",
    "    elif \",\" not in imporDep:\n",
    "        return float(imporDep)\n",
    "    else:\n",
    "        try:\n",
    "            return float(imporDep.replace(\" \\x80\",\"\").replace(\".\",\"\").replace(\",\",\".\"))\n",
    "        except:\n",
    "            return np.NaN\n",
    "    \n",
    "infoSubastas['Importe del depósito'] = infoSubastas['Importe del depósito'].map(cleanImporDep)"
   ]
  },
  {
   "cell_type": "code",
   "execution_count": 17,
   "metadata": {
    "scrolled": true
   },
   "outputs": [
    {
     "data": {
      "text/plain": [
       "<matplotlib.axes._subplots.AxesSubplot at 0x29a5084b588>"
      ]
     },
     "execution_count": 17,
     "metadata": {},
     "output_type": "execute_result"
    },
    {
     "data": {
      "image/png": "[encoded data removed]",
      "text/plain": [
       "<Figure size 432x288 with 1 Axes>"
      ]
     },
     "metadata": {
      "needs_background": "light"
     },
     "output_type": "display_data"
    }
   ],
   "source": [
    "infoSubastas['Importe del depósito'][(0<infoSubastas['Importe del depósito']) & (infoSubastas['Importe del depósito']<infoSubastas['Importe del depósito'].quantile(0.95))].hist(bins=100)"
   ]
  },
  {
   "cell_type": "markdown",
   "metadata": {},
   "source": [
    "* **totPujas**: Revisamos que no haya valores nulos en el total de las pujas"
   ]
  },
  {
   "cell_type": "code",
   "execution_count": 18,
   "metadata": {},
   "outputs": [
    {
     "data": {
      "text/html": [
       "<div>\n",
       "<style scoped>\n",
       "    .dataframe tbody tr th:only-of-type {\n",
       "        vertical-align: middle;\n",
       "    }\n",
       "\n",
       "    .dataframe tbody tr th {\n",
       "        vertical-align: top;\n",
       "    }\n",
       "\n",
       "    .dataframe thead tr th {\n",
       "        text-align: left;\n",
       "    }\n",
       "\n",
       "    .dataframe thead tr:last-of-type th {\n",
       "        text-align: right;\n",
       "    }\n",
       "</style>\n",
       "<table border=\"1\" class=\"dataframe\">\n",
       "  <thead>\n",
       "    <tr>\n",
       "      <th></th>\n",
       "      <th>count</th>\n",
       "      <th>sum</th>\n",
       "      <th>mean</th>\n",
       "    </tr>\n",
       "    <tr>\n",
       "      <th></th>\n",
       "      <th>totPuja</th>\n",
       "      <th>totPuja</th>\n",
       "      <th>totPuja</th>\n",
       "    </tr>\n",
       "    <tr>\n",
       "      <th>totPuja</th>\n",
       "      <th></th>\n",
       "      <th></th>\n",
       "      <th></th>\n",
       "    </tr>\n",
       "  </thead>\n",
       "  <tbody>\n",
       "    <tr>\n",
       "      <th>False</th>\n",
       "      <td>12938</td>\n",
       "      <td>0.0</td>\n",
       "      <td>0.000000</td>\n",
       "    </tr>\n",
       "    <tr>\n",
       "      <th>True</th>\n",
       "      <td>3129</td>\n",
       "      <td>498578831.3</td>\n",
       "      <td>159341.269191</td>\n",
       "    </tr>\n",
       "  </tbody>\n",
       "</table>\n",
       "</div>"
      ],
      "text/plain": [
       "          count          sum           mean\n",
       "        totPuja      totPuja        totPuja\n",
       "totPuja                                    \n",
       "False     12938          0.0       0.000000\n",
       "True       3129  498578831.3  159341.269191"
      ]
     },
     "execution_count": 18,
     "metadata": {},
     "output_type": "execute_result"
    }
   ],
   "source": [
    "infoSubastas.pivot_table(values=\"totPuja\", index=[infoSubastas[\"totPuja\"]>0], aggfunc=[\"count\",\"sum\",\"mean\"])"
   ]
  },
  {
   "cell_type": "code",
   "execution_count": 19,
   "metadata": {},
   "outputs": [
    {
     "data": {
      "text/plain": [
       "<matplotlib.axes._subplots.AxesSubplot at 0x29a5116feb8>"
      ]
     },
     "execution_count": 19,
     "metadata": {},
     "output_type": "execute_result"
    },
    {
     "data": {
      "image/png": "[encoded data removed]",
      "text/plain": [
       "<Figure size 432x288 with 1 Axes>"
      ]
     },
     "metadata": {
      "needs_background": "light"
     },
     "output_type": "display_data"
    }
   ],
   "source": [
    "infoSubastas[\"totPuja\"][(infoSubastas[\"totPuja\"]>0) & (infoSubastas[\"totPuja\"] < infoSubastas[\"totPuja\"].quantile(0.99))].hist()"
   ]
  },
  {
   "cell_type": "markdown",
   "metadata": {},
   "source": [
    "* **Tasación**: Convertimos la tasación en aquellos casos en los que no sea nulo a numérico. Cuando indica 'No consta' lo convertimos a vacío ya que no existe."
   ]
  },
  {
   "cell_type": "code",
   "execution_count": 20,
   "metadata": {},
   "outputs": [
    {
     "data": {
      "text/plain": [
       "<matplotlib.axes._subplots.AxesSubplot at 0x29a4e633320>"
      ]
     },
     "execution_count": 20,
     "metadata": {},
     "output_type": "execute_result"
    },
    {
     "data": {
      "image/png": "[encoded data removed]",
      "text/plain": [
       "<Figure size 432x288 with 1 Axes>"
      ]
     },
     "metadata": {
      "needs_background": "light"
     },
     "output_type": "display_data"
    }
   ],
   "source": [
    "def cleanTasacion(tasacion):\n",
    "    if type(tasacion)==float:\n",
    "        return tasacion\n",
    "    elif tasacion==\"No consta\":\n",
    "        return None\n",
    "    elif \",\" not in tasacion:\n",
    "        return float(tasacion)\n",
    "    else:\n",
    "        return float(tasacion.replace(\" \\x80\",\"\").replace(\".\",\"\").replace(\",\",\".\"))\n",
    "    \n",
    "infoSubastas[\"Tasación\"] = infoSubastas[\"Tasación\"].map(cleanTasacion)\n",
    "\n",
    "infoSubastas[\"Tasación\"].where((infoSubastas[\"Tasación\"]>0) & (infoSubastas[\"Tasación\"]<infoSubastas[\"Tasación\"].quantile(0.95))).hist()"
   ]
  },
  {
   "cell_type": "markdown",
   "metadata": {},
   "source": [
    "* **Tramos**: Tramos entre subastas. Lo convertimos a numérico y si indica \"Sin tramo\" lo pasamos a vacío."
   ]
  },
  {
   "cell_type": "code",
   "execution_count": 21,
   "metadata": {},
   "outputs": [
    {
     "data": {
      "text/plain": [
       "<matplotlib.axes._subplots.AxesSubplot at 0x29a4e5881d0>"
      ]
     },
     "execution_count": 21,
     "metadata": {},
     "output_type": "execute_result"
    },
    {
     "data": {
      "image/png": "[encoded data removed]",
      "text/plain": [
       "<Figure size 432x288 with 1 Axes>"
      ]
     },
     "metadata": {
      "needs_background": "light"
     },
     "output_type": "display_data"
    }
   ],
   "source": [
    "def cleanTramos(tramos):\n",
    "    if type(tramos)==float:\n",
    "        return tramos\n",
    "    elif tramos==\"Sin tramos\":\n",
    "        return None\n",
    "    elif \",\" not in tramos:\n",
    "        return float(tramos)\n",
    "    else:\n",
    "        return float(tramos.replace(\" \\x80\",\"\").replace(\".\",\"\").replace(\",\",\".\"))\n",
    "    \n",
    "infoSubastas[\"Tramos entre pujas\"] = infoSubastas[\"Tramos entre pujas\"].map(cleanTramos)\n",
    "infoSubastas[\"Tramos entre pujas\"].where((infoSubastas[\"Tramos entre pujas\"]>0) & (infoSubastas[\"Tramos entre pujas\"]<infoSubastas[\"Tramos entre pujas\"].quantile(0.95))).hist()"
   ]
  },
  {
   "cell_type": "markdown",
   "metadata": {},
   "source": [
    "* **Valor subasta**: Valor de la subastas. Lo convertimos a numérico y si indica \"No consta\" lo pasamos a vacío."
   ]
  },
  {
   "cell_type": "code",
   "execution_count": 22,
   "metadata": {},
   "outputs": [
    {
     "name": "stdout",
     "output_type": "stream",
     "text": [
      "¿Valor de la subasta nulo?\n"
     ]
    },
    {
     "data": {
      "text/html": [
       "<div>\n",
       "<style scoped>\n",
       "    .dataframe tbody tr th:only-of-type {\n",
       "        vertical-align: middle;\n",
       "    }\n",
       "\n",
       "    .dataframe tbody tr th {\n",
       "        vertical-align: top;\n",
       "    }\n",
       "\n",
       "    .dataframe thead th {\n",
       "        text-align: right;\n",
       "    }\n",
       "</style>\n",
       "<table border=\"1\" class=\"dataframe\">\n",
       "  <thead>\n",
       "    <tr style=\"text-align: right;\">\n",
       "      <th></th>\n",
       "      <th>codSubasta</th>\n",
       "    </tr>\n",
       "    <tr>\n",
       "      <th>Valor subasta</th>\n",
       "      <th></th>\n",
       "    </tr>\n",
       "  </thead>\n",
       "  <tbody>\n",
       "    <tr>\n",
       "      <th>False</th>\n",
       "      <td>16056</td>\n",
       "    </tr>\n",
       "    <tr>\n",
       "      <th>True</th>\n",
       "      <td>13</td>\n",
       "    </tr>\n",
       "  </tbody>\n",
       "</table>\n",
       "</div>"
      ],
      "text/plain": [
       "               codSubasta\n",
       "Valor subasta            \n",
       "False               16056\n",
       "True                   13"
      ]
     },
     "execution_count": 22,
     "metadata": {},
     "output_type": "execute_result"
    }
   ],
   "source": [
    "print(\"¿Valor de la subasta nulo?\")\n",
    "infoSubastas.pivot_table(values=\"codSubasta\", index=[infoSubastas[\"Valor subasta\"]=='No consta'], aggfunc=\"count\")"
   ]
  },
  {
   "cell_type": "code",
   "execution_count": 23,
   "metadata": {},
   "outputs": [
    {
     "data": {
      "text/plain": [
       "<matplotlib.axes._subplots.AxesSubplot at 0x29a4e5a6668>"
      ]
     },
     "execution_count": 23,
     "metadata": {},
     "output_type": "execute_result"
    },
    {
     "data": {
      "image/png": "[encoded data removed]",
      "text/plain": [
       "<Figure size 432x288 with 1 Axes>"
      ]
     },
     "metadata": {
      "needs_background": "light"
     },
     "output_type": "display_data"
    }
   ],
   "source": [
    "def cleanValorSub(tramos):\n",
    "    if type(tramos)==float:\n",
    "        return tramos\n",
    "    elif tramos==\"No consta\":\n",
    "        return None\n",
    "    elif \",\" not in tramos:\n",
    "        return float(tramos)\n",
    "    else:\n",
    "        return float(tramos.replace(\" \\x80\",\"\").replace(\".\",\"\").replace(\",\",\".\"))\n",
    "    \n",
    "infoSubastas[\"Valor subasta\"] = infoSubastas[\"Valor subasta\"].map(cleanValorSub)\n",
    "infoSubastas[\"Valor subasta\"].where((infoSubastas[\"Valor subasta\"]>0) & (infoSubastas[\"Valor subasta\"]<infoSubastas[\"Valor subasta\"].quantile(0.95))).hist()"
   ]
  },
  {
   "cell_type": "markdown",
   "metadata": {},
   "source": [
    "* **Cantidad Reclamada**: Cantidad total reclamada al acreedor. Lo convertimos a numérico y si indica \"No consta\" lo pasamos a vacío."
   ]
  },
  {
   "cell_type": "code",
   "execution_count": 24,
   "metadata": {},
   "outputs": [
    {
     "name": "stdout",
     "output_type": "stream",
     "text": [
      "¿Valor de la cantidad reclamada igual a null?\n"
     ]
    },
    {
     "data": {
      "text/html": [
       "<div>\n",
       "<style scoped>\n",
       "    .dataframe tbody tr th:only-of-type {\n",
       "        vertical-align: middle;\n",
       "    }\n",
       "\n",
       "    .dataframe tbody tr th {\n",
       "        vertical-align: top;\n",
       "    }\n",
       "\n",
       "    .dataframe thead th {\n",
       "        text-align: right;\n",
       "    }\n",
       "</style>\n",
       "<table border=\"1\" class=\"dataframe\">\n",
       "  <thead>\n",
       "    <tr style=\"text-align: right;\">\n",
       "      <th></th>\n",
       "      <th>Cantidad reclamada</th>\n",
       "    </tr>\n",
       "    <tr>\n",
       "      <th>Cantidad reclamada</th>\n",
       "      <th></th>\n",
       "    </tr>\n",
       "  </thead>\n",
       "  <tbody>\n",
       "    <tr>\n",
       "      <th>False</th>\n",
       "      <td>15996</td>\n",
       "    </tr>\n",
       "    <tr>\n",
       "      <th>True</th>\n",
       "      <td>0</td>\n",
       "    </tr>\n",
       "  </tbody>\n",
       "</table>\n",
       "</div>"
      ],
      "text/plain": [
       "                    Cantidad reclamada\n",
       "Cantidad reclamada                    \n",
       "False                            15996\n",
       "True                                 0"
      ]
     },
     "execution_count": 24,
     "metadata": {},
     "output_type": "execute_result"
    }
   ],
   "source": [
    "print(\"¿Valor de la cantidad reclamada igual a null?\")\n",
    "infoSubastas.pivot_table(values=\"Cantidad reclamada\", index=[infoSubastas[\"Cantidad reclamada\"].isnull()], aggfunc=\"count\")"
   ]
  },
  {
   "cell_type": "code",
   "execution_count": 25,
   "metadata": {},
   "outputs": [
    {
     "data": {
      "text/plain": [
       "<matplotlib.axes._subplots.AxesSubplot at 0x29a4e612eb8>"
      ]
     },
     "execution_count": 25,
     "metadata": {},
     "output_type": "execute_result"
    },
    {
     "data": {
      "image/png": "[encoded data removed]",
      "text/plain": [
       "<Figure size 432x288 with 1 Axes>"
      ]
     },
     "metadata": {
      "needs_background": "light"
     },
     "output_type": "display_data"
    }
   ],
   "source": [
    "def cleanCantidadReclamada(reclamado):\n",
    "    if type(reclamado)==float:\n",
    "        return reclamado\n",
    "#     elif tramos==\"No consta\":\n",
    "#         return None\n",
    "    elif \",\" not in reclamado:\n",
    "        return float(reclamado)\n",
    "    else:\n",
    "        return float(reclamado.replace(\" \\x80\",\"\").replace(\".\",\"\").replace(\",\",\".\"))\n",
    "    \n",
    "infoSubastas[\"Cantidad reclamada\"] = infoSubastas[\"Cantidad reclamada\"].map(cleanCantidadReclamada)\n",
    "infoSubastas[\"Cantidad reclamada\"].where((infoSubastas[\"Cantidad reclamada\"]>0) & (infoSubastas[\"Cantidad reclamada\"]<infoSubastas[\"Cantidad reclamada\"].quantile(0.95))).hist()"
   ]
  },
  {
   "cell_type": "markdown",
   "metadata": {},
   "source": [
    "* **Fechas**: Revisamos las fecha de conclusión de la subasta y de inicio de la subasta. Antes de nada debemos cambiar el formato a fecha.\n",
    "Revismos las fechas de inicio nulas porque no deberían existir"
   ]
  },
  {
   "cell_type": "code",
   "execution_count": 26,
   "metadata": {},
   "outputs": [],
   "source": [
    "infoSubastas['dateConclusion'] = infoSubastas[\"Fecha de conclusión\"].map(lambda x: x if type(x)==float else datetime.datetime.strptime(x[0:19],\"%d-%m-%Y %H:%M:%S\").date())\n",
    "infoSubastas['monthConclusion'] = infoSubastas['Fecha de conclusión'].map(lambda x: x.month if type(x) == datetime.date else np.nan)\n",
    "infoSubastas['yearConclusion'] = infoSubastas['Fecha de conclusión'].map(lambda x: x.year if type(x) == datetime.date else np.nan)\n",
    "\n",
    "infoSubastas['dateInicio'] = infoSubastas[\"Fecha de inicio\"].map(lambda x: x if type(x)==float else datetime.datetime.strptime(x[0:19],\"%d-%m-%Y %H:%M:%S\").date())\n",
    "infoSubastas['monthInicio'] = infoSubastas['dateInicio'].map(lambda x: x.month if type(x) == datetime.date else np.nan)\n",
    "infoSubastas['yearInicio'] = infoSubastas['dateInicio'].map(lambda x: x.year if type(x) == datetime.date else np.nan)"
   ]
  },
  {
   "cell_type": "code",
   "execution_count": 27,
   "metadata": {},
   "outputs": [
    {
     "name": "stdout",
     "output_type": "stream",
     "text": [
      "Se identifican 1682 subastas con fecha de inicio nulo.\n"
     ]
    }
   ],
   "source": [
    "print(\"Se identifican %d subastas con fecha de inicio nulo.\"%len(infoSubastas[infoSubastas[\"Fecha de inicio\"].map(type)==float]))\n",
    "# infoSubastas[infoSubastas[\"Fecha de inicio\"].map(type)==float][[\"codSubasta\", 'link']]"
   ]
  },
  {
   "cell_type": "markdown",
   "metadata": {},
   "source": [
    " Se comprueba que son subastas canceladas, y que es esta la razón de la falta del dato. Lo comprobamos:"
   ]
  },
  {
   "cell_type": "code",
   "execution_count": 28,
   "metadata": {},
   "outputs": [
    {
     "data": {
      "text/html": [
       "<div>\n",
       "<style scoped>\n",
       "    .dataframe tbody tr th:only-of-type {\n",
       "        vertical-align: middle;\n",
       "    }\n",
       "\n",
       "    .dataframe tbody tr th {\n",
       "        vertical-align: top;\n",
       "    }\n",
       "\n",
       "    .dataframe thead th {\n",
       "        text-align: right;\n",
       "    }\n",
       "</style>\n",
       "<table border=\"1\" class=\"dataframe\">\n",
       "  <thead>\n",
       "    <tr style=\"text-align: right;\">\n",
       "      <th>Fecha de inicio</th>\n",
       "      <th>False</th>\n",
       "      <th>True</th>\n",
       "    </tr>\n",
       "    <tr>\n",
       "      <th>estado</th>\n",
       "      <th></th>\n",
       "      <th></th>\n",
       "    </tr>\n",
       "  </thead>\n",
       "  <tbody>\n",
       "    <tr>\n",
       "      <th>Cancelad</th>\n",
       "      <td>1663.0</td>\n",
       "      <td>NaN</td>\n",
       "    </tr>\n",
       "    <tr>\n",
       "      <th>Celebrándose</th>\n",
       "      <td>NaN</td>\n",
       "      <td>289.0</td>\n",
       "    </tr>\n",
       "    <tr>\n",
       "      <th>Concluida</th>\n",
       "      <td>NaN</td>\n",
       "      <td>1955.0</td>\n",
       "    </tr>\n",
       "    <tr>\n",
       "      <th>Finalizada</th>\n",
       "      <td>NaN</td>\n",
       "      <td>12143.0</td>\n",
       "    </tr>\n",
       "    <tr>\n",
       "      <th>Suspendid</th>\n",
       "      <td>19.0</td>\n",
       "      <td>NaN</td>\n",
       "    </tr>\n",
       "  </tbody>\n",
       "</table>\n",
       "</div>"
      ],
      "text/plain": [
       "Fecha de inicio   False    True \n",
       "estado                          \n",
       "Cancelad         1663.0      NaN\n",
       "Celebrándose        NaN    289.0\n",
       "Concluida           NaN   1955.0\n",
       "Finalizada          NaN  12143.0\n",
       "Suspendid          19.0      NaN"
      ]
     },
     "execution_count": 28,
     "metadata": {},
     "output_type": "execute_result"
    }
   ],
   "source": [
    "infoSubastas.pivot_table(values=\"codSubasta\",columns=[infoSubastas[\"Fecha de inicio\"].map(type)!=float], index='estado', aggfunc=\"count\")"
   ]
  },
  {
   "cell_type": "markdown",
   "metadata": {},
   "source": [
    "Analizamos si hay entre las subastas canceladas o suspendidas alguna puja. \n",
    "\n",
    "Conclusión, no. Las subastas canceladas o susdidas deberán descartarse del analisis en caso de querer predecir el precio de la última puja. \n",
    "\n",
    "Pueden ser útiles para colocarlos en un mapa y ver por donde hay más número de bienes embargados."
   ]
  },
  {
   "cell_type": "code",
   "execution_count": 29,
   "metadata": {},
   "outputs": [
    {
     "data": {
      "text/html": [
       "<div>\n",
       "<style scoped>\n",
       "    .dataframe tbody tr th:only-of-type {\n",
       "        vertical-align: middle;\n",
       "    }\n",
       "\n",
       "    .dataframe tbody tr th {\n",
       "        vertical-align: top;\n",
       "    }\n",
       "\n",
       "    .dataframe thead th {\n",
       "        text-align: right;\n",
       "    }\n",
       "</style>\n",
       "<table border=\"1\" class=\"dataframe\">\n",
       "  <thead>\n",
       "    <tr style=\"text-align: right;\">\n",
       "      <th>totPuja</th>\n",
       "      <th>False</th>\n",
       "      <th>True</th>\n",
       "    </tr>\n",
       "    <tr>\n",
       "      <th>estado</th>\n",
       "      <th></th>\n",
       "      <th></th>\n",
       "    </tr>\n",
       "  </thead>\n",
       "  <tbody>\n",
       "    <tr>\n",
       "      <th>Cancelad</th>\n",
       "      <td>1663.0</td>\n",
       "      <td>NaN</td>\n",
       "    </tr>\n",
       "    <tr>\n",
       "      <th>Celebrándose</th>\n",
       "      <td>288.0</td>\n",
       "      <td>1.0</td>\n",
       "    </tr>\n",
       "    <tr>\n",
       "      <th>Concluida</th>\n",
       "      <td>417.0</td>\n",
       "      <td>1538.0</td>\n",
       "    </tr>\n",
       "    <tr>\n",
       "      <th>Finalizada</th>\n",
       "      <td>10553.0</td>\n",
       "      <td>1590.0</td>\n",
       "    </tr>\n",
       "    <tr>\n",
       "      <th>Suspendid</th>\n",
       "      <td>19.0</td>\n",
       "      <td>NaN</td>\n",
       "    </tr>\n",
       "  </tbody>\n",
       "</table>\n",
       "</div>"
      ],
      "text/plain": [
       "totPuja         False   True \n",
       "estado                       \n",
       "Cancelad       1663.0     NaN\n",
       "Celebrándose    288.0     1.0\n",
       "Concluida       417.0  1538.0\n",
       "Finalizada    10553.0  1590.0\n",
       "Suspendid        19.0     NaN"
      ]
     },
     "execution_count": 29,
     "metadata": {},
     "output_type": "execute_result"
    }
   ],
   "source": [
    "infoSubastas.pivot_table(values=\"codSubasta\",columns= [infoSubastas[\"totPuja\"]>0], index='estado',aggfunc=\"count\")"
   ]
  },
  {
   "cell_type": "markdown",
   "metadata": {},
   "source": [
    "Analizamos la distribución de la fecha de inicio por año y mes:"
   ]
  },
  {
   "cell_type": "code",
   "execution_count": 30,
   "metadata": {},
   "outputs": [
    {
     "data": {
      "text/html": [
       "<div>\n",
       "<style scoped>\n",
       "    .dataframe tbody tr th:only-of-type {\n",
       "        vertical-align: middle;\n",
       "    }\n",
       "\n",
       "    .dataframe tbody tr th {\n",
       "        vertical-align: top;\n",
       "    }\n",
       "\n",
       "    .dataframe thead th {\n",
       "        text-align: right;\n",
       "    }\n",
       "</style>\n",
       "<table border=\"1\" class=\"dataframe\">\n",
       "  <thead>\n",
       "    <tr style=\"text-align: right;\">\n",
       "      <th>yearInicio</th>\n",
       "      <th>2015.0</th>\n",
       "      <th>2016.0</th>\n",
       "      <th>2017.0</th>\n",
       "      <th>2018.0</th>\n",
       "      <th>2019.0</th>\n",
       "    </tr>\n",
       "    <tr>\n",
       "      <th>monthInicio</th>\n",
       "      <th></th>\n",
       "      <th></th>\n",
       "      <th></th>\n",
       "      <th></th>\n",
       "      <th></th>\n",
       "    </tr>\n",
       "  </thead>\n",
       "  <tbody>\n",
       "    <tr>\n",
       "      <th>1.0</th>\n",
       "      <td>NaN</td>\n",
       "      <td>16.0</td>\n",
       "      <td>475.0</td>\n",
       "      <td>335.0</td>\n",
       "      <td>231.0</td>\n",
       "    </tr>\n",
       "    <tr>\n",
       "      <th>2.0</th>\n",
       "      <td>NaN</td>\n",
       "      <td>84.0</td>\n",
       "      <td>559.0</td>\n",
       "      <td>425.0</td>\n",
       "      <td>296.0</td>\n",
       "    </tr>\n",
       "    <tr>\n",
       "      <th>3.0</th>\n",
       "      <td>NaN</td>\n",
       "      <td>230.0</td>\n",
       "      <td>544.0</td>\n",
       "      <td>408.0</td>\n",
       "      <td>334.0</td>\n",
       "    </tr>\n",
       "    <tr>\n",
       "      <th>4.0</th>\n",
       "      <td>NaN</td>\n",
       "      <td>230.0</td>\n",
       "      <td>372.0</td>\n",
       "      <td>309.0</td>\n",
       "      <td>183.0</td>\n",
       "    </tr>\n",
       "    <tr>\n",
       "      <th>5.0</th>\n",
       "      <td>NaN</td>\n",
       "      <td>381.0</td>\n",
       "      <td>424.0</td>\n",
       "      <td>419.0</td>\n",
       "      <td>NaN</td>\n",
       "    </tr>\n",
       "    <tr>\n",
       "      <th>6.0</th>\n",
       "      <td>NaN</td>\n",
       "      <td>579.0</td>\n",
       "      <td>509.0</td>\n",
       "      <td>406.0</td>\n",
       "      <td>NaN</td>\n",
       "    </tr>\n",
       "    <tr>\n",
       "      <th>7.0</th>\n",
       "      <td>NaN</td>\n",
       "      <td>257.0</td>\n",
       "      <td>253.0</td>\n",
       "      <td>203.0</td>\n",
       "      <td>NaN</td>\n",
       "    </tr>\n",
       "    <tr>\n",
       "      <th>8.0</th>\n",
       "      <td>NaN</td>\n",
       "      <td>71.0</td>\n",
       "      <td>53.0</td>\n",
       "      <td>88.0</td>\n",
       "      <td>NaN</td>\n",
       "    </tr>\n",
       "    <tr>\n",
       "      <th>9.0</th>\n",
       "      <td>NaN</td>\n",
       "      <td>569.0</td>\n",
       "      <td>474.0</td>\n",
       "      <td>335.0</td>\n",
       "      <td>NaN</td>\n",
       "    </tr>\n",
       "    <tr>\n",
       "      <th>10.0</th>\n",
       "      <td>NaN</td>\n",
       "      <td>633.0</td>\n",
       "      <td>439.0</td>\n",
       "      <td>348.0</td>\n",
       "      <td>NaN</td>\n",
       "    </tr>\n",
       "    <tr>\n",
       "      <th>11.0</th>\n",
       "      <td>1.0</td>\n",
       "      <td>663.0</td>\n",
       "      <td>538.0</td>\n",
       "      <td>383.0</td>\n",
       "      <td>NaN</td>\n",
       "    </tr>\n",
       "    <tr>\n",
       "      <th>12.0</th>\n",
       "      <td>10.0</td>\n",
       "      <td>618.0</td>\n",
       "      <td>398.0</td>\n",
       "      <td>304.0</td>\n",
       "      <td>NaN</td>\n",
       "    </tr>\n",
       "  </tbody>\n",
       "</table>\n",
       "</div>"
      ],
      "text/plain": [
       "yearInicio   2015.0  2016.0  2017.0  2018.0  2019.0\n",
       "monthInicio                                        \n",
       "1.0             NaN    16.0   475.0   335.0   231.0\n",
       "2.0             NaN    84.0   559.0   425.0   296.0\n",
       "3.0             NaN   230.0   544.0   408.0   334.0\n",
       "4.0             NaN   230.0   372.0   309.0   183.0\n",
       "5.0             NaN   381.0   424.0   419.0     NaN\n",
       "6.0             NaN   579.0   509.0   406.0     NaN\n",
       "7.0             NaN   257.0   253.0   203.0     NaN\n",
       "8.0             NaN    71.0    53.0    88.0     NaN\n",
       "9.0             NaN   569.0   474.0   335.0     NaN\n",
       "10.0            NaN   633.0   439.0   348.0     NaN\n",
       "11.0            1.0   663.0   538.0   383.0     NaN\n",
       "12.0           10.0   618.0   398.0   304.0     NaN"
      ]
     },
     "execution_count": 30,
     "metadata": {},
     "output_type": "execute_result"
    }
   ],
   "source": [
    "infoSubastas.pivot_table(values=\"codSubasta\",index=\"monthInicio\",columns='yearInicio',aggfunc=\"count\")"
   ]
  },
  {
   "cell_type": "markdown",
   "metadata": {},
   "source": [
    "#### Limpieza de lotes subastas"
   ]
  },
  {
   "cell_type": "code",
   "execution_count": 31,
   "metadata": {},
   "outputs": [
    {
     "name": "stdout",
     "output_type": "stream",
     "text": [
      "El campo codSubasta, de tipo str, tiene 0 nulos\n",
      "El campo lote, de tipo str, tiene 0 nulos\n",
      "El campo Número de bastidor, de tipo numeric, tiene 28729 nulos y 0 ceros\n",
      "El campo Localidad, de tipo str, tiene 15 nulos\n",
      "El campo Valor Subasta, de tipo str, tiene 17286 nulos\n",
      "El campo Puja mínima, de tipo str, tiene 3213 nulos\n",
      "El campo Referencia Registral, de tipo numeric, tiene 28729 nulos y 0 ceros\n",
      "El campo Cuota, de tipo numeric, tiene 28721 nulos y 0 ceros\n",
      "El campo Información adicional, de tipo numeric, tiene 26071 nulos y 0 ceros\n",
      "El campo IDUFIR, de tipo numeric, tiene 20304 nulos y 30 ceros\n",
      "El campo Título jurídico, de tipo numeric, tiene 28332 nulos y 0 ceros\n",
      "El campo Descripción, de tipo str, tiene 0 nulos\n",
      "El campo Modelo, de tipo numeric, tiene 28727 nulos y 0 ceros\n",
      "El campo Fecha de adquisición, de tipo numeric, tiene 28727 nulos y 0 ceros\n",
      "El campo Fecha de matriculación, de tipo numeric, tiene 28729 nulos y 0 ceros\n",
      "El campo Inscripción registral, de tipo str, tiene 18080 nulos\n",
      "El campo Vivienda habitual, de tipo numeric, tiene 13181 nulos y 0 ceros\n",
      "El campo Situación posesoria, de tipo str, tiene 1 nulos\n",
      "El campo Matrícula, de tipo numeric, tiene 28729 nulos y 0 ceros\n",
      "El campo Marca, de tipo numeric, tiene 28727 nulos y 0 ceros\n",
      "El campo Importe del depósito, de tipo str, tiene 3213 nulos\n",
      "El campo Referencia catastral, de tipo str, tiene 17760 nulos\n",
      "El campo Cargas, de tipo str, tiene 21942 nulos\n",
      "El campo Visitable, de tipo str, tiene 0 nulos\n",
      "El campo Dirección, de tipo str, tiene 0 nulos\n",
      "El campo Valor de tasación, de tipo numeric, tiene 12694 nulos y 0 ceros\n",
      "El campo numBienes, de tipo numeric, tiene 13780 nulos y 0 ceros\n",
      "El campo Tramos entre pujas, de tipo str, tiene 3215 nulos\n",
      "El campo Provincia, de tipo str, tiene 2 nulos\n",
      "El campo Código Postal, de tipo numeric, tiene 152 nulos y 0 ceros\n",
      "El campo Depósito, de tipo numeric, tiene 28729 nulos y 0 ceros\n",
      "El campo Cantidad reclamada, de tipo numeric, tiene 28465 nulos y 0 ceros\n",
      "El campo Unnamed: 32, de tipo numeric, tiene 28729 nulos y 0 ceros\n"
     ]
    }
   ],
   "source": [
    "for col in lotesSubastas.columns:\n",
    "    if type(lotesSubastas[col][1])==str:\n",
    "        print(\"El campo %s, de tipo str, tiene %d nulos\"%(col,len(lotesSubastas[lotesSubastas[col].isnull()])))\n",
    "    else:\n",
    "        print(\"El campo %s, de tipo numeric, tiene %d nulos y %d ceros\"%(col,len(lotesSubastas[lotesSubastas[col].isnull()]),len(lotesSubastas[lotesSubastas[col]==0])))"
   ]
  },
  {
   "cell_type": "code",
   "execution_count": 32,
   "metadata": {},
   "outputs": [
    {
     "name": "stdout",
     "output_type": "stream",
     "text": [
      "Corregimos los factores numéricos\n"
     ]
    }
   ],
   "source": [
    "print('Corregimos los factores numéricos')\n",
    "lotesSubastas['Valor Subasta'] = lotesSubastas['Valor Subasta'].map(cleanValorSub)\n",
    "lotesSubastas['Puja mínima'] = lotesSubastas['Puja mínima'].map(cleanPujaMin)\n",
    "lotesSubastas['Importe del depósito'] = lotesSubastas['Importe del depósito'].map(cleanImporDep)\n",
    "lotesSubastas['Valor de tasación'] = lotesSubastas['Valor de tasación'].map(cleanTasacion)\n"
   ]
  },
  {
   "cell_type": "markdown",
   "metadata": {},
   "source": [
    "Analizamos el campo Vivienda habitual."
   ]
  },
  {
   "cell_type": "code",
   "execution_count": 33,
   "metadata": {},
   "outputs": [
    {
     "data": {
      "text/html": [
       "<div>\n",
       "<style scoped>\n",
       "    .dataframe tbody tr th:only-of-type {\n",
       "        vertical-align: middle;\n",
       "    }\n",
       "\n",
       "    .dataframe tbody tr th {\n",
       "        vertical-align: top;\n",
       "    }\n",
       "\n",
       "    .dataframe thead th {\n",
       "        text-align: right;\n",
       "    }\n",
       "</style>\n",
       "<table border=\"1\" class=\"dataframe\">\n",
       "  <thead>\n",
       "    <tr style=\"text-align: right;\">\n",
       "      <th></th>\n",
       "      <th>codSubasta</th>\n",
       "    </tr>\n",
       "    <tr>\n",
       "      <th>Vivienda habitual</th>\n",
       "      <th></th>\n",
       "    </tr>\n",
       "  </thead>\n",
       "  <tbody>\n",
       "    <tr>\n",
       "      <th>13.320,25 </th>\n",
       "      <td>1</td>\n",
       "    </tr>\n",
       "    <tr>\n",
       "      <th>7.774,00 </th>\n",
       "      <td>1</td>\n",
       "    </tr>\n",
       "    <tr>\n",
       "      <th>No</th>\n",
       "      <td>10821</td>\n",
       "    </tr>\n",
       "    <tr>\n",
       "      <th>Sí</th>\n",
       "      <td>4725</td>\n",
       "    </tr>\n",
       "  </tbody>\n",
       "</table>\n",
       "</div>"
      ],
      "text/plain": [
       "                   codSubasta\n",
       "Vivienda habitual            \n",
       "13.320,25                  1\n",
       "7.774,00                   1\n",
       "No                      10821\n",
       "Sí                       4725"
      ]
     },
     "execution_count": 33,
     "metadata": {},
     "output_type": "execute_result"
    }
   ],
   "source": [
    "lotesSubastas.pivot_table(values=\"codSubasta\", index=['Vivienda habitual'], aggfunc=\"count\")"
   ]
  },
  {
   "cell_type": "markdown",
   "metadata": {},
   "source": [
    "Eliminamos los registros que tienen como vivienda habitual un importe. Son errores del _dataset_."
   ]
  },
  {
   "cell_type": "code",
   "execution_count": 34,
   "metadata": {},
   "outputs": [
    {
     "name": "stdout",
     "output_type": "stream",
     "text": [
      "Número de subastas final: 28727\n"
     ]
    }
   ],
   "source": [
    "lotesSubastas = lotesSubastas[(lotesSubastas[\"Vivienda habitual\"].isin([\"Sí\", \"No\"])) | (lotesSubastas[\"Vivienda habitual\"].isnull())]\n",
    "infoSubastas = infoSubastas[infoSubastas[\"codSubasta\"].isin(lotesSubastas['codSubasta'])]\n",
    "pujasSubastas = pujasSubastas[pujasSubastas[\"codSubasta\"].isin(pujasSubastas['codSubasta'])]\n",
    "print(\"Número de subastas final: %d\"%(len(lotesSubastas)))"
   ]
  },
  {
   "cell_type": "markdown",
   "metadata": {},
   "source": [
    "Los tipo  subasta igual a NaN los pasamos a desconocido."
   ]
  },
  {
   "cell_type": "code",
   "execution_count": 35,
   "metadata": {},
   "outputs": [],
   "source": [
    "lotesSubastas[\"Vivienda habitual\"][lotesSubastas[\"Vivienda habitual\"].isin([\"Sí\", \"No\"])==False] = \"Desconocido\""
   ]
  },
  {
   "cell_type": "code",
   "execution_count": 36,
   "metadata": {},
   "outputs": [
    {
     "data": {
      "text/html": [
       "<div>\n",
       "<style scoped>\n",
       "    .dataframe tbody tr th:only-of-type {\n",
       "        vertical-align: middle;\n",
       "    }\n",
       "\n",
       "    .dataframe tbody tr th {\n",
       "        vertical-align: top;\n",
       "    }\n",
       "\n",
       "    .dataframe thead th {\n",
       "        text-align: right;\n",
       "    }\n",
       "</style>\n",
       "<table border=\"1\" class=\"dataframe\">\n",
       "  <thead>\n",
       "    <tr style=\"text-align: right;\">\n",
       "      <th></th>\n",
       "      <th>codSubasta</th>\n",
       "    </tr>\n",
       "    <tr>\n",
       "      <th>Vivienda habitual</th>\n",
       "      <th></th>\n",
       "    </tr>\n",
       "  </thead>\n",
       "  <tbody>\n",
       "    <tr>\n",
       "      <th>Desconocido</th>\n",
       "      <td>13181</td>\n",
       "    </tr>\n",
       "    <tr>\n",
       "      <th>No</th>\n",
       "      <td>10821</td>\n",
       "    </tr>\n",
       "    <tr>\n",
       "      <th>Sí</th>\n",
       "      <td>4725</td>\n",
       "    </tr>\n",
       "  </tbody>\n",
       "</table>\n",
       "</div>"
      ],
      "text/plain": [
       "                   codSubasta\n",
       "Vivienda habitual            \n",
       "Desconocido             13181\n",
       "No                      10821\n",
       "Sí                       4725"
      ]
     },
     "execution_count": 36,
     "metadata": {},
     "output_type": "execute_result"
    }
   ],
   "source": [
    "lotesSubastas.pivot_table(values=\"codSubasta\", index=['Vivienda habitual'], aggfunc=\"count\")"
   ]
  },
  {
   "cell_type": "markdown",
   "metadata": {},
   "source": [
    "Corregimos el campo Visitable, dejandolo en las opciones 'Sí', 'No'."
   ]
  },
  {
   "cell_type": "code",
   "execution_count": 37,
   "metadata": {},
   "outputs": [],
   "source": [
    "lotesSubastas['Visitable'] = lotesSubastas['Visitable'].map(lambda x: x[:2])"
   ]
  },
  {
   "cell_type": "markdown",
   "metadata": {},
   "source": [
    "#### Limpieza de pujas subastas"
   ]
  },
  {
   "cell_type": "code",
   "execution_count": 38,
   "metadata": {},
   "outputs": [
    {
     "name": "stderr",
     "output_type": "stream",
     "text": [
      "C:\\ProgramData\\Anaconda3\\lib\\site-packages\\pandas\\core\\indexing.py:189: SettingWithCopyWarning: \n",
      "A value is trying to be set on a copy of a slice from a DataFrame\n",
      "\n",
      "See the caveats in the documentation: http://pandas.pydata.org/pandas-docs/stable/indexing.html#indexing-view-versus-copy\n",
      "  self._setitem_with_indexer(indexer, value)\n"
     ]
    },
    {
     "data": {
      "text/html": [
       "<div>\n",
       "<style scoped>\n",
       "    .dataframe tbody tr th:only-of-type {\n",
       "        vertical-align: middle;\n",
       "    }\n",
       "\n",
       "    .dataframe tbody tr th {\n",
       "        vertical-align: top;\n",
       "    }\n",
       "\n",
       "    .dataframe thead th {\n",
       "        text-align: right;\n",
       "    }\n",
       "</style>\n",
       "<table border=\"1\" class=\"dataframe\">\n",
       "  <thead>\n",
       "    <tr style=\"text-align: right;\">\n",
       "      <th></th>\n",
       "      <th>codSubasta</th>\n",
       "      <th>Puja</th>\n",
       "      <th>Unnamed: 3</th>\n",
       "    </tr>\n",
       "    <tr>\n",
       "      <th>lote</th>\n",
       "      <th></th>\n",
       "      <th></th>\n",
       "      <th></th>\n",
       "    </tr>\n",
       "  </thead>\n",
       "  <tbody>\n",
       "    <tr>\n",
       "      <th>1</th>\n",
       "      <td>16565</td>\n",
       "      <td>16565</td>\n",
       "      <td>0</td>\n",
       "    </tr>\n",
       "    <tr>\n",
       "      <th>2</th>\n",
       "      <td>1732</td>\n",
       "      <td>1732</td>\n",
       "      <td>0</td>\n",
       "    </tr>\n",
       "    <tr>\n",
       "      <th>3</th>\n",
       "      <td>926</td>\n",
       "      <td>926</td>\n",
       "      <td>0</td>\n",
       "    </tr>\n",
       "    <tr>\n",
       "      <th>4</th>\n",
       "      <td>640</td>\n",
       "      <td>640</td>\n",
       "      <td>0</td>\n",
       "    </tr>\n",
       "    <tr>\n",
       "      <th>5</th>\n",
       "      <td>496</td>\n",
       "      <td>496</td>\n",
       "      <td>0</td>\n",
       "    </tr>\n",
       "    <tr>\n",
       "      <th>6</th>\n",
       "      <td>417</td>\n",
       "      <td>417</td>\n",
       "      <td>0</td>\n",
       "    </tr>\n",
       "    <tr>\n",
       "      <th>7</th>\n",
       "      <td>368</td>\n",
       "      <td>368</td>\n",
       "      <td>0</td>\n",
       "    </tr>\n",
       "    <tr>\n",
       "      <th>8</th>\n",
       "      <td>325</td>\n",
       "      <td>325</td>\n",
       "      <td>0</td>\n",
       "    </tr>\n",
       "    <tr>\n",
       "      <th>9</th>\n",
       "      <td>285</td>\n",
       "      <td>285</td>\n",
       "      <td>0</td>\n",
       "    </tr>\n",
       "    <tr>\n",
       "      <th>10</th>\n",
       "      <td>250</td>\n",
       "      <td>250</td>\n",
       "      <td>0</td>\n",
       "    </tr>\n",
       "    <tr>\n",
       "      <th>11</th>\n",
       "      <td>228</td>\n",
       "      <td>228</td>\n",
       "      <td>0</td>\n",
       "    </tr>\n",
       "    <tr>\n",
       "      <th>12</th>\n",
       "      <td>195</td>\n",
       "      <td>195</td>\n",
       "      <td>0</td>\n",
       "    </tr>\n",
       "    <tr>\n",
       "      <th>13</th>\n",
       "      <td>177</td>\n",
       "      <td>177</td>\n",
       "      <td>0</td>\n",
       "    </tr>\n",
       "    <tr>\n",
       "      <th>14</th>\n",
       "      <td>159</td>\n",
       "      <td>159</td>\n",
       "      <td>0</td>\n",
       "    </tr>\n",
       "    <tr>\n",
       "      <th>15</th>\n",
       "      <td>151</td>\n",
       "      <td>151</td>\n",
       "      <td>0</td>\n",
       "    </tr>\n",
       "    <tr>\n",
       "      <th>16</th>\n",
       "      <td>140</td>\n",
       "      <td>140</td>\n",
       "      <td>0</td>\n",
       "    </tr>\n",
       "    <tr>\n",
       "      <th>17</th>\n",
       "      <td>128</td>\n",
       "      <td>128</td>\n",
       "      <td>0</td>\n",
       "    </tr>\n",
       "    <tr>\n",
       "      <th>18</th>\n",
       "      <td>119</td>\n",
       "      <td>119</td>\n",
       "      <td>0</td>\n",
       "    </tr>\n",
       "    <tr>\n",
       "      <th>19</th>\n",
       "      <td>113</td>\n",
       "      <td>113</td>\n",
       "      <td>0</td>\n",
       "    </tr>\n",
       "    <tr>\n",
       "      <th>20</th>\n",
       "      <td>107</td>\n",
       "      <td>107</td>\n",
       "      <td>0</td>\n",
       "    </tr>\n",
       "    <tr>\n",
       "      <th>21</th>\n",
       "      <td>98</td>\n",
       "      <td>98</td>\n",
       "      <td>0</td>\n",
       "    </tr>\n",
       "    <tr>\n",
       "      <th>22</th>\n",
       "      <td>94</td>\n",
       "      <td>94</td>\n",
       "      <td>0</td>\n",
       "    </tr>\n",
       "    <tr>\n",
       "      <th>23</th>\n",
       "      <td>90</td>\n",
       "      <td>90</td>\n",
       "      <td>0</td>\n",
       "    </tr>\n",
       "    <tr>\n",
       "      <th>24</th>\n",
       "      <td>85</td>\n",
       "      <td>85</td>\n",
       "      <td>0</td>\n",
       "    </tr>\n",
       "    <tr>\n",
       "      <th>25</th>\n",
       "      <td>81</td>\n",
       "      <td>81</td>\n",
       "      <td>0</td>\n",
       "    </tr>\n",
       "    <tr>\n",
       "      <th>26</th>\n",
       "      <td>75</td>\n",
       "      <td>75</td>\n",
       "      <td>0</td>\n",
       "    </tr>\n",
       "    <tr>\n",
       "      <th>27</th>\n",
       "      <td>69</td>\n",
       "      <td>69</td>\n",
       "      <td>0</td>\n",
       "    </tr>\n",
       "    <tr>\n",
       "      <th>28</th>\n",
       "      <td>64</td>\n",
       "      <td>64</td>\n",
       "      <td>0</td>\n",
       "    </tr>\n",
       "    <tr>\n",
       "      <th>29</th>\n",
       "      <td>58</td>\n",
       "      <td>58</td>\n",
       "      <td>0</td>\n",
       "    </tr>\n",
       "    <tr>\n",
       "      <th>30</th>\n",
       "      <td>57</td>\n",
       "      <td>57</td>\n",
       "      <td>0</td>\n",
       "    </tr>\n",
       "    <tr>\n",
       "      <th>...</th>\n",
       "      <td>...</td>\n",
       "      <td>...</td>\n",
       "      <td>...</td>\n",
       "    </tr>\n",
       "    <tr>\n",
       "      <th>250</th>\n",
       "      <td>1</td>\n",
       "      <td>1</td>\n",
       "      <td>0</td>\n",
       "    </tr>\n",
       "    <tr>\n",
       "      <th>251</th>\n",
       "      <td>1</td>\n",
       "      <td>1</td>\n",
       "      <td>0</td>\n",
       "    </tr>\n",
       "    <tr>\n",
       "      <th>252</th>\n",
       "      <td>1</td>\n",
       "      <td>1</td>\n",
       "      <td>0</td>\n",
       "    </tr>\n",
       "    <tr>\n",
       "      <th>253</th>\n",
       "      <td>1</td>\n",
       "      <td>1</td>\n",
       "      <td>0</td>\n",
       "    </tr>\n",
       "    <tr>\n",
       "      <th>254</th>\n",
       "      <td>1</td>\n",
       "      <td>1</td>\n",
       "      <td>0</td>\n",
       "    </tr>\n",
       "    <tr>\n",
       "      <th>255</th>\n",
       "      <td>1</td>\n",
       "      <td>1</td>\n",
       "      <td>0</td>\n",
       "    </tr>\n",
       "    <tr>\n",
       "      <th>256</th>\n",
       "      <td>1</td>\n",
       "      <td>1</td>\n",
       "      <td>0</td>\n",
       "    </tr>\n",
       "    <tr>\n",
       "      <th>257</th>\n",
       "      <td>1</td>\n",
       "      <td>1</td>\n",
       "      <td>0</td>\n",
       "    </tr>\n",
       "    <tr>\n",
       "      <th>258</th>\n",
       "      <td>1</td>\n",
       "      <td>1</td>\n",
       "      <td>0</td>\n",
       "    </tr>\n",
       "    <tr>\n",
       "      <th>259</th>\n",
       "      <td>1</td>\n",
       "      <td>1</td>\n",
       "      <td>0</td>\n",
       "    </tr>\n",
       "    <tr>\n",
       "      <th>260</th>\n",
       "      <td>1</td>\n",
       "      <td>1</td>\n",
       "      <td>0</td>\n",
       "    </tr>\n",
       "    <tr>\n",
       "      <th>261</th>\n",
       "      <td>1</td>\n",
       "      <td>1</td>\n",
       "      <td>0</td>\n",
       "    </tr>\n",
       "    <tr>\n",
       "      <th>262</th>\n",
       "      <td>1</td>\n",
       "      <td>1</td>\n",
       "      <td>0</td>\n",
       "    </tr>\n",
       "    <tr>\n",
       "      <th>263</th>\n",
       "      <td>1</td>\n",
       "      <td>1</td>\n",
       "      <td>0</td>\n",
       "    </tr>\n",
       "    <tr>\n",
       "      <th>264</th>\n",
       "      <td>1</td>\n",
       "      <td>1</td>\n",
       "      <td>0</td>\n",
       "    </tr>\n",
       "    <tr>\n",
       "      <th>265</th>\n",
       "      <td>1</td>\n",
       "      <td>1</td>\n",
       "      <td>0</td>\n",
       "    </tr>\n",
       "    <tr>\n",
       "      <th>266</th>\n",
       "      <td>1</td>\n",
       "      <td>1</td>\n",
       "      <td>0</td>\n",
       "    </tr>\n",
       "    <tr>\n",
       "      <th>267</th>\n",
       "      <td>1</td>\n",
       "      <td>1</td>\n",
       "      <td>0</td>\n",
       "    </tr>\n",
       "    <tr>\n",
       "      <th>268</th>\n",
       "      <td>1</td>\n",
       "      <td>1</td>\n",
       "      <td>0</td>\n",
       "    </tr>\n",
       "    <tr>\n",
       "      <th>269</th>\n",
       "      <td>1</td>\n",
       "      <td>1</td>\n",
       "      <td>0</td>\n",
       "    </tr>\n",
       "    <tr>\n",
       "      <th>270</th>\n",
       "      <td>1</td>\n",
       "      <td>1</td>\n",
       "      <td>0</td>\n",
       "    </tr>\n",
       "    <tr>\n",
       "      <th>271</th>\n",
       "      <td>1</td>\n",
       "      <td>1</td>\n",
       "      <td>0</td>\n",
       "    </tr>\n",
       "    <tr>\n",
       "      <th>272</th>\n",
       "      <td>1</td>\n",
       "      <td>1</td>\n",
       "      <td>0</td>\n",
       "    </tr>\n",
       "    <tr>\n",
       "      <th>273</th>\n",
       "      <td>1</td>\n",
       "      <td>1</td>\n",
       "      <td>0</td>\n",
       "    </tr>\n",
       "    <tr>\n",
       "      <th>274</th>\n",
       "      <td>1</td>\n",
       "      <td>1</td>\n",
       "      <td>0</td>\n",
       "    </tr>\n",
       "    <tr>\n",
       "      <th>275</th>\n",
       "      <td>1</td>\n",
       "      <td>1</td>\n",
       "      <td>0</td>\n",
       "    </tr>\n",
       "    <tr>\n",
       "      <th>276</th>\n",
       "      <td>1</td>\n",
       "      <td>1</td>\n",
       "      <td>0</td>\n",
       "    </tr>\n",
       "    <tr>\n",
       "      <th>277</th>\n",
       "      <td>1</td>\n",
       "      <td>1</td>\n",
       "      <td>0</td>\n",
       "    </tr>\n",
       "    <tr>\n",
       "      <th>278</th>\n",
       "      <td>1</td>\n",
       "      <td>1</td>\n",
       "      <td>0</td>\n",
       "    </tr>\n",
       "    <tr>\n",
       "      <th>279</th>\n",
       "      <td>1</td>\n",
       "      <td>1</td>\n",
       "      <td>0</td>\n",
       "    </tr>\n",
       "  </tbody>\n",
       "</table>\n",
       "<p>279 rows × 3 columns</p>\n",
       "</div>"
      ],
      "text/plain": [
       "      codSubasta   Puja  Unnamed: 3\n",
       "lote                               \n",
       "1          16565  16565           0\n",
       "2           1732   1732           0\n",
       "3            926    926           0\n",
       "4            640    640           0\n",
       "5            496    496           0\n",
       "6            417    417           0\n",
       "7            368    368           0\n",
       "8            325    325           0\n",
       "9            285    285           0\n",
       "10           250    250           0\n",
       "11           228    228           0\n",
       "12           195    195           0\n",
       "13           177    177           0\n",
       "14           159    159           0\n",
       "15           151    151           0\n",
       "16           140    140           0\n",
       "17           128    128           0\n",
       "18           119    119           0\n",
       "19           113    113           0\n",
       "20           107    107           0\n",
       "21            98     98           0\n",
       "22            94     94           0\n",
       "23            90     90           0\n",
       "24            85     85           0\n",
       "25            81     81           0\n",
       "26            75     75           0\n",
       "27            69     69           0\n",
       "28            64     64           0\n",
       "29            58     58           0\n",
       "30            57     57           0\n",
       "...          ...    ...         ...\n",
       "250            1      1           0\n",
       "251            1      1           0\n",
       "252            1      1           0\n",
       "253            1      1           0\n",
       "254            1      1           0\n",
       "255            1      1           0\n",
       "256            1      1           0\n",
       "257            1      1           0\n",
       "258            1      1           0\n",
       "259            1      1           0\n",
       "260            1      1           0\n",
       "261            1      1           0\n",
       "262            1      1           0\n",
       "263            1      1           0\n",
       "264            1      1           0\n",
       "265            1      1           0\n",
       "266            1      1           0\n",
       "267            1      1           0\n",
       "268            1      1           0\n",
       "269            1      1           0\n",
       "270            1      1           0\n",
       "271            1      1           0\n",
       "272            1      1           0\n",
       "273            1      1           0\n",
       "274            1      1           0\n",
       "275            1      1           0\n",
       "276            1      1           0\n",
       "277            1      1           0\n",
       "278            1      1           0\n",
       "279            1      1           0\n",
       "\n",
       "[279 rows x 3 columns]"
      ]
     },
     "execution_count": 38,
     "metadata": {},
     "output_type": "execute_result"
    }
   ],
   "source": [
    "pujasSubastas[\"lote\"].loc[pujasSubastas.lote==0] = 1\n",
    "pujasSubastas.groupby(pujasSubastas[\"lote\"]).count()"
   ]
  },
  {
   "cell_type": "code",
   "execution_count": 39,
   "metadata": {},
   "outputs": [],
   "source": [
    "def cleanPujas(puja):\n",
    "    if type(puja)==float:\n",
    "        return puja\n",
    "    elif (puja in ['Sin puja','No consta', 'Cancelado', 'Con puja (inicie sesión para consultar el importe)']):\n",
    "        return np.nan\n",
    "    else:\n",
    "        return float(puja.replace(\" \\x80\",\"\").replace(\".\",\"\").replace(\",\",\".\"))\n",
    "    \n",
    "    \n",
    "pujasSubastas['Puja'] = pujasSubastas['Puja'].map(cleanPujas)"
   ]
  },
  {
   "cell_type": "code",
   "execution_count": 40,
   "metadata": {},
   "outputs": [
    {
     "data": {
      "text/plain": [
       "<matplotlib.axes._subplots.AxesSubplot at 0x29a507a67b8>"
      ]
     },
     "execution_count": 40,
     "metadata": {},
     "output_type": "execute_result"
    },
    {
     "data": {
      "image/png": "[encoded data removed]",
      "text/plain": [
       "<Figure size 432x288 with 1 Axes>"
      ]
     },
     "metadata": {
      "needs_background": "light"
     },
     "output_type": "display_data"
    }
   ],
   "source": [
    "pujasSubastas[(pujasSubastas['Puja']>0) & (500000<pujasSubastas['Puja'])]['Puja'].hist()"
   ]
  },
  {
   "cell_type": "markdown",
   "metadata": {},
   "source": [
    "#### _3.2. Identificación y tratamiento de valores extremos._\n",
    "\n",
    "Al corregir las variables numéricas como el valor de la subasta, hemos podido comprobar que existen valores extremos que deberán ser analizados.\n",
    "\n",
    "Para empezar marcaremos las subastas que tienen valores extremos en alguno de estos factores, para ver si son siempre los mismos."
   ]
  },
  {
   "cell_type": "code",
   "execution_count": 41,
   "metadata": {},
   "outputs": [],
   "source": [
    "def valorExtremo(col):\n",
    "    infoSubastas[\"exc_\" + col] = (infoSubastas[col]>=infoSubastas[col].quantile(0.95))\n",
    "    \n",
    "valorExtremo(\"totPuja\")\n",
    "valorExtremo(\"Puja mínima\")\n",
    "valorExtremo(\"Importe del depósito\")\n",
    "valorExtremo(\"Tasación\")\n",
    "valorExtremo(\"Tramos entre pujas\")\n",
    "valorExtremo(\"Valor subasta\")\n",
    "valorExtremo(\"Cantidad reclamada\")"
   ]
  },
  {
   "cell_type": "markdown",
   "metadata": {},
   "source": [
    "Revisamos si los valores extremos son están concentrados en subastas con varios lotes."
   ]
  },
  {
   "cell_type": "code",
   "execution_count": 42,
   "metadata": {},
   "outputs": [
    {
     "data": {
      "text/html": [
       "<div>\n",
       "<style scoped>\n",
       "    .dataframe tbody tr th:only-of-type {\n",
       "        vertical-align: middle;\n",
       "    }\n",
       "\n",
       "    .dataframe tbody tr th {\n",
       "        vertical-align: top;\n",
       "    }\n",
       "\n",
       "    .dataframe thead th {\n",
       "        text-align: right;\n",
       "    }\n",
       "</style>\n",
       "<table border=\"1\" class=\"dataframe\">\n",
       "  <thead>\n",
       "    <tr style=\"text-align: right;\">\n",
       "      <th>exc_Valor subasta</th>\n",
       "      <th>False</th>\n",
       "      <th>True</th>\n",
       "    </tr>\n",
       "    <tr>\n",
       "      <th>Lotes</th>\n",
       "      <th></th>\n",
       "      <th></th>\n",
       "    </tr>\n",
       "  </thead>\n",
       "  <tbody>\n",
       "    <tr>\n",
       "      <th>1.0</th>\n",
       "      <td>13139.0</td>\n",
       "      <td>390.0</td>\n",
       "    </tr>\n",
       "    <tr>\n",
       "      <th>2.0</th>\n",
       "      <td>1215.0</td>\n",
       "      <td>61.0</td>\n",
       "    </tr>\n",
       "    <tr>\n",
       "      <th>3.0</th>\n",
       "      <td>345.0</td>\n",
       "      <td>42.0</td>\n",
       "    </tr>\n",
       "    <tr>\n",
       "      <th>4.0</th>\n",
       "      <td>178.0</td>\n",
       "      <td>29.0</td>\n",
       "    </tr>\n",
       "    <tr>\n",
       "      <th>5.0</th>\n",
       "      <td>81.0</td>\n",
       "      <td>31.0</td>\n",
       "    </tr>\n",
       "    <tr>\n",
       "      <th>6.0</th>\n",
       "      <td>62.0</td>\n",
       "      <td>12.0</td>\n",
       "    </tr>\n",
       "    <tr>\n",
       "      <th>7.0</th>\n",
       "      <td>44.0</td>\n",
       "      <td>14.0</td>\n",
       "    </tr>\n",
       "    <tr>\n",
       "      <th>8.0</th>\n",
       "      <td>37.0</td>\n",
       "      <td>15.0</td>\n",
       "    </tr>\n",
       "    <tr>\n",
       "      <th>9.0</th>\n",
       "      <td>28.0</td>\n",
       "      <td>16.0</td>\n",
       "    </tr>\n",
       "    <tr>\n",
       "      <th>10.0</th>\n",
       "      <td>14.0</td>\n",
       "      <td>14.0</td>\n",
       "    </tr>\n",
       "    <tr>\n",
       "      <th>11.0</th>\n",
       "      <td>21.0</td>\n",
       "      <td>26.0</td>\n",
       "    </tr>\n",
       "    <tr>\n",
       "      <th>12.0</th>\n",
       "      <td>16.0</td>\n",
       "      <td>11.0</td>\n",
       "    </tr>\n",
       "    <tr>\n",
       "      <th>13.0</th>\n",
       "      <td>12.0</td>\n",
       "      <td>10.0</td>\n",
       "    </tr>\n",
       "    <tr>\n",
       "      <th>14.0</th>\n",
       "      <td>4.0</td>\n",
       "      <td>8.0</td>\n",
       "    </tr>\n",
       "    <tr>\n",
       "      <th>15.0</th>\n",
       "      <td>7.0</td>\n",
       "      <td>8.0</td>\n",
       "    </tr>\n",
       "    <tr>\n",
       "      <th>16.0</th>\n",
       "      <td>9.0</td>\n",
       "      <td>10.0</td>\n",
       "    </tr>\n",
       "    <tr>\n",
       "      <th>17.0</th>\n",
       "      <td>3.0</td>\n",
       "      <td>9.0</td>\n",
       "    </tr>\n",
       "    <tr>\n",
       "      <th>18.0</th>\n",
       "      <td>2.0</td>\n",
       "      <td>6.0</td>\n",
       "    </tr>\n",
       "    <tr>\n",
       "      <th>19.0</th>\n",
       "      <td>5.0</td>\n",
       "      <td>4.0</td>\n",
       "    </tr>\n",
       "    <tr>\n",
       "      <th>20.0</th>\n",
       "      <td>3.0</td>\n",
       "      <td>6.0</td>\n",
       "    </tr>\n",
       "    <tr>\n",
       "      <th>21.0</th>\n",
       "      <td>2.0</td>\n",
       "      <td>4.0</td>\n",
       "    </tr>\n",
       "    <tr>\n",
       "      <th>22.0</th>\n",
       "      <td>3.0</td>\n",
       "      <td>4.0</td>\n",
       "    </tr>\n",
       "    <tr>\n",
       "      <th>23.0</th>\n",
       "      <td>2.0</td>\n",
       "      <td>4.0</td>\n",
       "    </tr>\n",
       "    <tr>\n",
       "      <th>24.0</th>\n",
       "      <td>2.0</td>\n",
       "      <td>4.0</td>\n",
       "    </tr>\n",
       "    <tr>\n",
       "      <th>25.0</th>\n",
       "      <td>7.0</td>\n",
       "      <td>2.0</td>\n",
       "    </tr>\n",
       "    <tr>\n",
       "      <th>26.0</th>\n",
       "      <td>2.0</td>\n",
       "      <td>4.0</td>\n",
       "    </tr>\n",
       "    <tr>\n",
       "      <th>27.0</th>\n",
       "      <td>NaN</td>\n",
       "      <td>6.0</td>\n",
       "    </tr>\n",
       "    <tr>\n",
       "      <th>28.0</th>\n",
       "      <td>5.0</td>\n",
       "      <td>2.0</td>\n",
       "    </tr>\n",
       "    <tr>\n",
       "      <th>29.0</th>\n",
       "      <td>1.0</td>\n",
       "      <td>1.0</td>\n",
       "    </tr>\n",
       "    <tr>\n",
       "      <th>30.0</th>\n",
       "      <td>1.0</td>\n",
       "      <td>5.0</td>\n",
       "    </tr>\n",
       "    <tr>\n",
       "      <th>...</th>\n",
       "      <td>...</td>\n",
       "      <td>...</td>\n",
       "    </tr>\n",
       "    <tr>\n",
       "      <th>36.0</th>\n",
       "      <td>1.0</td>\n",
       "      <td>3.0</td>\n",
       "    </tr>\n",
       "    <tr>\n",
       "      <th>37.0</th>\n",
       "      <td>NaN</td>\n",
       "      <td>2.0</td>\n",
       "    </tr>\n",
       "    <tr>\n",
       "      <th>38.0</th>\n",
       "      <td>NaN</td>\n",
       "      <td>2.0</td>\n",
       "    </tr>\n",
       "    <tr>\n",
       "      <th>39.0</th>\n",
       "      <td>NaN</td>\n",
       "      <td>2.0</td>\n",
       "    </tr>\n",
       "    <tr>\n",
       "      <th>40.0</th>\n",
       "      <td>NaN</td>\n",
       "      <td>1.0</td>\n",
       "    </tr>\n",
       "    <tr>\n",
       "      <th>41.0</th>\n",
       "      <td>NaN</td>\n",
       "      <td>1.0</td>\n",
       "    </tr>\n",
       "    <tr>\n",
       "      <th>43.0</th>\n",
       "      <td>NaN</td>\n",
       "      <td>3.0</td>\n",
       "    </tr>\n",
       "    <tr>\n",
       "      <th>44.0</th>\n",
       "      <td>NaN</td>\n",
       "      <td>1.0</td>\n",
       "    </tr>\n",
       "    <tr>\n",
       "      <th>45.0</th>\n",
       "      <td>1.0</td>\n",
       "      <td>2.0</td>\n",
       "    </tr>\n",
       "    <tr>\n",
       "      <th>47.0</th>\n",
       "      <td>1.0</td>\n",
       "      <td>1.0</td>\n",
       "    </tr>\n",
       "    <tr>\n",
       "      <th>48.0</th>\n",
       "      <td>NaN</td>\n",
       "      <td>2.0</td>\n",
       "    </tr>\n",
       "    <tr>\n",
       "      <th>50.0</th>\n",
       "      <td>1.0</td>\n",
       "      <td>2.0</td>\n",
       "    </tr>\n",
       "    <tr>\n",
       "      <th>53.0</th>\n",
       "      <td>NaN</td>\n",
       "      <td>1.0</td>\n",
       "    </tr>\n",
       "    <tr>\n",
       "      <th>54.0</th>\n",
       "      <td>NaN</td>\n",
       "      <td>2.0</td>\n",
       "    </tr>\n",
       "    <tr>\n",
       "      <th>56.0</th>\n",
       "      <td>NaN</td>\n",
       "      <td>1.0</td>\n",
       "    </tr>\n",
       "    <tr>\n",
       "      <th>58.0</th>\n",
       "      <td>1.0</td>\n",
       "      <td>NaN</td>\n",
       "    </tr>\n",
       "    <tr>\n",
       "      <th>63.0</th>\n",
       "      <td>1.0</td>\n",
       "      <td>NaN</td>\n",
       "    </tr>\n",
       "    <tr>\n",
       "      <th>64.0</th>\n",
       "      <td>NaN</td>\n",
       "      <td>1.0</td>\n",
       "    </tr>\n",
       "    <tr>\n",
       "      <th>66.0</th>\n",
       "      <td>NaN</td>\n",
       "      <td>1.0</td>\n",
       "    </tr>\n",
       "    <tr>\n",
       "      <th>67.0</th>\n",
       "      <td>NaN</td>\n",
       "      <td>2.0</td>\n",
       "    </tr>\n",
       "    <tr>\n",
       "      <th>71.0</th>\n",
       "      <td>1.0</td>\n",
       "      <td>NaN</td>\n",
       "    </tr>\n",
       "    <tr>\n",
       "      <th>73.0</th>\n",
       "      <td>NaN</td>\n",
       "      <td>1.0</td>\n",
       "    </tr>\n",
       "    <tr>\n",
       "      <th>81.0</th>\n",
       "      <td>1.0</td>\n",
       "      <td>NaN</td>\n",
       "    </tr>\n",
       "    <tr>\n",
       "      <th>87.0</th>\n",
       "      <td>1.0</td>\n",
       "      <td>NaN</td>\n",
       "    </tr>\n",
       "    <tr>\n",
       "      <th>92.0</th>\n",
       "      <td>1.0</td>\n",
       "      <td>NaN</td>\n",
       "    </tr>\n",
       "    <tr>\n",
       "      <th>117.0</th>\n",
       "      <td>1.0</td>\n",
       "      <td>1.0</td>\n",
       "    </tr>\n",
       "    <tr>\n",
       "      <th>130.0</th>\n",
       "      <td>NaN</td>\n",
       "      <td>1.0</td>\n",
       "    </tr>\n",
       "    <tr>\n",
       "      <th>134.0</th>\n",
       "      <td>NaN</td>\n",
       "      <td>2.0</td>\n",
       "    </tr>\n",
       "    <tr>\n",
       "      <th>191.0</th>\n",
       "      <td>NaN</td>\n",
       "      <td>1.0</td>\n",
       "    </tr>\n",
       "    <tr>\n",
       "      <th>279.0</th>\n",
       "      <td>NaN</td>\n",
       "      <td>1.0</td>\n",
       "    </tr>\n",
       "  </tbody>\n",
       "</table>\n",
       "<p>65 rows × 2 columns</p>\n",
       "</div>"
      ],
      "text/plain": [
       "exc_Valor subasta    False  True \n",
       "Lotes                            \n",
       "1.0                13139.0  390.0\n",
       "2.0                 1215.0   61.0\n",
       "3.0                  345.0   42.0\n",
       "4.0                  178.0   29.0\n",
       "5.0                   81.0   31.0\n",
       "6.0                   62.0   12.0\n",
       "7.0                   44.0   14.0\n",
       "8.0                   37.0   15.0\n",
       "9.0                   28.0   16.0\n",
       "10.0                  14.0   14.0\n",
       "11.0                  21.0   26.0\n",
       "12.0                  16.0   11.0\n",
       "13.0                  12.0   10.0\n",
       "14.0                   4.0    8.0\n",
       "15.0                   7.0    8.0\n",
       "16.0                   9.0   10.0\n",
       "17.0                   3.0    9.0\n",
       "18.0                   2.0    6.0\n",
       "19.0                   5.0    4.0\n",
       "20.0                   3.0    6.0\n",
       "21.0                   2.0    4.0\n",
       "22.0                   3.0    4.0\n",
       "23.0                   2.0    4.0\n",
       "24.0                   2.0    4.0\n",
       "25.0                   7.0    2.0\n",
       "26.0                   2.0    4.0\n",
       "27.0                   NaN    6.0\n",
       "28.0                   5.0    2.0\n",
       "29.0                   1.0    1.0\n",
       "30.0                   1.0    5.0\n",
       "...                    ...    ...\n",
       "36.0                   1.0    3.0\n",
       "37.0                   NaN    2.0\n",
       "38.0                   NaN    2.0\n",
       "39.0                   NaN    2.0\n",
       "40.0                   NaN    1.0\n",
       "41.0                   NaN    1.0\n",
       "43.0                   NaN    3.0\n",
       "44.0                   NaN    1.0\n",
       "45.0                   1.0    2.0\n",
       "47.0                   1.0    1.0\n",
       "48.0                   NaN    2.0\n",
       "50.0                   1.0    2.0\n",
       "53.0                   NaN    1.0\n",
       "54.0                   NaN    2.0\n",
       "56.0                   NaN    1.0\n",
       "58.0                   1.0    NaN\n",
       "63.0                   1.0    NaN\n",
       "64.0                   NaN    1.0\n",
       "66.0                   NaN    1.0\n",
       "67.0                   NaN    2.0\n",
       "71.0                   1.0    NaN\n",
       "73.0                   NaN    1.0\n",
       "81.0                   1.0    NaN\n",
       "87.0                   1.0    NaN\n",
       "92.0                   1.0    NaN\n",
       "117.0                  1.0    1.0\n",
       "130.0                  NaN    1.0\n",
       "134.0                  NaN    2.0\n",
       "191.0                  NaN    1.0\n",
       "279.0                  NaN    1.0\n",
       "\n",
       "[65 rows x 2 columns]"
      ]
     },
     "execution_count": 42,
     "metadata": {},
     "output_type": "execute_result"
    }
   ],
   "source": [
    "infoSubastas.pivot_table(values=\"codSubasta\",index=\"Lotes\",columns='exc_Valor subasta',aggfunc=\"count\")"
   ]
  },
  {
   "cell_type": "markdown",
   "metadata": {},
   "source": [
    "**Conclusión**, sí. El únicamente el 48% de los valores extremos tienen un solo lote mientras que los valores nomales tienen en alrededor del 80% de los casos un solo lote."
   ]
  },
  {
   "cell_type": "markdown",
   "metadata": {},
   "source": [
    "Analizamos la correlación entre estar en el 5% más alto en los diferentes valores."
   ]
  },
  {
   "cell_type": "code",
   "execution_count": 43,
   "metadata": {},
   "outputs": [
    {
     "data": {
      "text/html": [
       "<div>\n",
       "<style scoped>\n",
       "    .dataframe tbody tr th:only-of-type {\n",
       "        vertical-align: middle;\n",
       "    }\n",
       "\n",
       "    .dataframe tbody tr th {\n",
       "        vertical-align: top;\n",
       "    }\n",
       "\n",
       "    .dataframe thead th {\n",
       "        text-align: right;\n",
       "    }\n",
       "</style>\n",
       "<table border=\"1\" class=\"dataframe\">\n",
       "  <thead>\n",
       "    <tr style=\"text-align: right;\">\n",
       "      <th></th>\n",
       "      <th>exc_totPuja</th>\n",
       "      <th>exc_Puja mínima</th>\n",
       "      <th>exc_Importe del depósito</th>\n",
       "      <th>exc_Tasación</th>\n",
       "      <th>exc_Tramos entre pujas</th>\n",
       "      <th>exc_Valor subasta</th>\n",
       "      <th>exc_Cantidad reclamada</th>\n",
       "    </tr>\n",
       "  </thead>\n",
       "  <tbody>\n",
       "    <tr>\n",
       "      <th>exc_totPuja</th>\n",
       "      <td>1.000000</td>\n",
       "      <td>0.002253</td>\n",
       "      <td>0.142409</td>\n",
       "      <td>0.063884</td>\n",
       "      <td>0.072930</td>\n",
       "      <td>0.083605</td>\n",
       "      <td>0.053766</td>\n",
       "    </tr>\n",
       "    <tr>\n",
       "      <th>exc_Puja mínima</th>\n",
       "      <td>0.002253</td>\n",
       "      <td>1.000000</td>\n",
       "      <td>0.118695</td>\n",
       "      <td>0.248160</td>\n",
       "      <td>0.058960</td>\n",
       "      <td>0.161420</td>\n",
       "      <td>0.119092</td>\n",
       "    </tr>\n",
       "    <tr>\n",
       "      <th>exc_Importe del depósito</th>\n",
       "      <td>0.142409</td>\n",
       "      <td>0.118695</td>\n",
       "      <td>1.000000</td>\n",
       "      <td>0.324529</td>\n",
       "      <td>0.209423</td>\n",
       "      <td>0.589293</td>\n",
       "      <td>0.304433</td>\n",
       "    </tr>\n",
       "    <tr>\n",
       "      <th>exc_Tasación</th>\n",
       "      <td>0.063884</td>\n",
       "      <td>0.248160</td>\n",
       "      <td>0.324529</td>\n",
       "      <td>1.000000</td>\n",
       "      <td>0.069014</td>\n",
       "      <td>0.343538</td>\n",
       "      <td>0.216772</td>\n",
       "    </tr>\n",
       "    <tr>\n",
       "      <th>exc_Tramos entre pujas</th>\n",
       "      <td>0.072930</td>\n",
       "      <td>0.058960</td>\n",
       "      <td>0.209423</td>\n",
       "      <td>0.069014</td>\n",
       "      <td>1.000000</td>\n",
       "      <td>0.148359</td>\n",
       "      <td>0.082679</td>\n",
       "    </tr>\n",
       "    <tr>\n",
       "      <th>exc_Valor subasta</th>\n",
       "      <td>0.083605</td>\n",
       "      <td>0.161420</td>\n",
       "      <td>0.589293</td>\n",
       "      <td>0.343538</td>\n",
       "      <td>0.148359</td>\n",
       "      <td>1.000000</td>\n",
       "      <td>0.541049</td>\n",
       "    </tr>\n",
       "    <tr>\n",
       "      <th>exc_Cantidad reclamada</th>\n",
       "      <td>0.053766</td>\n",
       "      <td>0.119092</td>\n",
       "      <td>0.304433</td>\n",
       "      <td>0.216772</td>\n",
       "      <td>0.082679</td>\n",
       "      <td>0.541049</td>\n",
       "      <td>1.000000</td>\n",
       "    </tr>\n",
       "  </tbody>\n",
       "</table>\n",
       "</div>"
      ],
      "text/plain": [
       "                          exc_totPuja  exc_Puja mínima  \\\n",
       "exc_totPuja                  1.000000         0.002253   \n",
       "exc_Puja mínima              0.002253         1.000000   \n",
       "exc_Importe del depósito     0.142409         0.118695   \n",
       "exc_Tasación                 0.063884         0.248160   \n",
       "exc_Tramos entre pujas       0.072930         0.058960   \n",
       "exc_Valor subasta            0.083605         0.161420   \n",
       "exc_Cantidad reclamada       0.053766         0.119092   \n",
       "\n",
       "                          exc_Importe del depósito  exc_Tasación  \\\n",
       "exc_totPuja                               0.142409      0.063884   \n",
       "exc_Puja mínima                           0.118695      0.248160   \n",
       "exc_Importe del depósito                  1.000000      0.324529   \n",
       "exc_Tasación                              0.324529      1.000000   \n",
       "exc_Tramos entre pujas                    0.209423      0.069014   \n",
       "exc_Valor subasta                         0.589293      0.343538   \n",
       "exc_Cantidad reclamada                    0.304433      0.216772   \n",
       "\n",
       "                          exc_Tramos entre pujas  exc_Valor subasta  \\\n",
       "exc_totPuja                             0.072930           0.083605   \n",
       "exc_Puja mínima                         0.058960           0.161420   \n",
       "exc_Importe del depósito                0.209423           0.589293   \n",
       "exc_Tasación                            0.069014           0.343538   \n",
       "exc_Tramos entre pujas                  1.000000           0.148359   \n",
       "exc_Valor subasta                       0.148359           1.000000   \n",
       "exc_Cantidad reclamada                  0.082679           0.541049   \n",
       "\n",
       "                          exc_Cantidad reclamada  \n",
       "exc_totPuja                             0.053766  \n",
       "exc_Puja mínima                         0.119092  \n",
       "exc_Importe del depósito                0.304433  \n",
       "exc_Tasación                            0.216772  \n",
       "exc_Tramos entre pujas                  0.082679  \n",
       "exc_Valor subasta                       0.541049  \n",
       "exc_Cantidad reclamada                  1.000000  "
      ]
     },
     "execution_count": 43,
     "metadata": {},
     "output_type": "execute_result"
    }
   ],
   "source": [
    "infoSubastas[[col for col in infoSubastas.columns if col.find(\"exc_\")==0]].corr()"
   ]
  },
  {
   "cell_type": "markdown",
   "metadata": {},
   "source": [
    "**Conclusión**, cuando el valor de la subasta toma un valor extremo también suele hacerlo la cantidad reclamada y el importe del depósito.\n",
    "\n",
    "No considero que los importes del _dataset_ infoSubastas deban ser eliminados o capados.\n",
    "\n",
    "Se analiza el _dataset_ pujasSubastas, donde si parece que puede ser necesario eliminar los valores extremos, por ejemplo el de 8.000.000€ que es un hotel en Barcelona centro. "
   ]
  },
  {
   "cell_type": "code",
   "execution_count": 44,
   "metadata": {},
   "outputs": [
    {
     "name": "stdout",
     "output_type": "stream",
     "text": [
      "El porcentaje de pujas mayores de 1.000.000€ es de 0.989299%\n"
     ]
    },
    {
     "data": {
      "text/plain": [
       "<matplotlib.axes._subplots.AxesSubplot at 0x29a50c45320>"
      ]
     },
     "execution_count": 44,
     "metadata": {},
     "output_type": "execute_result"
    },
    {
     "data": {
      "image/png": "[encoded data removed]",
      "text/plain": [
       "<Figure size 432x288 with 1 Axes>"
      ]
     },
     "metadata": {
      "needs_background": "light"
     },
     "output_type": "display_data"
    }
   ],
   "source": [
    "print(\"El porcentaje de pujas mayores de 1.000.000€ es de %f%%\"%(100*(pujasSubastas[\"Puja\"]>1000000).sum()/(pujasSubastas[\"Puja\"]>0).sum()))\n",
    "pujasSubastas[pujasSubastas[\"Puja\"]>1000000][\"Puja\"].hist()"
   ]
  },
  {
   "cell_type": "markdown",
   "metadata": {},
   "source": [
    "Eliminamos las subastas con pujas superiores al 1.000.000. Por unas comprobaciones hechas, se trata de edificios enteros sin división horizontal con uso de hotel, almacen o uso industrial."
   ]
  },
  {
   "cell_type": "code",
   "execution_count": 45,
   "metadata": {},
   "outputs": [
    {
     "name": "stdout",
     "output_type": "stream",
     "text": [
      "Número de subastas final: 28622\n"
     ]
    }
   ],
   "source": [
    "extrem_pujas = pujasSubastas[pujasSubastas[\"Puja\"]>1000000][\"codSubasta\"]\n",
    "\n",
    "lotesSubastas = lotesSubastas[lotesSubastas[\"codSubasta\"].isin(extrem_pujas)==False]\n",
    "infoSubastas = infoSubastas[infoSubastas[\"codSubasta\"].isin(extrem_pujas)==False]\n",
    "pujasSubastas = pujasSubastas[pujasSubastas[\"codSubasta\"].isin(extrem_pujas)==False]\n",
    "print(\"Número de subastas final: %d\"%(len(lotesSubastas)))"
   ]
  },
  {
   "cell_type": "markdown",
   "metadata": {},
   "source": [
    "### _4. Análisis de los datos._\n",
    "\n",
    "#### _4.1. Selección de los grupos de datos que se quieren analizar/comparar (planificación de los análisis a aplicar)._\n",
    "\n",
    "Arreglamos la variable primario lote del _dataset_ _pujasSubastas_ para que se pueda cruzar con _lotesSubastas_.\n"
   ]
  },
  {
   "cell_type": "code",
   "execution_count": 46,
   "metadata": {},
   "outputs": [],
   "source": [
    "pujasSubastas[\"numLote\"] = pujasSubastas[\"lote\"]\n",
    "pujasSubastas[\"lote\"] = pujasSubastas[\"lote\"].map(lambda x: \"Lote \"+str(x))"
   ]
  },
  {
   "cell_type": "markdown",
   "metadata": {},
   "source": [
    "Unimos las tablas quedandonos únicamente con los factores que queremos meter dentro del análisis."
   ]
  },
  {
   "cell_type": "code",
   "execution_count": 47,
   "metadata": {},
   "outputs": [],
   "source": [
    "colLotes=['codSubasta','lote','Localidad','Valor Subasta','Puja mínima','Vivienda habitual','Referencia catastral',\n",
    "          'Situación posesoria','Importe del depósito','Visitable','Dirección','Valor de tasación','numBienes',\n",
    "          'Tramos entre pujas', 'Provincia', 'Código Postal']\n",
    "colPujas=[\"codSubasta\",\"lote\",\"Puja\"]\n",
    "colInfo=['codSubasta', 'Lotes', 'adm_Localidad','Tipo de subasta', 'numInteresados', 'numAcreedores',\n",
    "         'autoridad', 'Tasación', 'estado', 'Tramos entre pujas','acreedorPrivilegiado', 'adm_Provincia',\n",
    "         'Forma adjudicación','Cantidad reclamada','monthConclusion', 'yearConclusion','monthInicio', 'yearInicio']\n",
    "\n",
    "bdFinal = pd.merge(lotesSubastas[colLotes], pujasSubastas[colPujas],how='left',left_on=[\"codSubasta\",\"lote\"],right_on=[\"codSubasta\",\"lote\"])\n",
    "bdFinal = pd.merge(bdFinal, infoSubastas[colInfo],how='inner',left_on=[\"codSubasta\"],right_on=[\"codSubasta\"])"
   ]
  },
  {
   "cell_type": "markdown",
   "metadata": {},
   "source": [
    "Se crean nuevos campos a través de los factores existentes:"
   ]
  },
  {
   "cell_type": "markdown",
   "metadata": {},
   "source": [
    "* **Referencia catastral**: Si tiene una longitud de 14 caracteres significa que es una parcela entera, luego un potencial edificio sin división horizontal, en caso de ser de 19 es un inmueble dentro de una parcela."
   ]
  },
  {
   "cell_type": "code",
   "execution_count": 48,
   "metadata": {},
   "outputs": [
    {
     "data": {
      "text/html": [
       "<div>\n",
       "<style scoped>\n",
       "    .dataframe tbody tr th:only-of-type {\n",
       "        vertical-align: middle;\n",
       "    }\n",
       "\n",
       "    .dataframe tbody tr th {\n",
       "        vertical-align: top;\n",
       "    }\n",
       "\n",
       "    .dataframe thead th {\n",
       "        text-align: right;\n",
       "    }\n",
       "</style>\n",
       "<table border=\"1\" class=\"dataframe\">\n",
       "  <thead>\n",
       "    <tr style=\"text-align: right;\">\n",
       "      <th></th>\n",
       "      <th>codSubasta</th>\n",
       "    </tr>\n",
       "    <tr>\n",
       "      <th>tipoRef</th>\n",
       "      <th></th>\n",
       "    </tr>\n",
       "  </thead>\n",
       "  <tbody>\n",
       "    <tr>\n",
       "      <th>Desconocido</th>\n",
       "      <td>21839</td>\n",
       "    </tr>\n",
       "    <tr>\n",
       "      <th>Inmueble</th>\n",
       "      <td>8819</td>\n",
       "    </tr>\n",
       "    <tr>\n",
       "      <th>Parcela</th>\n",
       "      <td>176</td>\n",
       "    </tr>\n",
       "  </tbody>\n",
       "</table>\n",
       "</div>"
      ],
      "text/plain": [
       "             codSubasta\n",
       "tipoRef                \n",
       "Desconocido       21839\n",
       "Inmueble           8819\n",
       "Parcela             176"
      ]
     },
     "execution_count": 48,
     "metadata": {},
     "output_type": "execute_result"
    }
   ],
   "source": [
    "def tipoRef(ref):\n",
    "    if type(ref)!=str:\n",
    "        return \"Desconocido\"\n",
    "    elif len(ref)==14:\n",
    "        return \"Parcela\"\n",
    "    elif len(ref)==20:\n",
    "        return \"Inmueble\"\n",
    "    else:\n",
    "        return \"Desconocido\"\n",
    "    \n",
    "bdFinal[\"tipoRef\"] = bdFinal['Referencia catastral'].map(tipoRef)\n",
    "bdFinal.pivot_table(values=\"codSubasta\",index=\"tipoRef\",aggfunc=\"count\")\n",
    "\n"
   ]
  },
  {
   "cell_type": "code",
   "execution_count": 49,
   "metadata": {},
   "outputs": [],
   "source": [
    "del bdFinal['Referencia catastral']"
   ]
  },
  {
   "cell_type": "markdown",
   "metadata": {},
   "source": [
    "* **Estado**: Si NaN entonces desconocido."
   ]
  },
  {
   "cell_type": "code",
   "execution_count": 50,
   "metadata": {},
   "outputs": [
    {
     "name": "stderr",
     "output_type": "stream",
     "text": [
      "C:\\ProgramData\\Anaconda3\\lib\\site-packages\\ipykernel_launcher.py:1: SettingWithCopyWarning: \n",
      "A value is trying to be set on a copy of a slice from a DataFrame\n",
      "\n",
      "See the caveats in the documentation: http://pandas.pydata.org/pandas-docs/stable/indexing.html#indexing-view-versus-copy\n",
      "  \"\"\"Entry point for launching an IPython kernel.\n"
     ]
    },
    {
     "data": {
      "text/plain": [
       "estado\n",
       "Cancelad         3818\n",
       "Celebrándose      738\n",
       "Concluida        4327\n",
       "Finalizada      21874\n",
       "Suspendid          77\n",
       "Name: codSubasta, dtype: int64"
      ]
     },
     "execution_count": 50,
     "metadata": {},
     "output_type": "execute_result"
    }
   ],
   "source": [
    "bdFinal['estado'][bdFinal['estado'].isnull()]=\"Desconocido\"\n",
    "bdFinal.groupby('estado')['codSubasta'].count()"
   ]
  },
  {
   "cell_type": "markdown",
   "metadata": {},
   "source": [
    "* **Autoridad**: Transformamos el campo autoridad a tipoAutoridad para analizar únicamente aquellas instancias más comunes."
   ]
  },
  {
   "cell_type": "code",
   "execution_count": 51,
   "metadata": {},
   "outputs": [],
   "source": [
    "def tipoAutoridad(autoridad):\n",
    "    if type(autoridad)!=str:\n",
    "        return \"Otros\"\n",
    "    else:\n",
    "        autoridad = autoridad.upper()\n",
    "        \n",
    "    if autoridad.find('JUZGADO 1ª INST')!=-1:\n",
    "        return 'JUZGADO 1ª INST'    \n",
    "    if autoridad.find('JUZGADO')!=-1:\n",
    "        return 'OTROS JUZGADOS'    \n",
    "    elif autoridad.find('NOTARÍA')!=-1:\n",
    "        return 'Notaría'\n",
    "#     elif autoridad.find('SUBASTAS')!=-1:\n",
    "#         return 'SUBASTAS'\n",
    "#     elif autoridad.find('CONSELL COMARCAL')!=-1:\n",
    "#         return 'CONSELL COMARCAL'\n",
    "#     elif autoridad.find('AUDIENCIA PROV')!=-1:\n",
    "#         return 'AUDIENCIA PROV'\n",
    "#     elif autoridad.find('CONSELL COMARCAL')!=-1:\n",
    "#         return 'CONSELL COMARCAL'\n",
    "#     elif autoridad.find('AUDIENCIA NACIONAL')!=-1:\n",
    "#         return 'AUDIENCIA NACIONAL'\n",
    "    else:\n",
    "        return \"Otros\"\n",
    "bdFinal[\"tipoAutor\"] = bdFinal[\"autoridad\"].map(tipoAutoridad)\n",
    "del bdFinal[\"autoridad\"]"
   ]
  },
  {
   "cell_type": "code",
   "execution_count": 52,
   "metadata": {},
   "outputs": [
    {
     "data": {
      "text/html": [
       "<div>\n",
       "<style scoped>\n",
       "    .dataframe tbody tr th:only-of-type {\n",
       "        vertical-align: middle;\n",
       "    }\n",
       "\n",
       "    .dataframe tbody tr th {\n",
       "        vertical-align: top;\n",
       "    }\n",
       "\n",
       "    .dataframe thead th {\n",
       "        text-align: right;\n",
       "    }\n",
       "</style>\n",
       "<table border=\"1\" class=\"dataframe\">\n",
       "  <thead>\n",
       "    <tr style=\"text-align: right;\">\n",
       "      <th></th>\n",
       "      <th>codSubasta</th>\n",
       "    </tr>\n",
       "    <tr>\n",
       "      <th>tipoAutor</th>\n",
       "      <th></th>\n",
       "    </tr>\n",
       "  </thead>\n",
       "  <tbody>\n",
       "    <tr>\n",
       "      <th>JUZGADO 1ª INST</th>\n",
       "      <td>24021</td>\n",
       "    </tr>\n",
       "    <tr>\n",
       "      <th>Notaría</th>\n",
       "      <td>1022</td>\n",
       "    </tr>\n",
       "    <tr>\n",
       "      <th>OTROS JUZGADOS</th>\n",
       "      <td>5686</td>\n",
       "    </tr>\n",
       "    <tr>\n",
       "      <th>Otros</th>\n",
       "      <td>105</td>\n",
       "    </tr>\n",
       "  </tbody>\n",
       "</table>\n",
       "</div>"
      ],
      "text/plain": [
       "                 codSubasta\n",
       "tipoAutor                  \n",
       "JUZGADO 1ª INST       24021\n",
       "Notaría                1022\n",
       "OTROS JUZGADOS         5686\n",
       "Otros                   105"
      ]
     },
     "execution_count": 52,
     "metadata": {},
     "output_type": "execute_result"
    }
   ],
   "source": [
    "bdFinal.pivot_table(values=\"codSubasta\", index=\"tipoAutor\", aggfunc=\"count\")"
   ]
  },
  {
   "cell_type": "markdown",
   "metadata": {},
   "source": [
    "* **Provincia**: Transformamos el campo provincia, marcando como resto aquellas que no estén en Caalunya."
   ]
  },
  {
   "cell_type": "code",
   "execution_count": 53,
   "metadata": {},
   "outputs": [],
   "source": [
    "def fmtProvincia(provincia):\n",
    "    if type(provincia)!=str:\n",
    "        return \"Otros\"\n",
    "    else:\n",
    "        provincia = provincia.upper()\n",
    "        \n",
    "    if provincia.find('BARCELONA')!=-1:\n",
    "        return 'BARCELONA'    \n",
    "    if provincia.find('TARRAGONA')!=-1:\n",
    "        return 'TARRAGONA'    \n",
    "    elif provincia.find('GERONA')!=-1:\n",
    "        return 'GERONA'\n",
    "    elif provincia.find('LERIDA')!=-1:\n",
    "        return 'LERIDA'\n",
    "    else:\n",
    "        return \"Otros\"\n",
    "bdFinal['Provincia'] = bdFinal['Provincia'].map(fmtProvincia)"
   ]
  },
  {
   "cell_type": "code",
   "execution_count": 54,
   "metadata": {},
   "outputs": [
    {
     "data": {
      "text/html": [
       "<div>\n",
       "<style scoped>\n",
       "    .dataframe tbody tr th:only-of-type {\n",
       "        vertical-align: middle;\n",
       "    }\n",
       "\n",
       "    .dataframe tbody tr th {\n",
       "        vertical-align: top;\n",
       "    }\n",
       "\n",
       "    .dataframe thead th {\n",
       "        text-align: right;\n",
       "    }\n",
       "</style>\n",
       "<table border=\"1\" class=\"dataframe\">\n",
       "  <thead>\n",
       "    <tr style=\"text-align: right;\">\n",
       "      <th></th>\n",
       "      <th>codSubasta</th>\n",
       "    </tr>\n",
       "    <tr>\n",
       "      <th>Provincia</th>\n",
       "      <th></th>\n",
       "    </tr>\n",
       "  </thead>\n",
       "  <tbody>\n",
       "    <tr>\n",
       "      <th>BARCELONA</th>\n",
       "      <td>16090</td>\n",
       "    </tr>\n",
       "    <tr>\n",
       "      <th>GERONA</th>\n",
       "      <td>5002</td>\n",
       "    </tr>\n",
       "    <tr>\n",
       "      <th>Otros</th>\n",
       "      <td>3682</td>\n",
       "    </tr>\n",
       "    <tr>\n",
       "      <th>TARRAGONA</th>\n",
       "      <td>6060</td>\n",
       "    </tr>\n",
       "  </tbody>\n",
       "</table>\n",
       "</div>"
      ],
      "text/plain": [
       "           codSubasta\n",
       "Provincia            \n",
       "BARCELONA       16090\n",
       "GERONA           5002\n",
       "Otros            3682\n",
       "TARRAGONA        6060"
      ]
     },
     "execution_count": 54,
     "metadata": {},
     "output_type": "execute_result"
    }
   ],
   "source": [
    "bdFinal.pivot_table(values=\"codSubasta\", index='Provincia', aggfunc=\"count\")"
   ]
  },
  {
   "cell_type": "markdown",
   "metadata": {},
   "source": [
    "* **Situación posesoria**: Transformamos el campo provincia, marcando como resto aquellas que no estén en Caalunya."
   ]
  },
  {
   "cell_type": "code",
   "execution_count": 55,
   "metadata": {},
   "outputs": [],
   "source": [
    "def corrSitPos(sitPos):\n",
    "    if type(sitPos)!=str:\n",
    "        return \"Otros\"\n",
    "    else:\n",
    "        sitPos = sitPos.upper()\n",
    "        \n",
    "    if sitPos.find('NO CONSTA')!=-1:\n",
    "        return 'No consta'    \n",
    "    if sitPos.find('OCUPANTES CON DERECHO')!=-1:\n",
    "        return 'Ocupantes con derecho'    \n",
    "    elif sitPos.find('OCUPANTES SIN DERECHO')!=-1:\n",
    "        return 'Ocupantes sin derecho'\n",
    "    elif sitPos.find('SIN OCUPANTES')!=-1:\n",
    "        return 'Sin ocupantes'\n",
    "    else:\n",
    "        return \"Otros\"\n",
    "\n",
    "col=\"Situación posesoria\"\n",
    "bdFinal[col] = bdFinal[col].map(corrSitPos)"
   ]
  },
  {
   "cell_type": "code",
   "execution_count": 56,
   "metadata": {},
   "outputs": [
    {
     "data": {
      "text/html": [
       "<div>\n",
       "<style scoped>\n",
       "    .dataframe tbody tr th:only-of-type {\n",
       "        vertical-align: middle;\n",
       "    }\n",
       "\n",
       "    .dataframe tbody tr th {\n",
       "        vertical-align: top;\n",
       "    }\n",
       "\n",
       "    .dataframe thead th {\n",
       "        text-align: right;\n",
       "    }\n",
       "</style>\n",
       "<table border=\"1\" class=\"dataframe\">\n",
       "  <thead>\n",
       "    <tr style=\"text-align: right;\">\n",
       "      <th></th>\n",
       "      <th>codSubasta</th>\n",
       "    </tr>\n",
       "    <tr>\n",
       "      <th>Situación posesoria</th>\n",
       "      <th></th>\n",
       "    </tr>\n",
       "  </thead>\n",
       "  <tbody>\n",
       "    <tr>\n",
       "      <th>No consta</th>\n",
       "      <td>25200</td>\n",
       "    </tr>\n",
       "    <tr>\n",
       "      <th>Ocupantes con derecho</th>\n",
       "      <td>807</td>\n",
       "    </tr>\n",
       "    <tr>\n",
       "      <th>Ocupantes sin derecho</th>\n",
       "      <td>552</td>\n",
       "    </tr>\n",
       "    <tr>\n",
       "      <th>Otros</th>\n",
       "      <td>66</td>\n",
       "    </tr>\n",
       "    <tr>\n",
       "      <th>Sin ocupantes</th>\n",
       "      <td>4209</td>\n",
       "    </tr>\n",
       "  </tbody>\n",
       "</table>\n",
       "</div>"
      ],
      "text/plain": [
       "                       codSubasta\n",
       "Situación posesoria              \n",
       "No consta                   25200\n",
       "Ocupantes con derecho         807\n",
       "Ocupantes sin derecho         552\n",
       "Otros                          66\n",
       "Sin ocupantes                4209"
      ]
     },
     "execution_count": 56,
     "metadata": {},
     "output_type": "execute_result"
    }
   ],
   "source": [
    "bdFinal.pivot_table(values=\"codSubasta\", index=col, aggfunc=\"count\")"
   ]
  },
  {
   "cell_type": "markdown",
   "metadata": {},
   "source": [
    "* **Tipo subasta**: Corregimos y eliminamos los campos nulos del factor tipo subasta."
   ]
  },
  {
   "cell_type": "code",
   "execution_count": 57,
   "metadata": {},
   "outputs": [],
   "source": [
    "def corrTipoSub(tipoSub):\n",
    "    if type(tipoSub)!=str:\n",
    "        return \"Otros\"\n",
    "    else:\n",
    "        tipoSub = tipoSub.upper()\n",
    "        \n",
    "    if tipoSub in [\"JUDICIAL EN VIA DE APREMIO\",'JUDICIAL CONCURSAL','JUDICIAL VOLUNTARIA']:\n",
    "        return tipoSub    \n",
    "    if tipoSub.find('NOTARIA')!=-1:\n",
    "        return 'NOTARIAL'\n",
    "    else:\n",
    "        return \"Otros\"\n",
    "\n",
    "col='Tipo de subasta'\n",
    "bdFinal[col] = bdFinal[col].map(corrTipoSub)\n"
   ]
  },
  {
   "cell_type": "code",
   "execution_count": 58,
   "metadata": {},
   "outputs": [
    {
     "data": {
      "text/html": [
       "<div>\n",
       "<style scoped>\n",
       "    .dataframe tbody tr th:only-of-type {\n",
       "        vertical-align: middle;\n",
       "    }\n",
       "\n",
       "    .dataframe tbody tr th {\n",
       "        vertical-align: top;\n",
       "    }\n",
       "\n",
       "    .dataframe thead th {\n",
       "        text-align: right;\n",
       "    }\n",
       "</style>\n",
       "<table border=\"1\" class=\"dataframe\">\n",
       "  <thead>\n",
       "    <tr style=\"text-align: right;\">\n",
       "      <th></th>\n",
       "      <th>codSubasta</th>\n",
       "    </tr>\n",
       "    <tr>\n",
       "      <th>Tipo de subasta</th>\n",
       "      <th></th>\n",
       "    </tr>\n",
       "  </thead>\n",
       "  <tbody>\n",
       "    <tr>\n",
       "      <th>JUDICIAL CONCURSAL</th>\n",
       "      <td>1092</td>\n",
       "    </tr>\n",
       "    <tr>\n",
       "      <th>JUDICIAL EN VIA DE APREMIO</th>\n",
       "      <td>24416</td>\n",
       "    </tr>\n",
       "    <tr>\n",
       "      <th>JUDICIAL VOLUNTARIA</th>\n",
       "      <td>4243</td>\n",
       "    </tr>\n",
       "    <tr>\n",
       "      <th>NOTARIAL</th>\n",
       "      <td>1022</td>\n",
       "    </tr>\n",
       "    <tr>\n",
       "      <th>Otros</th>\n",
       "      <td>61</td>\n",
       "    </tr>\n",
       "  </tbody>\n",
       "</table>\n",
       "</div>"
      ],
      "text/plain": [
       "                            codSubasta\n",
       "Tipo de subasta                       \n",
       "JUDICIAL CONCURSAL                1092\n",
       "JUDICIAL EN VIA DE APREMIO       24416\n",
       "JUDICIAL VOLUNTARIA               4243\n",
       "NOTARIAL                          1022\n",
       "Otros                               61"
      ]
     },
     "execution_count": 58,
     "metadata": {},
     "output_type": "execute_result"
    }
   ],
   "source": [
    "bdFinal.pivot_table(values=\"codSubasta\", index=col, aggfunc=\"count\")\n",
    "\n"
   ]
  },
  {
   "cell_type": "markdown",
   "metadata": {},
   "source": [
    "* **Hay puja**: Creamos una variable que servirá como respuesta, que indica si ha habido puja máxima o no."
   ]
  },
  {
   "cell_type": "code",
   "execution_count": 59,
   "metadata": {},
   "outputs": [],
   "source": [
    "bdFinal[\"isPuja\"] = bdFinal[\"Puja\"].map(lambda x: 1 if x>0 else 0)"
   ]
  },
  {
   "cell_type": "markdown",
   "metadata": {},
   "source": [
    "**Convertimos en numéricas las variables categóricas**\n",
    "\n",
    "Primero dividiremos los factores en:\n",
    "- IDs\n",
    "- Numéricos\n",
    "- Categóricos"
   ]
  },
  {
   "cell_type": "code",
   "execution_count": 60,
   "metadata": {},
   "outputs": [],
   "source": [
    "def typCol(col):\n",
    "    a = bdFinal[col].dropna().reset_index(drop=True)\n",
    "    if len(a)>0:\n",
    "        if type(a[0])==str:\n",
    "            return str\n",
    "        else:\n",
    "            return float\n",
    "    else:\n",
    "        return None\n",
    "\n",
    "colResp = [\"Puja\", \"isPuja\"]\n",
    "colID = [\"codSubasta\", 'lote', 'estado', 'Forma adjudicación', 'Valor Subasta', 'Código Postal', \"Dirección\"]\n",
    "colCat = [\"Situación posesoria\", 'Visitable','Provincia', 'Tipo de subasta', 'tipoRef', 'tipoAutor', 'Vivienda habitual']\n",
    "colNum = [x for x in bdFinal.columns if typCol(x)==float and (x in (colCat+colID))==False]"
   ]
  },
  {
   "cell_type": "markdown",
   "metadata": {},
   "source": [
    "**A través del OneHotEncoder convertimos las variables categóricas en numéricas de tipo Boolean.**"
   ]
  },
  {
   "cell_type": "code",
   "execution_count": 61,
   "metadata": {},
   "outputs": [],
   "source": [
    "enc = preprocessing.OneHotEncoder(handle_unknown=\"ignore\")"
   ]
  },
  {
   "cell_type": "code",
   "execution_count": 62,
   "metadata": {},
   "outputs": [],
   "source": [
    "encTranform = enc.fit_transform(bdFinal[colCat])"
   ]
  },
  {
   "cell_type": "code",
   "execution_count": 63,
   "metadata": {},
   "outputs": [],
   "source": [
    "bdFinal=bdFinal.join(pd.DataFrame(data=encTranform.toarray(),columns=enc.get_feature_names()))\n",
    "colOHE = enc.get_feature_names().tolist()"
   ]
  },
  {
   "cell_type": "markdown",
   "metadata": {},
   "source": [
    "Creamos listas que nos permitan filtrar de forma rápida elb conjunto a analizar y si es la parte test o train.\n",
    "\n",
    "**Creamos tres conjuntos de datos**:\n",
    "\n",
    "    1. Lotes que tengan pujas. Para intentar estimar la puja más alta.\n",
    "    2. Todos los lotes, de subastas que no estén canceladas ni suspendidas, para intentar estimar los factores que hacen más atractivo un lote.\n",
    "    3. Todos los lotes, para poder mostrar en un mapa donde se sitúan."
   ]
  },
  {
   "cell_type": "code",
   "execution_count": 64,
   "metadata": {},
   "outputs": [],
   "source": [
    "conjPuja = bdFinal[\"Puja\"]>0\n",
    "conjCeleb = bdFinal[\"estado\"].isin([\"Concluida\",\"Finalizada\"])\n",
    "conjTrain = np.random.rand(len(bdFinal))<0.8\n",
    "conjTest = np.random.rand(len(bdFinal))>=0.8\n",
    "conjAll = np.random.rand(len(bdFinal))>=0"
   ]
  },
  {
   "cell_type": "markdown",
   "metadata": {},
   "source": [
    "#### _4.2. Comprobación de la normalidad y homogeneidad de la varianza._\n",
    "\n",
    "Se revisa para los factores:\n",
    "* Numéricos: Si se distribuyen de forma normal con la prueba de normalidad de Anderson Darling.\n",
    "* Categóricos: Si la varianza entre grupos es homogenea a través con Fligner-Killeen."
   ]
  },
  {
   "cell_type": "code",
   "execution_count": 106,
   "metadata": {
    "scrolled": true
   },
   "outputs": [
    {
     "name": "stderr",
     "output_type": "stream",
     "text": [
      "C:\\ProgramData\\Anaconda3\\lib\\site-packages\\scipy\\stats\\_distn_infrastructure.py:879: RuntimeWarning: invalid value encountered in greater\n",
      "  return (self.a < x) & (x < self.b)\n",
      "C:\\ProgramData\\Anaconda3\\lib\\site-packages\\scipy\\stats\\_distn_infrastructure.py:879: RuntimeWarning: invalid value encountered in less\n",
      "  return (self.a < x) & (x < self.b)\n",
      "C:\\ProgramData\\Anaconda3\\lib\\site-packages\\scipy\\stats\\_distn_infrastructure.py:1779: RuntimeWarning: invalid value encountered in greater_equal\n",
      "  cond2 = (x >= self.b) & cond0\n",
      "C:\\ProgramData\\Anaconda3\\lib\\site-packages\\scipy\\stats\\_distn_infrastructure.py:1865: RuntimeWarning: invalid value encountered in less_equal\n",
      "  cond2 = cond0 & (x <= self.a)\n",
      "C:\\ProgramData\\Anaconda3\\lib\\site-packages\\scipy\\stats\\_distn_infrastructure.py:879: RuntimeWarning: invalid value encountered in greater\n",
      "  return (self.a < x) & (x < self.b)\n",
      "C:\\ProgramData\\Anaconda3\\lib\\site-packages\\scipy\\stats\\_distn_infrastructure.py:879: RuntimeWarning: invalid value encountered in less\n",
      "  return (self.a < x) & (x < self.b)\n",
      "C:\\ProgramData\\Anaconda3\\lib\\site-packages\\scipy\\stats\\_distn_infrastructure.py:1779: RuntimeWarning: invalid value encountered in greater_equal\n",
      "  cond2 = (x >= self.b) & cond0\n",
      "C:\\ProgramData\\Anaconda3\\lib\\site-packages\\scipy\\stats\\_distn_infrastructure.py:1865: RuntimeWarning: invalid value encountered in less_equal\n",
      "  cond2 = cond0 & (x <= self.a)\n",
      "C:\\ProgramData\\Anaconda3\\lib\\site-packages\\numpy\\lib\\function_base.py:3250: RuntimeWarning: Invalid value encountered in median\n",
      "  r = func(a, **kwargs)\n"
     ]
    },
    {
     "name": "stdout",
     "output_type": "stream",
     "text": [
      "No hay factores con distribución normal.\n",
      "No hay factores con homogeneidad de la varianza.\n"
     ]
    }
   ],
   "source": [
    "# normality test\n",
    "for col in (colNum + colResp):\n",
    "    result = anderson(bdFinal[col])\n",
    "    printNormal=[]\n",
    "    colNormal=[]\n",
    "\n",
    "    for i in range(len(result.critical_values)-1,-1,-1):\n",
    "        sl, cv = result.significance_level[i], result.critical_values[i]\n",
    "        if result.statistic < result.critical_values[i]:\n",
    "            printNormal= printNormal + [col + ' data looks normal at ' + str(sl) + 'significant level']\n",
    "            colNormal= colNormal + [col]\n",
    "\n",
    "# normality test\n",
    "for col in (colOHE):\n",
    "    subsetTrue = bdFinal[col]==0\n",
    "    result = stats.fligner(bdFinal[subsetTrue][\"Puja\"],bdFinal[subsetTrue==False][\"Puja\"])\n",
    "    printVarUnif=[]\n",
    "    colVarUnif=[]\n",
    "\n",
    "    if result.pvalue>0.05:\n",
    "        printVarUnif= printVarUnif + ['La varianza es uniforme para los valores del factor ' + col]\n",
    "        colVarUnif= colVarUnif + [col]\n",
    "            \n",
    "if len(colNormal)==0:\n",
    "    print(\"No hay factores con distribución normal.\")\n",
    "else:\n",
    "    print(\"Los factores con distribución normal son:\")\n",
    "    for infoPrint in printNormal:\n",
    "        print(infoPrint)\n",
    "\n",
    "if len(colVarUnif)==0:\n",
    "    print(\"No hay factores con homogeneidad de la varianza.\")\n",
    "else:\n",
    "    print(\"Los factores categorícos con homogeneidad de la varianza son:\")\n",
    "    for infoPrint in printVarUnif:\n",
    "        print(infoPrint)"
   ]
  },
  {
   "cell_type": "markdown",
   "metadata": {},
   "source": [
    "#### _4.3. Aplicación de pruebas estadísticas para comparar los grupos de datos. En función de los datos y el objetivo del estudio, aplicar pruebas de contraste de hipótesis, correlaciones, regresiones, etc. Aplicar al menos tres métodos de análisis diferentes._"
   ]
  },
  {
   "cell_type": "markdown",
   "metadata": {},
   "source": [
    "* **Analisis de correlaciones**: Analizamos la correlación de las diferentes variables de la BBDD con la vble respuesta."
   ]
  },
  {
   "cell_type": "code",
   "execution_count": 66,
   "metadata": {},
   "outputs": [
    {
     "data": {
      "text/html": [
       "<div>\n",
       "<style scoped>\n",
       "    .dataframe tbody tr th:only-of-type {\n",
       "        vertical-align: middle;\n",
       "    }\n",
       "\n",
       "    .dataframe tbody tr th {\n",
       "        vertical-align: top;\n",
       "    }\n",
       "\n",
       "    .dataframe thead th {\n",
       "        text-align: right;\n",
       "    }\n",
       "</style>\n",
       "<table border=\"1\" class=\"dataframe\">\n",
       "  <thead>\n",
       "    <tr style=\"text-align: right;\">\n",
       "      <th></th>\n",
       "      <th>Puja</th>\n",
       "      <th>isPuja</th>\n",
       "    </tr>\n",
       "  </thead>\n",
       "  <tbody>\n",
       "    <tr>\n",
       "      <th>Puja</th>\n",
       "      <td>1.000000</td>\n",
       "      <td>0.540400</td>\n",
       "    </tr>\n",
       "    <tr>\n",
       "      <th>isPuja</th>\n",
       "      <td>0.540400</td>\n",
       "      <td>1.000000</td>\n",
       "    </tr>\n",
       "    <tr>\n",
       "      <th>Valor Subasta</th>\n",
       "      <td>0.397759</td>\n",
       "      <td>-0.020616</td>\n",
       "    </tr>\n",
       "    <tr>\n",
       "      <th>x3_JUDICIAL VOLUNTARIA</th>\n",
       "      <td>0.117916</td>\n",
       "      <td>0.118007</td>\n",
       "    </tr>\n",
       "    <tr>\n",
       "      <th>x5_OTROS JUZGADOS</th>\n",
       "      <td>0.091889</td>\n",
       "      <td>0.236796</td>\n",
       "    </tr>\n",
       "    <tr>\n",
       "      <th>numBienes</th>\n",
       "      <td>0.072105</td>\n",
       "      <td>-0.014522</td>\n",
       "    </tr>\n",
       "    <tr>\n",
       "      <th>Valor de tasación</th>\n",
       "      <td>0.070868</td>\n",
       "      <td>-0.031332</td>\n",
       "    </tr>\n",
       "    <tr>\n",
       "      <th>x2_BARCELONA</th>\n",
       "      <td>0.069503</td>\n",
       "      <td>0.073190</td>\n",
       "    </tr>\n",
       "    <tr>\n",
       "      <th>yearInicio</th>\n",
       "      <td>0.063710</td>\n",
       "      <td>0.167789</td>\n",
       "    </tr>\n",
       "    <tr>\n",
       "      <th>x1_Sí</th>\n",
       "      <td>0.051886</td>\n",
       "      <td>0.074097</td>\n",
       "    </tr>\n",
       "    <tr>\n",
       "      <th>x6_No</th>\n",
       "      <td>0.048314</td>\n",
       "      <td>0.033412</td>\n",
       "    </tr>\n",
       "    <tr>\n",
       "      <th>x0_Sin ocupantes</th>\n",
       "      <td>0.045473</td>\n",
       "      <td>0.065617</td>\n",
       "    </tr>\n",
       "    <tr>\n",
       "      <th>numAcreedores</th>\n",
       "      <td>0.044825</td>\n",
       "      <td>0.147316</td>\n",
       "    </tr>\n",
       "    <tr>\n",
       "      <th>Tasación</th>\n",
       "      <td>0.043546</td>\n",
       "      <td>-0.065540</td>\n",
       "    </tr>\n",
       "    <tr>\n",
       "      <th>Importe del depósito</th>\n",
       "      <td>0.035998</td>\n",
       "      <td>-0.023611</td>\n",
       "    </tr>\n",
       "    <tr>\n",
       "      <th>Cantidad reclamada</th>\n",
       "      <td>0.028964</td>\n",
       "      <td>0.026581</td>\n",
       "    </tr>\n",
       "    <tr>\n",
       "      <th>Lotes</th>\n",
       "      <td>0.024460</td>\n",
       "      <td>-0.053605</td>\n",
       "    </tr>\n",
       "    <tr>\n",
       "      <th>acreedorPrivilegiado</th>\n",
       "      <td>0.023127</td>\n",
       "      <td>0.212519</td>\n",
       "    </tr>\n",
       "    <tr>\n",
       "      <th>x3_JUDICIAL CONCURSAL</th>\n",
       "      <td>0.019798</td>\n",
       "      <td>0.269639</td>\n",
       "    </tr>\n",
       "    <tr>\n",
       "      <th>x0_Ocupantes sin derecho</th>\n",
       "      <td>0.017756</td>\n",
       "      <td>0.030134</td>\n",
       "    </tr>\n",
       "    <tr>\n",
       "      <th>x0_Ocupantes con derecho</th>\n",
       "      <td>0.016602</td>\n",
       "      <td>0.050349</td>\n",
       "    </tr>\n",
       "    <tr>\n",
       "      <th>x4_Desconocido</th>\n",
       "      <td>0.014202</td>\n",
       "      <td>-0.046443</td>\n",
       "    </tr>\n",
       "    <tr>\n",
       "      <th>x4_Parcela</th>\n",
       "      <td>0.013858</td>\n",
       "      <td>0.019220</td>\n",
       "    </tr>\n",
       "    <tr>\n",
       "      <th>x2_GERONA</th>\n",
       "      <td>0.006648</td>\n",
       "      <td>0.006769</td>\n",
       "    </tr>\n",
       "    <tr>\n",
       "      <th>x0_Otros</th>\n",
       "      <td>0.001164</td>\n",
       "      <td>0.020690</td>\n",
       "    </tr>\n",
       "    <tr>\n",
       "      <th>x6_Desconocido</th>\n",
       "      <td>-0.000173</td>\n",
       "      <td>-0.012741</td>\n",
       "    </tr>\n",
       "    <tr>\n",
       "      <th>numInteresados</th>\n",
       "      <td>-0.001292</td>\n",
       "      <td>-0.104477</td>\n",
       "    </tr>\n",
       "    <tr>\n",
       "      <th>Tramos entre pujas_y</th>\n",
       "      <td>-0.003916</td>\n",
       "      <td>-0.011005</td>\n",
       "    </tr>\n",
       "    <tr>\n",
       "      <th>x3_Otros</th>\n",
       "      <td>-0.004602</td>\n",
       "      <td>0.029026</td>\n",
       "    </tr>\n",
       "    <tr>\n",
       "      <th>x5_Otros</th>\n",
       "      <td>-0.004988</td>\n",
       "      <td>0.038060</td>\n",
       "    </tr>\n",
       "    <tr>\n",
       "      <th>x4_Inmueble</th>\n",
       "      <td>-0.016495</td>\n",
       "      <td>0.043512</td>\n",
       "    </tr>\n",
       "    <tr>\n",
       "      <th>monthInicio</th>\n",
       "      <td>-0.025447</td>\n",
       "      <td>-0.005731</td>\n",
       "    </tr>\n",
       "    <tr>\n",
       "      <th>x5_Notaría</th>\n",
       "      <td>-0.030377</td>\n",
       "      <td>-0.031329</td>\n",
       "    </tr>\n",
       "    <tr>\n",
       "      <th>x3_NOTARIAL</th>\n",
       "      <td>-0.030377</td>\n",
       "      <td>-0.031329</td>\n",
       "    </tr>\n",
       "    <tr>\n",
       "      <th>x2_Otros</th>\n",
       "      <td>-0.041644</td>\n",
       "      <td>-0.019891</td>\n",
       "    </tr>\n",
       "    <tr>\n",
       "      <th>x1_No</th>\n",
       "      <td>-0.051886</td>\n",
       "      <td>-0.074097</td>\n",
       "    </tr>\n",
       "    <tr>\n",
       "      <th>x6_Sí</th>\n",
       "      <td>-0.052262</td>\n",
       "      <td>-0.027441</td>\n",
       "    </tr>\n",
       "    <tr>\n",
       "      <th>x0_No consta</th>\n",
       "      <td>-0.053581</td>\n",
       "      <td>-0.091911</td>\n",
       "    </tr>\n",
       "    <tr>\n",
       "      <th>Puja mínima</th>\n",
       "      <td>-0.065031</td>\n",
       "      <td>-0.102229</td>\n",
       "    </tr>\n",
       "    <tr>\n",
       "      <th>x5_JUZGADO 1ª INST</th>\n",
       "      <td>-0.065336</td>\n",
       "      <td>-0.213169</td>\n",
       "    </tr>\n",
       "    <tr>\n",
       "      <th>x2_TARRAGONA</th>\n",
       "      <td>-0.065487</td>\n",
       "      <td>-0.082050</td>\n",
       "    </tr>\n",
       "    <tr>\n",
       "      <th>x3_JUDICIAL EN VIA DE APREMIO</th>\n",
       "      <td>-0.080392</td>\n",
       "      <td>-0.212251</td>\n",
       "    </tr>\n",
       "    <tr>\n",
       "      <th>Código Postal</th>\n",
       "      <td>-0.082645</td>\n",
       "      <td>-0.090550</td>\n",
       "    </tr>\n",
       "    <tr>\n",
       "      <th>monthConclusion</th>\n",
       "      <td>NaN</td>\n",
       "      <td>NaN</td>\n",
       "    </tr>\n",
       "    <tr>\n",
       "      <th>yearConclusion</th>\n",
       "      <td>NaN</td>\n",
       "      <td>NaN</td>\n",
       "    </tr>\n",
       "  </tbody>\n",
       "</table>\n",
       "</div>"
      ],
      "text/plain": [
       "                                   Puja    isPuja\n",
       "Puja                           1.000000  0.540400\n",
       "isPuja                         0.540400  1.000000\n",
       "Valor Subasta                  0.397759 -0.020616\n",
       "x3_JUDICIAL VOLUNTARIA         0.117916  0.118007\n",
       "x5_OTROS JUZGADOS              0.091889  0.236796\n",
       "numBienes                      0.072105 -0.014522\n",
       "Valor de tasación              0.070868 -0.031332\n",
       "x2_BARCELONA                   0.069503  0.073190\n",
       "yearInicio                     0.063710  0.167789\n",
       "x1_Sí                          0.051886  0.074097\n",
       "x6_No                          0.048314  0.033412\n",
       "x0_Sin ocupantes               0.045473  0.065617\n",
       "numAcreedores                  0.044825  0.147316\n",
       "Tasación                       0.043546 -0.065540\n",
       "Importe del depósito           0.035998 -0.023611\n",
       "Cantidad reclamada             0.028964  0.026581\n",
       "Lotes                          0.024460 -0.053605\n",
       "acreedorPrivilegiado           0.023127  0.212519\n",
       "x3_JUDICIAL CONCURSAL          0.019798  0.269639\n",
       "x0_Ocupantes sin derecho       0.017756  0.030134\n",
       "x0_Ocupantes con derecho       0.016602  0.050349\n",
       "x4_Desconocido                 0.014202 -0.046443\n",
       "x4_Parcela                     0.013858  0.019220\n",
       "x2_GERONA                      0.006648  0.006769\n",
       "x0_Otros                       0.001164  0.020690\n",
       "x6_Desconocido                -0.000173 -0.012741\n",
       "numInteresados                -0.001292 -0.104477\n",
       "Tramos entre pujas_y          -0.003916 -0.011005\n",
       "x3_Otros                      -0.004602  0.029026\n",
       "x5_Otros                      -0.004988  0.038060\n",
       "x4_Inmueble                   -0.016495  0.043512\n",
       "monthInicio                   -0.025447 -0.005731\n",
       "x5_Notaría                    -0.030377 -0.031329\n",
       "x3_NOTARIAL                   -0.030377 -0.031329\n",
       "x2_Otros                      -0.041644 -0.019891\n",
       "x1_No                         -0.051886 -0.074097\n",
       "x6_Sí                         -0.052262 -0.027441\n",
       "x0_No consta                  -0.053581 -0.091911\n",
       "Puja mínima                   -0.065031 -0.102229\n",
       "x5_JUZGADO 1ª INST            -0.065336 -0.213169\n",
       "x2_TARRAGONA                  -0.065487 -0.082050\n",
       "x3_JUDICIAL EN VIA DE APREMIO -0.080392 -0.212251\n",
       "Código Postal                 -0.082645 -0.090550\n",
       "monthConclusion                     NaN       NaN\n",
       "yearConclusion                      NaN       NaN"
      ]
     },
     "execution_count": 66,
     "metadata": {},
     "output_type": "execute_result"
    }
   ],
   "source": [
    "bdFinal.corr().loc[colResp].transpose().sort_values(ascending=False,by=[colResp[0]])"
   ]
  },
  {
   "cell_type": "markdown",
   "metadata": {},
   "source": [
    "Los factores más correlacionados con el precio de la máxima puja son los tramos entre pujas y la tasación del lote. Ambos factores muy relacionados con el precio de los bienes."
   ]
  },
  {
   "cell_type": "markdown",
   "metadata": {},
   "source": [
    "* **Calculamos si es cierto que las subastas del tipo \"judicial via apremio\" tiene una valor medio de puja inferior**\n",
    "\n",
    "Este tipo de subasta se dan en el último momento, cuando cuando se quiere obtener ya el dinero para poder saldar las deudas con los acreedores. Es un proceso que debido a las primas podríamos esperar que se malvendan los bienes.\n",
    "\n",
    "Por otra parte intentaremos hacer el mismo procedimiento para las variables creadas a través del OneHotEncoder."
   ]
  },
  {
   "cell_type": "code",
   "execution_count": 67,
   "metadata": {},
   "outputs": [
    {
     "name": "stdout",
     "output_type": "stream",
     "text": [
      "\u001b[1mSe descarta la hipotesis nula\u001b[0;0m, las medias son significativamente diferentes para el factor x3_JUDICIAL EN VIA DE APREMIO.\n",
      "\tp-Value:0.000000 \n",
      "\tMedia true:65100.541422 \n",
      "\ttMedia False:124643.188345\n"
     ]
    },
    {
     "name": "stderr",
     "output_type": "stream",
     "text": [
      "C:\\ProgramData\\Anaconda3\\lib\\site-packages\\pandas\\core\\computation\\expressions.py:180: UserWarning: evaluating in Python space because the '*' operator is not supported by numexpr for the bool dtype, use '&' instead\n",
      "  .format(op=op_str, alt_op=unsupported[op_str]))\n"
     ]
    }
   ],
   "source": [
    "# Calculamos el t-statistic y obtenemos el p-value\n",
    "col='x3_JUDICIAL EN VIA DE APREMIO'\n",
    "ttest = stats.ttest_ind(bdFinal[(bdFinal[col]==1)*conjPuja]['Puja'],\n",
    "                     bdFinal[(bdFinal[col]==0)*conjPuja]['Puja'],\n",
    "           )\n",
    "tValue = stats.t.ppf(0.95,2)\n",
    "if ttest.statistic>tValue:\n",
    "    print(\"\\033[1m\"+\"Se descarta la hipotesis nula\"+\"\\033[0;0m\"+\", las medias son significativamente diferentes para el factor %s.\\n\\tp-Value:%f \\n\\tMedia true:%f \\n\\ttMedia False:%f\"%\n",
    "          (col,\n",
    "           ttest.pvalue,\n",
    "           bdFinal[(bdFinal[col]==0)*conjPuja]['Puja'].mean(),\n",
    "           bdFinal[(bdFinal[col]==1)*conjPuja]['Puja'].mean()))"
   ]
  },
  {
   "cell_type": "markdown",
   "metadata": {},
   "source": [
    "Hacemos lo mismo anterior para el resto de variables boolean"
   ]
  },
  {
   "cell_type": "code",
   "execution_count": 110,
   "metadata": {},
   "outputs": [
    {
     "name": "stdout",
     "output_type": "stream",
     "text": [
      "\u001b[1mNo se decarta la hipotesis nula\u001b[0;0m, las medias son significativamente iguales para el factor x0_No consta.\n",
      "\tp-Value:0.004165 \n",
      "\tMedia true:92060.117374 \n",
      "\ttMedia False:103880.232972\n",
      "\u001b[1mNo se decarta la hipotesis nula\u001b[0;0m, las medias son significativamente iguales para el factor x0_Ocupantes con derecho.\n",
      "\tp-Value:0.229553 \n",
      "\tMedia true:101250.673403 \n",
      "\ttMedia False:90635.294714\n",
      "\u001b[1mNo se decarta la hipotesis nula\u001b[0;0m, las medias son significativamente iguales para el factor x0_Ocupantes sin derecho.\n",
      "\tp-Value:0.034339 \n",
      "\tMedia true:100144.587534 \n",
      "\ttMedia False:123904.795217\n",
      "\u001b[1mNo se decarta la hipotesis nula\u001b[0;0m, las medias son significativamente iguales para el factor x0_Otros.\n",
      "\tp-Value:0.135691 \n",
      "\tMedia true:100959.597493 \n",
      "\ttMedia False:59473.799545\n",
      "\u001b[1mNo se decarta la hipotesis nula\u001b[0;0m, las medias son significativamente iguales para el factor x0_Sin ocupantes.\n",
      "\tp-Value:0.001249 \n",
      "\tMedia true:103588.469957 \n",
      "\ttMedia False:88569.761696\n",
      "\u001b[1mNo se decarta la hipotesis nula\u001b[0;0m, las medias son significativamente iguales para el factor x1_No.\n",
      "\tp-Value:0.007490 \n",
      "\tMedia true:88498.091023 \n",
      "\ttMedia False:102698.324833\n",
      "\u001b[1mNo se decarta la hipotesis nula\u001b[0;0m, las medias son significativamente iguales para el factor x1_Sí.\n",
      "\tp-Value:0.007490 \n",
      "\tMedia true:102698.324833 \n",
      "\ttMedia False:88498.091023\n",
      "\u001b[1mSe descarta la hipotesis nula\u001b[0;0m, las medias son significativamente diferentes para el factor x2_BARCELONA.\n",
      "\tp-Value:0.000000 \n",
      "\tMedia true:82938.609083 \n",
      "\ttMedia False:112503.446659\n",
      "\u001b[1mNo se decarta la hipotesis nula\u001b[0;0m, las medias son significativamente iguales para el factor x2_GERONA.\n",
      "\tp-Value:0.526177 \n",
      "\tMedia true:101298.675147 \n",
      "\ttMedia False:98220.385539\n",
      "\u001b[1mNo se decarta la hipotesis nula\u001b[0;0m, las medias son significativamente iguales para el factor x2_Otros.\n",
      "\tp-Value:0.000000 \n",
      "\tMedia true:105734.441645 \n",
      "\ttMedia False:58568.310111\n",
      "\u001b[1mNo se decarta la hipotesis nula\u001b[0;0m, las medias son significativamente iguales para el factor x2_TARRAGONA.\n",
      "\tp-Value:0.000211 \n",
      "\tMedia true:103306.363126 \n",
      "\ttMedia False:82894.251164\n",
      "\u001b[1mNo se decarta la hipotesis nula\u001b[0;0m, las medias son significativamente iguales para el factor x3_JUDICIAL CONCURSAL.\n",
      "\tp-Value:0.000000 \n",
      "\tMedia true:111226.271866 \n",
      "\ttMedia False:40081.644238\n",
      "\u001b[1mSe descarta la hipotesis nula\u001b[0;0m, las medias son significativamente diferentes para el factor x3_JUDICIAL EN VIA DE APREMIO.\n",
      "\tp-Value:0.000000 \n",
      "\tMedia true:65100.541422 \n",
      "\ttMedia False:124643.188345\n",
      "\u001b[1mNo se decarta la hipotesis nula\u001b[0;0m, las medias son significativamente iguales para el factor x3_JUDICIAL VOLUNTARIA.\n",
      "\tp-Value:0.000000 \n",
      "\tMedia true:107981.072359 \n",
      "\ttMedia False:76471.172111\n",
      "\u001b[1mNo se decarta la hipotesis nula\u001b[0;0m, las medias son significativamente iguales para el factor x3_NOTARIAL.\n",
      "\tp-Value:0.122400 \n",
      "\tMedia true:100375.483071 \n",
      "\ttMedia False:120105.793585\n",
      "\u001b[1mNo se decarta la hipotesis nula\u001b[0;0m, las medias son significativamente iguales para el factor x3_Otros.\n",
      "\tp-Value:0.065873 \n",
      "\tMedia true:101015.394535 \n",
      "\ttMedia False:53029.324800\n",
      "\u001b[1mNo se decarta la hipotesis nula\u001b[0;0m, las medias son significativamente iguales para el factor x4_Desconocido.\n",
      "\tp-Value:0.067953 \n",
      "\tMedia true:105408.075686 \n",
      "\ttMedia False:98410.660715\n",
      "\u001b[1mNo se decarta la hipotesis nula\u001b[0;0m, las medias son significativamente iguales para el factor x4_Inmueble.\n",
      "\tp-Value:0.069001 \n",
      "\tMedia true:98466.624086 \n",
      "\ttMedia False:105484.110636\n",
      "\u001b[1mNo se decarta la hipotesis nula\u001b[0;0m, las medias son significativamente iguales para el factor x4_Parcela.\n",
      "\tp-Value:0.924063 \n",
      "\tMedia true:100765.701821 \n",
      "\ttMedia False:102603.047174\n",
      "\u001b[1mSe descarta la hipotesis nula\u001b[0;0m, las medias son significativamente diferentes para el factor x5_JUZGADO 1ª INST.\n",
      "\tp-Value:0.000000 \n",
      "\tMedia true:61294.495866 \n",
      "\ttMedia False:129215.877174\n",
      "\u001b[1mNo se decarta la hipotesis nula\u001b[0;0m, las medias son significativamente iguales para el factor x5_Notaría.\n",
      "\tp-Value:0.122400 \n",
      "\tMedia true:100375.483071 \n",
      "\ttMedia False:120105.793585\n",
      "\u001b[1mNo se decarta la hipotesis nula\u001b[0;0m, las medias son significativamente iguales para el factor x5_OTROS JUZGADOS.\n",
      "\tp-Value:0.000000 \n",
      "\tMedia true:127828.639274 \n",
      "\ttMedia False:58417.377081\n",
      "\u001b[1mNo se decarta la hipotesis nula\u001b[0;0m, las medias son significativamente iguales para el factor x5_Otros.\n",
      "\tp-Value:0.010783 \n",
      "\tMedia true:101206.884420 \n",
      "\ttMedia False:50404.925814\n",
      "\u001b[1mNo se decarta la hipotesis nula\u001b[0;0m, las medias son significativamente iguales para el factor x6_Desconocido.\n",
      "\tp-Value:0.000000 \n",
      "\tMedia true:109898.432448 \n",
      "\ttMedia False:89548.989857\n",
      "\u001b[1mNo se decarta la hipotesis nula\u001b[0;0m, las medias son significativamente iguales para el factor x6_No.\n",
      "\tp-Value:0.126676 \n",
      "\tMedia true:103142.472113 \n",
      "\ttMedia False:97527.665578\n",
      "\u001b[1mSe descarta la hipotesis nula\u001b[0;0m, las medias son significativamente diferentes para el factor x6_Sí.\n",
      "\tp-Value:0.000000 \n",
      "\tMedia true:93411.483567 \n",
      "\ttMedia False:149404.485583\n",
      "Los factores para los que se descata la hipotesis nula son:\n",
      "x2_BARCELONA\n",
      "x3_JUDICIAL EN VIA DE APREMIO\n",
      "x5_JUZGADO 1ª INST\n",
      "x6_Sí\n"
     ]
    }
   ],
   "source": [
    "# Calculamos el t-statistic y obtenemos el p-value\n",
    "def tTest_gen(col):\n",
    "    ttest = stats.ttest_ind(bdFinal[(bdFinal[col]==1)*conjPuja]['Puja'],\n",
    "                         bdFinal[(bdFinal[col]==0)*conjPuja]['Puja'],\n",
    "               )\n",
    "    tValue = stats.t.ppf(0.95,2)\n",
    "    if ttest.statistic>tValue:\n",
    "        print(\"\\033[1m\"+\"Se descarta la hipotesis nula\"+\"\\033[0;0m\"+\", las medias son significativamente diferentes para el factor %s.\\n\\tp-Value:%f \\n\\tMedia true:%f \\n\\ttMedia False:%f\"%\n",
    "              (col,\n",
    "               ttest.pvalue,\n",
    "               bdFinal[(bdFinal[col]==0)*conjPuja]['Puja'].mean(),\n",
    "               bdFinal[(bdFinal[col]==1)*conjPuja]['Puja'].mean()))\n",
    "        return [col]\n",
    "    else:\n",
    "        print(\"\\033[1m\"+\"No se decarta la hipotesis nula\"+\"\\033[0;0m\"+\", las medias son significativamente iguales para el factor %s.\\n\\tp-Value:%f \\n\\tMedia true:%f \\n\\ttMedia False:%f\"%\n",
    "              (col,\n",
    "               ttest.pvalue,\n",
    "               bdFinal[(bdFinal[col]==0)*conjPuja]['Puja'].mean(),\n",
    "               bdFinal[(bdFinal[col]==1)*conjPuja]['Puja'].mean()))\n",
    "        return None\n",
    "    \n",
    "mediaDif = []\n",
    "for cc in colOHE:\n",
    "    tCol=tTest_gen(cc)\n",
    "    if tCol != None:\n",
    "        mediaDif = mediaDif + tCol\n",
    "    \n",
    "print('Los factores para los que se descata la hipotesis nula son:')\n",
    "for cc in mediaDif:\n",
    "    print(cc)\n",
    "    "
   ]
  },
  {
   "cell_type": "markdown",
   "metadata": {},
   "source": [
    "* **Modelo de regresión lineal**: hacemos un modelo de regrasión lineal para predecir el precio de la puja más alta."
   ]
  },
  {
   "cell_type": "code",
   "execution_count": 113,
   "metadata": {},
   "outputs": [],
   "source": [
    "GLM = linear_model.LinearRegression()"
   ]
  },
  {
   "cell_type": "code",
   "execution_count": 111,
   "metadata": {},
   "outputs": [],
   "source": [
    "models = [  {\"id\":1,\n",
    "             \"Xcol\":[\"Valor de tasación\", 'x3_JUDICIAL VOLUNTARIA', 'x2_BARCELONA','x1_Sí','x3_JUDICIAL EN VIA DE APREMIO']},\n",
    "            {\"id\":2,\n",
    "             \"Xcol\":[\"Valor de tasación\", 'x3_JUDICIAL VOLUNTARIA', 'x2_BARCELONA','x1_Sí','x0_Sin ocupantes']},\n",
    "            {\"id\":3,\n",
    "             \"Xcol\":['x3_JUDICIAL VOLUNTARIA', 'x2_BARCELONA','x1_Sí']},\n",
    "            {\"id\":4,\n",
    "             \"Xcol\":['x3_JUDICIAL VOLUNTARIA', 'x2_BARCELONA','x1_Sí','x3_JUDICIAL EN VIA DE APREMIO']},\n",
    "            {\"id\":5,\n",
    "             \"Xcol\":['x3_JUDICIAL VOLUNTARIA', 'x2_BARCELONA','x1_Sí','x0_Sin ocupantes']},\n",
    "            {\"id\":6,\n",
    "             \"Xcol\":[\"Valor de tasación\", 'x2_BARCELONA','x3_JUDICIAL EN VIA DE APREMIO','x5_JUZGADO 1ª INST','x6_Sí']}\n",
    "           ]"
   ]
  },
  {
   "cell_type": "code",
   "execution_count": 114,
   "metadata": {},
   "outputs": [
    {
     "name": "stderr",
     "output_type": "stream",
     "text": [
      "C:\\ProgramData\\Anaconda3\\lib\\site-packages\\pandas\\core\\computation\\expressions.py:180: UserWarning: evaluating in Python space because the '*' operator is not supported by numexpr for the bool dtype, use '&' instead\n",
      "  .format(op=op_str, alt_op=unsupported[op_str]))\n",
      "C:\\ProgramData\\Anaconda3\\lib\\site-packages\\pandas\\core\\computation\\expressions.py:180: UserWarning: evaluating in Python space because the '*' operator is not supported by numexpr for the bool dtype, use '&' instead\n",
      "  .format(op=op_str, alt_op=unsupported[op_str]))\n"
     ]
    },
    {
     "name": "stdout",
     "output_type": "stream",
     "text": [
      "Modelo 1 completado\n"
     ]
    },
    {
     "name": "stderr",
     "output_type": "stream",
     "text": [
      "C:\\ProgramData\\Anaconda3\\lib\\site-packages\\pandas\\core\\computation\\expressions.py:180: UserWarning: evaluating in Python space because the '*' operator is not supported by numexpr for the bool dtype, use '&' instead\n",
      "  .format(op=op_str, alt_op=unsupported[op_str]))\n",
      "C:\\ProgramData\\Anaconda3\\lib\\site-packages\\pandas\\core\\computation\\expressions.py:180: UserWarning: evaluating in Python space because the '*' operator is not supported by numexpr for the bool dtype, use '&' instead\n",
      "  .format(op=op_str, alt_op=unsupported[op_str]))\n",
      "C:\\ProgramData\\Anaconda3\\lib\\site-packages\\pandas\\core\\computation\\expressions.py:180: UserWarning: evaluating in Python space because the '*' operator is not supported by numexpr for the bool dtype, use '&' instead\n",
      "  .format(op=op_str, alt_op=unsupported[op_str]))\n"
     ]
    },
    {
     "name": "stdout",
     "output_type": "stream",
     "text": [
      "Modelo 2 completado\n"
     ]
    },
    {
     "name": "stderr",
     "output_type": "stream",
     "text": [
      "C:\\ProgramData\\Anaconda3\\lib\\site-packages\\pandas\\core\\computation\\expressions.py:180: UserWarning: evaluating in Python space because the '*' operator is not supported by numexpr for the bool dtype, use '&' instead\n",
      "  .format(op=op_str, alt_op=unsupported[op_str]))\n",
      "C:\\ProgramData\\Anaconda3\\lib\\site-packages\\pandas\\core\\computation\\expressions.py:180: UserWarning: evaluating in Python space because the '*' operator is not supported by numexpr for the bool dtype, use '&' instead\n",
      "  .format(op=op_str, alt_op=unsupported[op_str]))\n",
      "C:\\ProgramData\\Anaconda3\\lib\\site-packages\\pandas\\core\\computation\\expressions.py:180: UserWarning: evaluating in Python space because the '*' operator is not supported by numexpr for the bool dtype, use '&' instead\n",
      "  .format(op=op_str, alt_op=unsupported[op_str]))\n"
     ]
    },
    {
     "name": "stdout",
     "output_type": "stream",
     "text": [
      "Modelo 3 completado\n"
     ]
    },
    {
     "name": "stderr",
     "output_type": "stream",
     "text": [
      "C:\\ProgramData\\Anaconda3\\lib\\site-packages\\pandas\\core\\computation\\expressions.py:180: UserWarning: evaluating in Python space because the '*' operator is not supported by numexpr for the bool dtype, use '&' instead\n",
      "  .format(op=op_str, alt_op=unsupported[op_str]))\n",
      "C:\\ProgramData\\Anaconda3\\lib\\site-packages\\pandas\\core\\computation\\expressions.py:180: UserWarning: evaluating in Python space because the '*' operator is not supported by numexpr for the bool dtype, use '&' instead\n",
      "  .format(op=op_str, alt_op=unsupported[op_str]))\n",
      "C:\\ProgramData\\Anaconda3\\lib\\site-packages\\pandas\\core\\computation\\expressions.py:180: UserWarning: evaluating in Python space because the '*' operator is not supported by numexpr for the bool dtype, use '&' instead\n",
      "  .format(op=op_str, alt_op=unsupported[op_str]))\n"
     ]
    },
    {
     "name": "stdout",
     "output_type": "stream",
     "text": [
      "Modelo 4 completado\n"
     ]
    },
    {
     "name": "stderr",
     "output_type": "stream",
     "text": [
      "C:\\ProgramData\\Anaconda3\\lib\\site-packages\\pandas\\core\\computation\\expressions.py:180: UserWarning: evaluating in Python space because the '*' operator is not supported by numexpr for the bool dtype, use '&' instead\n",
      "  .format(op=op_str, alt_op=unsupported[op_str]))\n",
      "C:\\ProgramData\\Anaconda3\\lib\\site-packages\\pandas\\core\\computation\\expressions.py:180: UserWarning: evaluating in Python space because the '*' operator is not supported by numexpr for the bool dtype, use '&' instead\n",
      "  .format(op=op_str, alt_op=unsupported[op_str]))\n",
      "C:\\ProgramData\\Anaconda3\\lib\\site-packages\\pandas\\core\\computation\\expressions.py:180: UserWarning: evaluating in Python space because the '*' operator is not supported by numexpr for the bool dtype, use '&' instead\n",
      "  .format(op=op_str, alt_op=unsupported[op_str]))\n"
     ]
    },
    {
     "name": "stdout",
     "output_type": "stream",
     "text": [
      "Modelo 5 completado\n",
      "Modelo 6 completado\n"
     ]
    },
    {
     "name": "stderr",
     "output_type": "stream",
     "text": [
      "C:\\ProgramData\\Anaconda3\\lib\\site-packages\\pandas\\core\\computation\\expressions.py:180: UserWarning: evaluating in Python space because the '*' operator is not supported by numexpr for the bool dtype, use '&' instead\n",
      "  .format(op=op_str, alt_op=unsupported[op_str]))\n",
      "C:\\ProgramData\\Anaconda3\\lib\\site-packages\\pandas\\core\\computation\\expressions.py:180: UserWarning: evaluating in Python space because the '*' operator is not supported by numexpr for the bool dtype, use '&' instead\n",
      "  .format(op=op_str, alt_op=unsupported[op_str]))\n",
      "C:\\ProgramData\\Anaconda3\\lib\\site-packages\\pandas\\core\\computation\\expressions.py:180: UserWarning: evaluating in Python space because the '*' operator is not supported by numexpr for the bool dtype, use '&' instead\n",
      "  .format(op=op_str, alt_op=unsupported[op_str]))\n"
     ]
    }
   ],
   "source": [
    "for model in models:    \n",
    "    model[\"conjSinNaN\"] = bdFinal[model['Xcol']].isnull().apply(any,axis=1)==False\n",
    "    model[\"GLM\"] = GLM.fit(bdFinal[conjPuja*conjTrain*model[\"conjSinNaN\"]][model['Xcol']],bdFinal[conjPuja*conjTrain*model[\"conjSinNaN\"]][\"Puja\"])\n",
    "    model[\"trainScore\"] = model[\"GLM\"].score(bdFinal[conjPuja*conjTrain*model['conjSinNaN']][model['Xcol']],bdFinal[conjPuja*conjTrain*model['conjSinNaN']]['Puja'])\n",
    "    model[\"testScore\"] = model[\"GLM\"].score(bdFinal[conjPuja*conjTest*model['conjSinNaN']][model['Xcol']],bdFinal[conjPuja*conjTest*model['conjSinNaN']]['Puja'])\n",
    "    print(\"Modelo %d completado\"%model['id'])"
   ]
  },
  {
   "cell_type": "code",
   "execution_count": 115,
   "metadata": {},
   "outputs": [
    {
     "name": "stdout",
     "output_type": "stream",
     "text": [
      "1.- Score train: 0.478942 - Score test: 0.616451\n",
      "2.- Score train: 0.480347 - Score test: 0.613563\n",
      "3.- Score train: 0.023388 - Score test: 0.025023\n",
      "4.- Score train: 0.070318 - Score test: 0.063521\n",
      "5.- Score train: 0.023531 - Score test: 0.024015\n",
      "6.- Score train: 0.503588 - Score test: 0.630566\n"
     ]
    }
   ],
   "source": [
    "for model in models:\n",
    "    print(\"%d.- Score train: %f - Score test: %f\"%(model[\"id\"], model[\"trainScore\"],model[\"testScore\"]))"
   ]
  },
  {
   "cell_type": "markdown",
   "metadata": {},
   "source": [
    "El score tomará valores: \n",
    "* 0 en caso de un modelo que siempre prediga un valor constante.\n",
    "* 1 Si el modelo es perfecto. Es el mejor modelo.\n",
    "* -1 si el modelo empeora la predicción respecto a un valor fijo.\n",
    "\n",
    "Conclusión, el mejor modelo es el 6 que incluye además del valor de tasación todas aquellos factores para los que el ttest ha salida que la media era significativamente diferente: 'x2_BARCELONA','x3_JUDICIAL EN VIA DE APREMIO','x5_JUZGADO 1ª INST','x6_Sí'__."
   ]
  },
  {
   "cell_type": "markdown",
   "metadata": {},
   "source": [
    "### _5. Representación de los resultados a partir de tablas y gráficas._\n",
    "\n",
    "Mostramos gráficamente:\n",
    "* La posición de cada una de las direcciones en el mapa.\n",
    "* Scater plot entre valor de tasación y importe de las pujas\n",
    "* Tablas dinámicas con las pujas medias para aquellos factores que han tenido un resultado positivo en el ttest.\n"
   ]
  },
  {
   "cell_type": "markdown",
   "metadata": {},
   "source": [
    "Para mostrar cada subasta en el mapa se buscará las coordenadas de cada uno de los inmuebles a la API de openStreetMap. Para facilitar encontrar las direcciones se transforma el campo diferenciando entre la vía y número."
   ]
  },
  {
   "cell_type": "code",
   "execution_count": 154,
   "metadata": {},
   "outputs": [
    {
     "name": "stderr",
     "output_type": "stream",
     "text": [
      "C:\\ProgramData\\Anaconda3\\lib\\site-packages\\ipykernel_launcher.py:30: SettingWithCopyWarning: \n",
      "A value is trying to be set on a copy of a slice from a DataFrame.\n",
      "Try using .loc[row_indexer,col_indexer] = value instead\n",
      "\n",
      "See the caveats in the documentation: http://pandas.pydata.org/pandas-docs/stable/indexing.html#indexing-view-versus-copy\n",
      "C:\\ProgramData\\Anaconda3\\lib\\site-packages\\ipykernel_launcher.py:31: SettingWithCopyWarning: \n",
      "A value is trying to be set on a copy of a slice from a DataFrame.\n",
      "Try using .loc[row_indexer,col_indexer] = value instead\n",
      "\n",
      "See the caveats in the documentation: http://pandas.pydata.org/pandas-docs/stable/indexing.html#indexing-view-versus-copy\n",
      "C:\\ProgramData\\Anaconda3\\lib\\site-packages\\ipykernel_launcher.py:32: SettingWithCopyWarning: \n",
      "A value is trying to be set on a copy of a slice from a DataFrame.\n",
      "Try using .loc[row_indexer,col_indexer] = value instead\n",
      "\n",
      "See the caveats in the documentation: http://pandas.pydata.org/pandas-docs/stable/indexing.html#indexing-view-versus-copy\n"
     ]
    }
   ],
   "source": [
    "def fmtRoadName(roadName):\n",
    "    num=\"\"\n",
    "    via=\"\"\n",
    "    t=0\n",
    "    for ch in roadName:\n",
    "        t+=1\n",
    "        if ch.isnumeric():\n",
    "            num = ch\n",
    "            break\n",
    "    for ch2 in roadName[t:]:\n",
    "        if ch2.isnumeric():\n",
    "            num = num + ch2\n",
    "            break\n",
    "        else:\n",
    "            break\n",
    "    for ch3 in roadName[t::-1]:\n",
    "        t-=1\n",
    "        if ch3.isalpha():\n",
    "            break       \n",
    "    \n",
    "    via=roadName[:t+2]\n",
    "    \n",
    "    searchVia = num+\" \"+via\n",
    "    return [via, num, searchVia]\n",
    "    \n",
    "    \n",
    "bdDirec = bdFinal[['Dirección', 'Localidad', 'Código Postal', 'Provincia']]\n",
    "\n",
    "a = bdDirec['Dirección'].map(fmtRoadName) \n",
    "bdDirec[\"Via\"] = [x[0] for x in a]\n",
    "bdDirec[\"num\"] = [x[1] for x in a]\n",
    "bdDirec[\"searchVia\"] = [x[2] for x in a]\n"
   ]
  },
  {
   "cell_type": "code",
   "execution_count": 184,
   "metadata": {},
   "outputs": [
    {
     "name": "stdout",
     "output_type": "stream",
     "text": [
      "Se ha encontrado las coordenadas del 39.644548%\n"
     ]
    }
   ],
   "source": [
    "# Respuesta\n",
    "%matplotlib inline\n",
    "\n",
    "# Function to get coordenate of places\n",
    "def getCoor(search):\n",
    "    rq = requests.get(\"https://nominatim.openstreetmap.org/search?street=%s&city=%s&country=%s&postalcode=%d&format=json&polygon=0&addressdetails=0\"%( \n",
    "                      search['Via'], \n",
    "                      search['Localidad'], \n",
    "                      'España',\n",
    "                      search['Código Postal']))\n",
    "    \n",
    "#     rq = requests.get(\"https://nominatim.openstreetmap.org/search?street=%s&city=%s&country=%s&format=json&polygon=0&addressdetails=0\"%\n",
    "#                       (search['searchVia'], \n",
    "#                        search['Localidad'], \n",
    "#                        'España'),\n",
    "#                      headers = {'User-agent': 'Mapa viv. ejecutadas por hipoteca'})\n",
    "    time.sleep(1)\n",
    "    if rq.status_code==200 and len(rq.json())>0:\n",
    "        js = rq.json()\n",
    "        return {\"lat\":float(js[0][\"lat\"]),\"lon\":float(js[0][\"lon\"]), \"name\":search}     \n",
    "    else:\n",
    "        return None\n",
    "    \n",
    "bdFinal.loc[bdDirec['Código Postal'].isnull(),'Código Postal']=int(0)\n",
    "coor = bdDirec[['Via', 'searchVia', 'Localidad', 'Código Postal', 'Provincia']][:].apply(lambda x: getCoor(x), axis=1)\n",
    "print(\"Se ha encontrado las coordenadas del %f%%\"%(100*len([x for x in coor if x !=None])/len(coor)))"
   ]
  },
  {
   "cell_type": "markdown",
   "metadata": {},
   "source": [
    "Mostramos las coordenadas encontradas en el mapa."
   ]
  },
  {
   "cell_type": "code",
   "execution_count": 89,
   "metadata": {},
   "outputs": [],
   "source": [
    "# pickle.dump(coor, open(p + \"csv/coor.p\", \"wb\" ) )\n",
    "coor = pickle.load(open(p + \"csv/coor.p\", \"rb\" ) )"
   ]
  },
  {
   "cell_type": "code",
   "execution_count": 90,
   "metadata": {},
   "outputs": [],
   "source": [
    "for i,x in enumerate(coor):\n",
    "    if x != None:\n",
    "        coor[i]['tipoRef']= bdFinal.loc[i,'tipoRef']\n",
    "        coor[i]['codSubasta']= bdFinal.loc[i,'codSubasta']"
   ]
  },
  {
   "cell_type": "code",
   "execution_count": 91,
   "metadata": {},
   "outputs": [
    {
     "name": "stdout",
     "output_type": "stream",
     "text": [
      "Color: r es Desconocido\n",
      "Color: b es Parcela\n",
      "Color: g es Inmueble\n"
     ]
    }
   ],
   "source": [
    "# Draw the point in the map\n",
    "t=0\n",
    "colors=[\"r\",\"b\",\"g\",\"y\"]\n",
    "# coor = coor.reset_index(name=\"coor\")\n",
    "for tipoRef in set(bdFinal['tipoRef']):\n",
    "    geoplotlib.dot(pd.DataFrame([c for c in coor[(bdFinal['tipoRef']==tipoRef) & (bdFinal['isPuja']==0)] if c != None]), \n",
    "                   point_size=3, \n",
    "                   color=colors[t],\n",
    "                   f_tooltip=lambda r:r[\"codSubasta\"])\n",
    "    print(\"Color: \" + colors[t] + \" es \" + tipoRef)\n",
    "    t+=1\n",
    "\n",
    "config = geoplotlib.AppConfig()\n",
    "config.requested_zoom=True\n",
    "# # Print the map\n",
    "geoplotlib.show()"
   ]
  },
  {
   "cell_type": "markdown",
   "metadata": {},
   "source": [
    "La localización general de los inmuebles encontrados son:"
   ]
  },
  {
   "cell_type": "code",
   "execution_count": 100,
   "metadata": {},
   "outputs": [
    {
     "data": {
      "image/jpeg": "[encoded data removed]",
      "text/plain": [
       "<IPython.core.display.Image object>"
      ]
     },
     "execution_count": 100,
     "metadata": {
      "image/jpeg": {
       "height": 400,
       "width": 400
      }
     },
     "output_type": "execute_result"
    }
   ],
   "source": [
    "Image(filename=p + 'png/España.JPG',width=400, height=400)"
   ]
  },
  {
   "cell_type": "code",
   "execution_count": 101,
   "metadata": {},
   "outputs": [
    {
     "data": {
      "image/jpeg": "[encoded data removed]",
      "text/plain": [
       "<IPython.core.display.Image object>"
      ]
     },
     "execution_count": 101,
     "metadata": {
      "image/jpeg": {
       "height": 400,
       "width": 400
      }
     },
     "output_type": "execute_result"
    }
   ],
   "source": [
    "Image(filename=p + 'png/Catalunya.JPG',width=400, height=400)"
   ]
  },
  {
   "cell_type": "markdown",
   "metadata": {},
   "source": [
    "En el siguiente mapa se muestra la concentración de pisos subastados en el area de Barcelona. Se observa claramente que están principalmente en Las zonas más deprimidas, estando el centro de Barcelona sin casi subastas a excepción del Raval."
   ]
  },
  {
   "cell_type": "code",
   "execution_count": 103,
   "metadata": {},
   "outputs": [
    {
     "data": {
      "image/jpeg": "[encoded data removed]",
      "text/plain": [
       "<IPython.core.display.Image object>"
      ]
     },
     "execution_count": 103,
     "metadata": {
      "image/jpeg": {
       "height": 400,
       "width": 400
      }
     },
     "output_type": "execute_result"
    }
   ],
   "source": [
    "Image(filename=p + 'png/Area_bcn.JPG',width=400, height=400)"
   ]
  },
  {
   "cell_type": "markdown",
   "metadata": {},
   "source": [
    "Lo mismo ocurre en Girona con la ciudad de La Salud. Se observa una gran concentración de pisos subastados en La Salud, mientras que en Girona ciudad son escasos."
   ]
  },
  {
   "cell_type": "code",
   "execution_count": 104,
   "metadata": {},
   "outputs": [
    {
     "data": {
      "image/jpeg": "[encoded data removed]",
      "text/plain": [
       "<IPython.core.display.Image object>"
      ]
     },
     "execution_count": 104,
     "metadata": {
      "image/jpeg": {
       "height": 400,
       "width": 400
      }
     },
     "output_type": "execute_result"
    }
   ],
   "source": [
    "Image(filename=p + 'png/Girona.JPG',width=400, height=400)"
   ]
  },
  {
   "cell_type": "markdown",
   "metadata": {},
   "source": [
    "Analizamos la correlación entre el valor de tasación y el importe de la puja máxima."
   ]
  },
  {
   "cell_type": "code",
   "execution_count": 175,
   "metadata": {
    "scrolled": true
   },
   "outputs": [
    {
     "data": {
      "image/png": "[encoded data removed]",
      "text/plain": [
       "<Figure size 432x288 with 1 Axes>"
      ]
     },
     "metadata": {
      "needs_background": "light"
     },
     "output_type": "display_data"
    }
   ],
   "source": [
    "# cleanData = bdFinal['Valor de tasación']> bdFinal['Valor de tasación'].quantile(0.95)\n",
    "cleanData = (bdFinal['Puja']>0) & (bdFinal['Puja']< bdFinal['Puja'].quantile(0.99))&(bdFinal['Valor de tasación']< bdFinal['Valor de tasación'].quantile(0.95))\n",
    "\n",
    "\n",
    "\n",
    "X=bdFinal[cleanData]['Valor de tasación']\n",
    "Y=bdFinal[cleanData]['Puja']\n",
    "plt.scatter(X,Y)\n",
    "\n",
    "z = np.polyfit(X,Y, 1)\n",
    "p = np.poly1d(z)\n",
    "plt.plot(X,p(X),\"r--\")\n",
    "\n",
    "plt.xlabel('Valor de tasación')\n",
    "plt.ylabel('Puja')\n",
    "plt.title(\"Relación valor tasación y la puja máxima\")\n",
    "\n",
    "plt.show()"
   ]
  },
  {
   "cell_type": "markdown",
   "metadata": {},
   "source": [
    "Analizamos cada uno de los factores para los que el TTest indicaba que la media era significativamente diferentes.\n",
    "* Provincia iguala Barcelona: De todos los factores es el menos significativa."
   ]
  },
  {
   "cell_type": "code",
   "execution_count": 158,
   "metadata": {
    "scrolled": true
   },
   "outputs": [
    {
     "data": {
      "image/png": "[encoded data removed]",
      "text/plain": [
       "<Figure size 432x288 with 1 Axes>"
      ]
     },
     "metadata": {
      "needs_background": "light"
     },
     "output_type": "display_data"
    }
   ],
   "source": [
    "ax = sns.boxplot(x='x2_BARCELONA', y=\"Puja\", data=bdFinal.loc[bdFinal['Puja']>0], dodge=False)"
   ]
  },
  {
   "cell_type": "markdown",
   "metadata": {},
   "source": [
    "* Tipo de subasta __judicial en via de apremio__. Más del 50% de los valores de esta cateoría están por encima del quartil 75% del resto."
   ]
  },
  {
   "cell_type": "code",
   "execution_count": 155,
   "metadata": {},
   "outputs": [
    {
     "data": {
      "image/png": "[encoded data removed]",
      "text/plain": [
       "<Figure size 432x288 with 1 Axes>"
      ]
     },
     "metadata": {
      "needs_background": "light"
     },
     "output_type": "display_data"
    }
   ],
   "source": [
    "ax = sns.boxplot(x='x3_JUDICIAL EN VIA DE APREMIO', y=\"Puja\", data=bdFinal.loc[bdFinal['Puja']>0], dodge=False)"
   ]
  },
  {
   "cell_type": "markdown",
   "metadata": {},
   "source": [
    "* Tipo de entidad encargada de la subasta iguala Juzgado de 1º instancia. En este caso se puede apreciar como el total de los casos de este segmento tienen un importe superior a la media del otro."
   ]
  },
  {
   "cell_type": "code",
   "execution_count": 154,
   "metadata": {
    "scrolled": true
   },
   "outputs": [
    {
     "data": {
      "image/png": "[encoded data removed]",
      "text/plain": [
       "<Figure size 432x288 with 1 Axes>"
      ]
     },
     "metadata": {
      "needs_background": "light"
     },
     "output_type": "display_data"
    }
   ],
   "source": [
    "ax = sns.boxplot(x='x5_JUZGADO 1ª INST', y=\"Puja\", data=bdFinal.loc[bdFinal['Puja']>0], dodge=False)"
   ]
  },
  {
   "cell_type": "markdown",
   "metadata": {},
   "source": [
    "* Vivienda habitual. Este factor indica que las viviendas habituales reciben mejores ofertas que las secundarias."
   ]
  },
  {
   "cell_type": "code",
   "execution_count": 162,
   "metadata": {
    "scrolled": true
   },
   "outputs": [
    {
     "data": {
      "image/png": "[encoded data removed]",
      "text/plain": [
       "<Figure size 432x288 with 1 Axes>"
      ]
     },
     "metadata": {
      "needs_background": "light"
     },
     "output_type": "display_data"
    }
   ],
   "source": [
    "ax = sns.boxplot(x='x6_Sí', y=\"Puja\", data=bdFinal.loc[bdFinal['Puja']>0], dodge=False)"
   ]
  },
  {
   "cell_type": "markdown",
   "metadata": {},
   "source": [
    "### _6. Resolución del problema. A partir de los resultados obtenidos, ¿cuáles son las conclusiones? ¿Los resultados permiten responder al problema?_\n"
   ]
  },
  {
   "cell_type": "markdown",
   "metadata": {},
   "source": [
    "Los objetivos propuestos eran:\n",
    "    \n",
    "* Conocer donde está localizados los bienes subastados.\n",
    "\n",
    "Se ha podido visualizar como los inmuebles subastados están situados principalmente en aquellas zonas geográficas con menos recueros. Para poder confirmar esta afirmación sería necesario extraer datos a nivel población o código postal de las renta media para posteriormente hacer una prueba de hipótesis.\n",
    "Por consiguiente, podemos decir que no se ha podido responder del todo a la pregunta planteada.\n",
    "\n",
    "* Conocer precio de venta y los factores que más impactan en el mismo.\n",
    "\n",
    "Se han podido identificar los factores que más impactan en la puja máxima de una subasta y se ha hecho un modelo simple con el que poder estimar el importe.\n",
    "Se puede concluir que el procedimiento de la subasta (tipo de juzgado y tipo de subasta) afecta mucho al precio oferta final, tanto como el valor de tasación.\n",
    "\n",
    "Guardamos el fichero con los campos arreglados."
   ]
  },
  {
   "cell_type": "code",
   "execution_count": 161,
   "metadata": {},
   "outputs": [],
   "source": [
    "bdFinal.to_csv(p+\"csv/bbdd_post_DataCleaning.csv\")"
   ]
  },
  {
   "cell_type": "markdown",
   "metadata": {},
   "source": [
    "|Contribuciones| Firma |\n",
    "|---|---|\n",
    "|Investigación previa| Ander Estebanez Centeno|\n",
    "|Redacción de las respuestas| Ander Estebanez Centeno|\n",
    "|Desarrollo código| Ander Estebanez Centeno|"
   ]
  }
 ],
 "metadata": {
  "kernelspec": {
   "display_name": "Python 3",
   "language": "python",
   "name": "python3"
  },
  "language_info": {
   "codemirror_mode": {
    "name": "ipython",
    "version": 3
   },
   "file_extension": ".py",
   "mimetype": "text/x-python",
   "name": "python",
   "nbconvert_exporter": "python",
   "pygments_lexer": "ipython3",
   "version": "3.7.1"
  }
 },
 "nbformat": 4,
 "nbformat_minor": 2
}
